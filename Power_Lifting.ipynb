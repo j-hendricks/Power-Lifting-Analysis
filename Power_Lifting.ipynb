{
 "cells": [
  {
   "cell_type": "code",
   "execution_count": 1,
   "id": "a51b8dee",
   "metadata": {},
   "outputs": [],
   "source": [
    "%matplotlib inline\n",
    "import pandas as pd\n",
    "import numpy as np\n",
    "import matplotlib.pyplot as plt"
   ]
  },
  {
   "cell_type": "code",
   "execution_count": 2,
   "id": "2a480677",
   "metadata": {},
   "outputs": [
    {
     "name": "stderr",
     "output_type": "stream",
     "text": [
      "/Users/johnwhendricks/opt/anaconda3/envs/PythonData/lib/python3.7/site-packages/IPython/core/interactiveshell.py:3457: DtypeWarning: Columns (35) have mixed types.Specify dtype option on import or set low_memory=False.\n",
      "  exec(code_obj, self.user_global_ns, self.user_ns)\n"
     ]
    },
    {
     "data": {
      "text/html": [
       "<div>\n",
       "<style scoped>\n",
       "    .dataframe tbody tr th:only-of-type {\n",
       "        vertical-align: middle;\n",
       "    }\n",
       "\n",
       "    .dataframe tbody tr th {\n",
       "        vertical-align: top;\n",
       "    }\n",
       "\n",
       "    .dataframe thead th {\n",
       "        text-align: right;\n",
       "    }\n",
       "</style>\n",
       "<table border=\"1\" class=\"dataframe\">\n",
       "  <thead>\n",
       "    <tr style=\"text-align: right;\">\n",
       "      <th></th>\n",
       "      <th>Name</th>\n",
       "      <th>Sex</th>\n",
       "      <th>Event</th>\n",
       "      <th>Equipment</th>\n",
       "      <th>Age</th>\n",
       "      <th>AgeClass</th>\n",
       "      <th>Division</th>\n",
       "      <th>BodyweightKg</th>\n",
       "      <th>WeightClassKg</th>\n",
       "      <th>Squat1Kg</th>\n",
       "      <th>...</th>\n",
       "      <th>McCulloch</th>\n",
       "      <th>Glossbrenner</th>\n",
       "      <th>IPFPoints</th>\n",
       "      <th>Tested</th>\n",
       "      <th>Country</th>\n",
       "      <th>Federation</th>\n",
       "      <th>Date</th>\n",
       "      <th>MeetCountry</th>\n",
       "      <th>MeetState</th>\n",
       "      <th>MeetName</th>\n",
       "    </tr>\n",
       "  </thead>\n",
       "  <tbody>\n",
       "    <tr>\n",
       "      <th>0</th>\n",
       "      <td>Abbie Murphy</td>\n",
       "      <td>F</td>\n",
       "      <td>SBD</td>\n",
       "      <td>Wraps</td>\n",
       "      <td>29.0</td>\n",
       "      <td>24-34</td>\n",
       "      <td>F-OR</td>\n",
       "      <td>59.8</td>\n",
       "      <td>60</td>\n",
       "      <td>80.0</td>\n",
       "      <td>...</td>\n",
       "      <td>324.16</td>\n",
       "      <td>286.42</td>\n",
       "      <td>511.15</td>\n",
       "      <td>NaN</td>\n",
       "      <td>NaN</td>\n",
       "      <td>GPC-AUS</td>\n",
       "      <td>2018-10-27</td>\n",
       "      <td>Australia</td>\n",
       "      <td>VIC</td>\n",
       "      <td>Melbourne Cup</td>\n",
       "    </tr>\n",
       "    <tr>\n",
       "      <th>1</th>\n",
       "      <td>Abbie Tuong</td>\n",
       "      <td>F</td>\n",
       "      <td>SBD</td>\n",
       "      <td>Wraps</td>\n",
       "      <td>29.0</td>\n",
       "      <td>24-34</td>\n",
       "      <td>F-OR</td>\n",
       "      <td>58.5</td>\n",
       "      <td>60</td>\n",
       "      <td>100.0</td>\n",
       "      <td>...</td>\n",
       "      <td>378.07</td>\n",
       "      <td>334.16</td>\n",
       "      <td>595.65</td>\n",
       "      <td>NaN</td>\n",
       "      <td>NaN</td>\n",
       "      <td>GPC-AUS</td>\n",
       "      <td>2018-10-27</td>\n",
       "      <td>Australia</td>\n",
       "      <td>VIC</td>\n",
       "      <td>Melbourne Cup</td>\n",
       "    </tr>\n",
       "    <tr>\n",
       "      <th>2</th>\n",
       "      <td>Ainslee Hooper</td>\n",
       "      <td>F</td>\n",
       "      <td>B</td>\n",
       "      <td>Raw</td>\n",
       "      <td>40.0</td>\n",
       "      <td>40-44</td>\n",
       "      <td>F-OR</td>\n",
       "      <td>55.4</td>\n",
       "      <td>56</td>\n",
       "      <td>NaN</td>\n",
       "      <td>...</td>\n",
       "      <td>38.56</td>\n",
       "      <td>34.12</td>\n",
       "      <td>313.97</td>\n",
       "      <td>NaN</td>\n",
       "      <td>NaN</td>\n",
       "      <td>GPC-AUS</td>\n",
       "      <td>2018-10-27</td>\n",
       "      <td>Australia</td>\n",
       "      <td>VIC</td>\n",
       "      <td>Melbourne Cup</td>\n",
       "    </tr>\n",
       "    <tr>\n",
       "      <th>3</th>\n",
       "      <td>Amy Moldenhauer</td>\n",
       "      <td>F</td>\n",
       "      <td>SBD</td>\n",
       "      <td>Wraps</td>\n",
       "      <td>23.0</td>\n",
       "      <td>20-23</td>\n",
       "      <td>F-OR</td>\n",
       "      <td>60.0</td>\n",
       "      <td>60</td>\n",
       "      <td>-105.0</td>\n",
       "      <td>...</td>\n",
       "      <td>345.61</td>\n",
       "      <td>305.37</td>\n",
       "      <td>547.04</td>\n",
       "      <td>NaN</td>\n",
       "      <td>NaN</td>\n",
       "      <td>GPC-AUS</td>\n",
       "      <td>2018-10-27</td>\n",
       "      <td>Australia</td>\n",
       "      <td>VIC</td>\n",
       "      <td>Melbourne Cup</td>\n",
       "    </tr>\n",
       "    <tr>\n",
       "      <th>4</th>\n",
       "      <td>Andrea Rowan</td>\n",
       "      <td>F</td>\n",
       "      <td>SBD</td>\n",
       "      <td>Wraps</td>\n",
       "      <td>45.0</td>\n",
       "      <td>45-49</td>\n",
       "      <td>F-OR</td>\n",
       "      <td>104.0</td>\n",
       "      <td>110</td>\n",
       "      <td>120.0</td>\n",
       "      <td>...</td>\n",
       "      <td>338.91</td>\n",
       "      <td>274.56</td>\n",
       "      <td>550.08</td>\n",
       "      <td>NaN</td>\n",
       "      <td>NaN</td>\n",
       "      <td>GPC-AUS</td>\n",
       "      <td>2018-10-27</td>\n",
       "      <td>Australia</td>\n",
       "      <td>VIC</td>\n",
       "      <td>Melbourne Cup</td>\n",
       "    </tr>\n",
       "  </tbody>\n",
       "</table>\n",
       "<p>5 rows × 37 columns</p>\n",
       "</div>"
      ],
      "text/plain": [
       "              Name Sex Event Equipment   Age AgeClass Division  BodyweightKg  \\\n",
       "0     Abbie Murphy   F   SBD     Wraps  29.0    24-34     F-OR          59.8   \n",
       "1      Abbie Tuong   F   SBD     Wraps  29.0    24-34     F-OR          58.5   \n",
       "2   Ainslee Hooper   F     B       Raw  40.0    40-44     F-OR          55.4   \n",
       "3  Amy Moldenhauer   F   SBD     Wraps  23.0    20-23     F-OR          60.0   \n",
       "4     Andrea Rowan   F   SBD     Wraps  45.0    45-49     F-OR         104.0   \n",
       "\n",
       "  WeightClassKg  Squat1Kg  ...  McCulloch  Glossbrenner  IPFPoints  Tested  \\\n",
       "0            60      80.0  ...     324.16        286.42     511.15     NaN   \n",
       "1            60     100.0  ...     378.07        334.16     595.65     NaN   \n",
       "2            56       NaN  ...      38.56         34.12     313.97     NaN   \n",
       "3            60    -105.0  ...     345.61        305.37     547.04     NaN   \n",
       "4           110     120.0  ...     338.91        274.56     550.08     NaN   \n",
       "\n",
       "   Country  Federation        Date  MeetCountry  MeetState       MeetName  \n",
       "0      NaN     GPC-AUS  2018-10-27    Australia        VIC  Melbourne Cup  \n",
       "1      NaN     GPC-AUS  2018-10-27    Australia        VIC  Melbourne Cup  \n",
       "2      NaN     GPC-AUS  2018-10-27    Australia        VIC  Melbourne Cup  \n",
       "3      NaN     GPC-AUS  2018-10-27    Australia        VIC  Melbourne Cup  \n",
       "4      NaN     GPC-AUS  2018-10-27    Australia        VIC  Melbourne Cup  \n",
       "\n",
       "[5 rows x 37 columns]"
      ]
     },
     "execution_count": 2,
     "metadata": {},
     "output_type": "execute_result"
    }
   ],
   "source": [
    "# data from: https://www.kaggle.com/datasets/open-powerlifting/powerlifting-database \n",
    "lifting_df = pd.read_csv(\"Resources/openpowerlifting.csv\")\n",
    "lifting_df.head()"
   ]
  },
  {
   "cell_type": "code",
   "execution_count": 3,
   "id": "78d0bd40",
   "metadata": {},
   "outputs": [
    {
     "data": {
      "text/plain": [
       "337927"
      ]
     },
     "execution_count": 3,
     "metadata": {},
     "output_type": "execute_result"
    }
   ],
   "source": [
    "# focus solely on the Open Division\n",
    "# Open Division is open to anyone of any age or weight class\n",
    "open_df = lifting_df[lifting_df['Division'] == 'Open'] \n",
    "len(open_df)"
   ]
  },
  {
   "cell_type": "code",
   "execution_count": 4,
   "id": "18a28732",
   "metadata": {},
   "outputs": [
    {
     "name": "stderr",
     "output_type": "stream",
     "text": [
      "/Users/johnwhendricks/opt/anaconda3/envs/PythonData/lib/python3.7/site-packages/ipykernel_launcher.py:2: SettingWithCopyWarning: \n",
      "A value is trying to be set on a copy of a slice from a DataFrame.\n",
      "Try using .loc[row_indexer,col_indexer] = value instead\n",
      "\n",
      "See the caveats in the documentation: https://pandas.pydata.org/pandas-docs/stable/user_guide/indexing.html#returning-a-view-versus-a-copy\n",
      "  \n"
     ]
    },
    {
     "data": {
      "text/html": [
       "<div>\n",
       "<style scoped>\n",
       "    .dataframe tbody tr th:only-of-type {\n",
       "        vertical-align: middle;\n",
       "    }\n",
       "\n",
       "    .dataframe tbody tr th {\n",
       "        vertical-align: top;\n",
       "    }\n",
       "\n",
       "    .dataframe thead th {\n",
       "        text-align: right;\n",
       "    }\n",
       "</style>\n",
       "<table border=\"1\" class=\"dataframe\">\n",
       "  <thead>\n",
       "    <tr style=\"text-align: right;\">\n",
       "      <th></th>\n",
       "      <th>Name</th>\n",
       "      <th>Sex</th>\n",
       "      <th>Event</th>\n",
       "      <th>Equipment</th>\n",
       "      <th>Age</th>\n",
       "      <th>AgeClass</th>\n",
       "      <th>Division</th>\n",
       "      <th>BodyweightKg</th>\n",
       "      <th>WeightClassKg</th>\n",
       "      <th>Squat1Kg</th>\n",
       "      <th>...</th>\n",
       "      <th>Glossbrenner</th>\n",
       "      <th>IPFPoints</th>\n",
       "      <th>Tested</th>\n",
       "      <th>Country</th>\n",
       "      <th>Federation</th>\n",
       "      <th>Date</th>\n",
       "      <th>MeetCountry</th>\n",
       "      <th>MeetState</th>\n",
       "      <th>MeetName</th>\n",
       "      <th>Year</th>\n",
       "    </tr>\n",
       "  </thead>\n",
       "  <tbody>\n",
       "    <tr>\n",
       "      <th>8169</th>\n",
       "      <td>Jan Schnoor</td>\n",
       "      <td>M</td>\n",
       "      <td>SBD</td>\n",
       "      <td>Raw</td>\n",
       "      <td>25.0</td>\n",
       "      <td>24-34</td>\n",
       "      <td>Open</td>\n",
       "      <td>125.3</td>\n",
       "      <td>120+</td>\n",
       "      <td>225.0</td>\n",
       "      <td>...</td>\n",
       "      <td>381.08</td>\n",
       "      <td>554.12</td>\n",
       "      <td>Yes</td>\n",
       "      <td>Germany</td>\n",
       "      <td>BVDK</td>\n",
       "      <td>2018-09-08</td>\n",
       "      <td>Germany</td>\n",
       "      <td>MV</td>\n",
       "      <td>LM Mecklenburg-Vorpommern KDK</td>\n",
       "      <td>2018</td>\n",
       "    </tr>\n",
       "    <tr>\n",
       "      <th>8170</th>\n",
       "      <td>Frank Hoyer</td>\n",
       "      <td>M</td>\n",
       "      <td>SBD</td>\n",
       "      <td>Raw</td>\n",
       "      <td>37.5</td>\n",
       "      <td>35-39</td>\n",
       "      <td>Open</td>\n",
       "      <td>106.7</td>\n",
       "      <td>120</td>\n",
       "      <td>170.0</td>\n",
       "      <td>...</td>\n",
       "      <td>313.46</td>\n",
       "      <td>457.56</td>\n",
       "      <td>Yes</td>\n",
       "      <td>NaN</td>\n",
       "      <td>BVDK</td>\n",
       "      <td>2018-09-08</td>\n",
       "      <td>Germany</td>\n",
       "      <td>MV</td>\n",
       "      <td>LM Mecklenburg-Vorpommern KDK</td>\n",
       "      <td>2018</td>\n",
       "    </tr>\n",
       "    <tr>\n",
       "      <th>8171</th>\n",
       "      <td>Joshua Wright</td>\n",
       "      <td>M</td>\n",
       "      <td>SBD</td>\n",
       "      <td>Raw</td>\n",
       "      <td>31.5</td>\n",
       "      <td>24-34</td>\n",
       "      <td>Open</td>\n",
       "      <td>73.9</td>\n",
       "      <td>74</td>\n",
       "      <td>175.0</td>\n",
       "      <td>...</td>\n",
       "      <td>388.41</td>\n",
       "      <td>595.94</td>\n",
       "      <td>Yes</td>\n",
       "      <td>NaN</td>\n",
       "      <td>BVDK</td>\n",
       "      <td>2018-09-08</td>\n",
       "      <td>Germany</td>\n",
       "      <td>MV</td>\n",
       "      <td>LM Mecklenburg-Vorpommern KDK</td>\n",
       "      <td>2018</td>\n",
       "    </tr>\n",
       "    <tr>\n",
       "      <th>8172</th>\n",
       "      <td>Miguel Martins Dias</td>\n",
       "      <td>M</td>\n",
       "      <td>SBD</td>\n",
       "      <td>Raw</td>\n",
       "      <td>26.5</td>\n",
       "      <td>24-34</td>\n",
       "      <td>Open</td>\n",
       "      <td>72.6</td>\n",
       "      <td>74</td>\n",
       "      <td>180.0</td>\n",
       "      <td>...</td>\n",
       "      <td>335.33</td>\n",
       "      <td>501.95</td>\n",
       "      <td>Yes</td>\n",
       "      <td>NaN</td>\n",
       "      <td>BVDK</td>\n",
       "      <td>2018-09-08</td>\n",
       "      <td>Germany</td>\n",
       "      <td>MV</td>\n",
       "      <td>LM Mecklenburg-Vorpommern KDK</td>\n",
       "      <td>2018</td>\n",
       "    </tr>\n",
       "    <tr>\n",
       "      <th>8173</th>\n",
       "      <td>Maik Steinfurth</td>\n",
       "      <td>M</td>\n",
       "      <td>SBD</td>\n",
       "      <td>Raw</td>\n",
       "      <td>39.0</td>\n",
       "      <td>35-39</td>\n",
       "      <td>Open</td>\n",
       "      <td>106.8</td>\n",
       "      <td>120</td>\n",
       "      <td>210.0</td>\n",
       "      <td>...</td>\n",
       "      <td>371.74</td>\n",
       "      <td>558.29</td>\n",
       "      <td>Yes</td>\n",
       "      <td>NaN</td>\n",
       "      <td>BVDK</td>\n",
       "      <td>2018-09-08</td>\n",
       "      <td>Germany</td>\n",
       "      <td>MV</td>\n",
       "      <td>LM Mecklenburg-Vorpommern KDK</td>\n",
       "      <td>2018</td>\n",
       "    </tr>\n",
       "  </tbody>\n",
       "</table>\n",
       "<p>5 rows × 38 columns</p>\n",
       "</div>"
      ],
      "text/plain": [
       "                     Name Sex Event Equipment   Age AgeClass Division  \\\n",
       "8169          Jan Schnoor   M   SBD       Raw  25.0    24-34     Open   \n",
       "8170          Frank Hoyer   M   SBD       Raw  37.5    35-39     Open   \n",
       "8171        Joshua Wright   M   SBD       Raw  31.5    24-34     Open   \n",
       "8172  Miguel Martins Dias   M   SBD       Raw  26.5    24-34     Open   \n",
       "8173      Maik Steinfurth   M   SBD       Raw  39.0    35-39     Open   \n",
       "\n",
       "      BodyweightKg WeightClassKg  Squat1Kg  ...  Glossbrenner  IPFPoints  \\\n",
       "8169         125.3          120+     225.0  ...        381.08     554.12   \n",
       "8170         106.7           120     170.0  ...        313.46     457.56   \n",
       "8171          73.9            74     175.0  ...        388.41     595.94   \n",
       "8172          72.6            74     180.0  ...        335.33     501.95   \n",
       "8173         106.8           120     210.0  ...        371.74     558.29   \n",
       "\n",
       "      Tested  Country  Federation        Date  MeetCountry  MeetState  \\\n",
       "8169     Yes  Germany        BVDK  2018-09-08      Germany         MV   \n",
       "8170     Yes      NaN        BVDK  2018-09-08      Germany         MV   \n",
       "8171     Yes      NaN        BVDK  2018-09-08      Germany         MV   \n",
       "8172     Yes      NaN        BVDK  2018-09-08      Germany         MV   \n",
       "8173     Yes      NaN        BVDK  2018-09-08      Germany         MV   \n",
       "\n",
       "                           MeetName  Year  \n",
       "8169  LM Mecklenburg-Vorpommern KDK  2018  \n",
       "8170  LM Mecklenburg-Vorpommern KDK  2018  \n",
       "8171  LM Mecklenburg-Vorpommern KDK  2018  \n",
       "8172  LM Mecklenburg-Vorpommern KDK  2018  \n",
       "8173  LM Mecklenburg-Vorpommern KDK  2018  \n",
       "\n",
       "[5 rows x 38 columns]"
      ]
     },
     "execution_count": 4,
     "metadata": {},
     "output_type": "execute_result"
    }
   ],
   "source": [
    "# new column named \"Year\"\n",
    "open_df['Year'] = pd.DatetimeIndex(open_df['Date']).year\n",
    "open_df.head()"
   ]
  },
  {
   "cell_type": "code",
   "execution_count": 5,
   "id": "ddd2e6d2",
   "metadata": {},
   "outputs": [
    {
     "data": {
      "text/html": [
       "<div>\n",
       "<style scoped>\n",
       "    .dataframe tbody tr th:only-of-type {\n",
       "        vertical-align: middle;\n",
       "    }\n",
       "\n",
       "    .dataframe tbody tr th {\n",
       "        vertical-align: top;\n",
       "    }\n",
       "\n",
       "    .dataframe thead th {\n",
       "        text-align: right;\n",
       "    }\n",
       "</style>\n",
       "<table border=\"1\" class=\"dataframe\">\n",
       "  <thead>\n",
       "    <tr style=\"text-align: right;\">\n",
       "      <th></th>\n",
       "      <th>Name</th>\n",
       "      <th>Sex</th>\n",
       "      <th>Event</th>\n",
       "      <th>Equipment</th>\n",
       "      <th>Age</th>\n",
       "      <th>AgeClass</th>\n",
       "      <th>Division</th>\n",
       "      <th>BodyweightKg</th>\n",
       "      <th>WeightClassKg</th>\n",
       "      <th>Squat1Kg</th>\n",
       "      <th>...</th>\n",
       "      <th>Glossbrenner</th>\n",
       "      <th>IPFPoints</th>\n",
       "      <th>Tested</th>\n",
       "      <th>Country</th>\n",
       "      <th>Federation</th>\n",
       "      <th>Date</th>\n",
       "      <th>MeetCountry</th>\n",
       "      <th>MeetState</th>\n",
       "      <th>MeetName</th>\n",
       "      <th>Year</th>\n",
       "    </tr>\n",
       "  </thead>\n",
       "  <tbody>\n",
       "    <tr>\n",
       "      <th>178579</th>\n",
       "      <td>David Moyer</td>\n",
       "      <td>M</td>\n",
       "      <td>SBD</td>\n",
       "      <td>Wraps</td>\n",
       "      <td>NaN</td>\n",
       "      <td>NaN</td>\n",
       "      <td>Open</td>\n",
       "      <td>56.00</td>\n",
       "      <td>56</td>\n",
       "      <td>NaN</td>\n",
       "      <td>...</td>\n",
       "      <td>438.11</td>\n",
       "      <td>648.04</td>\n",
       "      <td>Yes</td>\n",
       "      <td>NaN</td>\n",
       "      <td>AAU</td>\n",
       "      <td>1964-09-05</td>\n",
       "      <td>USA</td>\n",
       "      <td>PA</td>\n",
       "      <td>The Powerlifting Tournament Of America</td>\n",
       "      <td>1964</td>\n",
       "    </tr>\n",
       "    <tr>\n",
       "      <th>178580</th>\n",
       "      <td>Jim Kenyon</td>\n",
       "      <td>M</td>\n",
       "      <td>SBD</td>\n",
       "      <td>Wraps</td>\n",
       "      <td>15.5</td>\n",
       "      <td>16-17</td>\n",
       "      <td>Open</td>\n",
       "      <td>56.00</td>\n",
       "      <td>56</td>\n",
       "      <td>NaN</td>\n",
       "      <td>...</td>\n",
       "      <td>333.12</td>\n",
       "      <td>472.35</td>\n",
       "      <td>Yes</td>\n",
       "      <td>NaN</td>\n",
       "      <td>AAU</td>\n",
       "      <td>1964-09-05</td>\n",
       "      <td>USA</td>\n",
       "      <td>PA</td>\n",
       "      <td>The Powerlifting Tournament Of America</td>\n",
       "      <td>1964</td>\n",
       "    </tr>\n",
       "    <tr>\n",
       "      <th>178599</th>\n",
       "      <td>Ed Morliens</td>\n",
       "      <td>M</td>\n",
       "      <td>SBD</td>\n",
       "      <td>Wraps</td>\n",
       "      <td>NaN</td>\n",
       "      <td>NaN</td>\n",
       "      <td>Open</td>\n",
       "      <td>119.29</td>\n",
       "      <td>90+</td>\n",
       "      <td>NaN</td>\n",
       "      <td>...</td>\n",
       "      <td>371.44</td>\n",
       "      <td>544.84</td>\n",
       "      <td>Yes</td>\n",
       "      <td>NaN</td>\n",
       "      <td>AAU</td>\n",
       "      <td>1964-09-05</td>\n",
       "      <td>USA</td>\n",
       "      <td>PA</td>\n",
       "      <td>The Powerlifting Tournament Of America</td>\n",
       "      <td>1964</td>\n",
       "    </tr>\n",
       "    <tr>\n",
       "      <th>178598</th>\n",
       "      <td>Wilbur Miller</td>\n",
       "      <td>M</td>\n",
       "      <td>SBD</td>\n",
       "      <td>Wraps</td>\n",
       "      <td>NaN</td>\n",
       "      <td>NaN</td>\n",
       "      <td>Open</td>\n",
       "      <td>165.56</td>\n",
       "      <td>90+</td>\n",
       "      <td>NaN</td>\n",
       "      <td>...</td>\n",
       "      <td>370.39</td>\n",
       "      <td>495.15</td>\n",
       "      <td>Yes</td>\n",
       "      <td>NaN</td>\n",
       "      <td>AAU</td>\n",
       "      <td>1964-09-05</td>\n",
       "      <td>USA</td>\n",
       "      <td>PA</td>\n",
       "      <td>The Powerlifting Tournament Of America</td>\n",
       "      <td>1964</td>\n",
       "    </tr>\n",
       "    <tr>\n",
       "      <th>178597</th>\n",
       "      <td>Terence Todd</td>\n",
       "      <td>M</td>\n",
       "      <td>SBD</td>\n",
       "      <td>Wraps</td>\n",
       "      <td>26.0</td>\n",
       "      <td>24-34</td>\n",
       "      <td>Open</td>\n",
       "      <td>143.79</td>\n",
       "      <td>90+</td>\n",
       "      <td>NaN</td>\n",
       "      <td>...</td>\n",
       "      <td>425.29</td>\n",
       "      <td>603.71</td>\n",
       "      <td>Yes</td>\n",
       "      <td>NaN</td>\n",
       "      <td>AAU</td>\n",
       "      <td>1964-09-05</td>\n",
       "      <td>USA</td>\n",
       "      <td>PA</td>\n",
       "      <td>The Powerlifting Tournament Of America</td>\n",
       "      <td>1964</td>\n",
       "    </tr>\n",
       "  </tbody>\n",
       "</table>\n",
       "<p>5 rows × 38 columns</p>\n",
       "</div>"
      ],
      "text/plain": [
       "                 Name Sex Event Equipment   Age AgeClass Division  \\\n",
       "178579    David Moyer   M   SBD     Wraps   NaN      NaN     Open   \n",
       "178580     Jim Kenyon   M   SBD     Wraps  15.5    16-17     Open   \n",
       "178599    Ed Morliens   M   SBD     Wraps   NaN      NaN     Open   \n",
       "178598  Wilbur Miller   M   SBD     Wraps   NaN      NaN     Open   \n",
       "178597   Terence Todd   M   SBD     Wraps  26.0    24-34     Open   \n",
       "\n",
       "        BodyweightKg WeightClassKg  Squat1Kg  ...  Glossbrenner  IPFPoints  \\\n",
       "178579         56.00            56       NaN  ...        438.11     648.04   \n",
       "178580         56.00            56       NaN  ...        333.12     472.35   \n",
       "178599        119.29           90+       NaN  ...        371.44     544.84   \n",
       "178598        165.56           90+       NaN  ...        370.39     495.15   \n",
       "178597        143.79           90+       NaN  ...        425.29     603.71   \n",
       "\n",
       "        Tested  Country  Federation        Date  MeetCountry  MeetState  \\\n",
       "178579     Yes      NaN         AAU  1964-09-05          USA         PA   \n",
       "178580     Yes      NaN         AAU  1964-09-05          USA         PA   \n",
       "178599     Yes      NaN         AAU  1964-09-05          USA         PA   \n",
       "178598     Yes      NaN         AAU  1964-09-05          USA         PA   \n",
       "178597     Yes      NaN         AAU  1964-09-05          USA         PA   \n",
       "\n",
       "                                      MeetName  Year  \n",
       "178579  The Powerlifting Tournament Of America  1964  \n",
       "178580  The Powerlifting Tournament Of America  1964  \n",
       "178599  The Powerlifting Tournament Of America  1964  \n",
       "178598  The Powerlifting Tournament Of America  1964  \n",
       "178597  The Powerlifting Tournament Of America  1964  \n",
       "\n",
       "[5 rows x 38 columns]"
      ]
     },
     "execution_count": 5,
     "metadata": {},
     "output_type": "execute_result"
    }
   ],
   "source": [
    "# sort the dates from first competition to most recent competition\n",
    "open_df = open_df.sort_values('Date')\n",
    "open_df.head()"
   ]
  },
  {
   "cell_type": "code",
   "execution_count": 6,
   "id": "ef414fc4",
   "metadata": {},
   "outputs": [
    {
     "data": {
      "text/html": [
       "<div>\n",
       "<style scoped>\n",
       "    .dataframe tbody tr th:only-of-type {\n",
       "        vertical-align: middle;\n",
       "    }\n",
       "\n",
       "    .dataframe tbody tr th {\n",
       "        vertical-align: top;\n",
       "    }\n",
       "\n",
       "    .dataframe thead th {\n",
       "        text-align: right;\n",
       "    }\n",
       "</style>\n",
       "<table border=\"1\" class=\"dataframe\">\n",
       "  <thead>\n",
       "    <tr style=\"text-align: right;\">\n",
       "      <th></th>\n",
       "      <th>Age</th>\n",
       "      <th>BodyweightKg</th>\n",
       "      <th>Squat1Kg</th>\n",
       "      <th>Squat2Kg</th>\n",
       "      <th>Squat3Kg</th>\n",
       "      <th>Squat4Kg</th>\n",
       "      <th>Best3SquatKg</th>\n",
       "      <th>Bench1Kg</th>\n",
       "      <th>Bench2Kg</th>\n",
       "      <th>Bench3Kg</th>\n",
       "      <th>...</th>\n",
       "      <th>Deadlift1Kg</th>\n",
       "      <th>Deadlift2Kg</th>\n",
       "      <th>Deadlift3Kg</th>\n",
       "      <th>Deadlift4Kg</th>\n",
       "      <th>Best3DeadliftKg</th>\n",
       "      <th>TotalKg</th>\n",
       "      <th>Wilks</th>\n",
       "      <th>McCulloch</th>\n",
       "      <th>Glossbrenner</th>\n",
       "      <th>IPFPoints</th>\n",
       "    </tr>\n",
       "    <tr>\n",
       "      <th>Year</th>\n",
       "      <th></th>\n",
       "      <th></th>\n",
       "      <th></th>\n",
       "      <th></th>\n",
       "      <th></th>\n",
       "      <th></th>\n",
       "      <th></th>\n",
       "      <th></th>\n",
       "      <th></th>\n",
       "      <th></th>\n",
       "      <th></th>\n",
       "      <th></th>\n",
       "      <th></th>\n",
       "      <th></th>\n",
       "      <th></th>\n",
       "      <th></th>\n",
       "      <th></th>\n",
       "      <th></th>\n",
       "      <th></th>\n",
       "      <th></th>\n",
       "      <th></th>\n",
       "    </tr>\n",
       "  </thead>\n",
       "  <tbody>\n",
       "    <tr>\n",
       "      <th>1964</th>\n",
       "      <td>22.666667</td>\n",
       "      <td>81.982857</td>\n",
       "      <td>NaN</td>\n",
       "      <td>NaN</td>\n",
       "      <td>NaN</td>\n",
       "      <td>NaN</td>\n",
       "      <td>190.294286</td>\n",
       "      <td>NaN</td>\n",
       "      <td>NaN</td>\n",
       "      <td>NaN</td>\n",
       "      <td>...</td>\n",
       "      <td>NaN</td>\n",
       "      <td>NaN</td>\n",
       "      <td>NaN</td>\n",
       "      <td>NaN</td>\n",
       "      <td>238.461429</td>\n",
       "      <td>563.210952</td>\n",
       "      <td>398.752381</td>\n",
       "      <td>400.861429</td>\n",
       "      <td>385.239524</td>\n",
       "      <td>576.638095</td>\n",
       "    </tr>\n",
       "    <tr>\n",
       "      <th>1965</th>\n",
       "      <td>28.100000</td>\n",
       "      <td>77.019744</td>\n",
       "      <td>264.900000</td>\n",
       "      <td>65.616667</td>\n",
       "      <td>71.670000</td>\n",
       "      <td>NaN</td>\n",
       "      <td>200.173864</td>\n",
       "      <td>201.845000</td>\n",
       "      <td>76.956667</td>\n",
       "      <td>-46.176000</td>\n",
       "      <td>...</td>\n",
       "      <td>238.912857</td>\n",
       "      <td>168.925000</td>\n",
       "      <td>-18.099000</td>\n",
       "      <td>NaN</td>\n",
       "      <td>238.311591</td>\n",
       "      <td>579.995455</td>\n",
       "      <td>403.503158</td>\n",
       "      <td>405.566316</td>\n",
       "      <td>390.394474</td>\n",
       "      <td>589.483421</td>\n",
       "    </tr>\n",
       "    <tr>\n",
       "      <th>1966</th>\n",
       "      <td>26.866667</td>\n",
       "      <td>77.442500</td>\n",
       "      <td>149.006000</td>\n",
       "      <td>69.683000</td>\n",
       "      <td>111.131429</td>\n",
       "      <td>NaN</td>\n",
       "      <td>210.652368</td>\n",
       "      <td>123.226667</td>\n",
       "      <td>75.544545</td>\n",
       "      <td>-67.132222</td>\n",
       "      <td>...</td>\n",
       "      <td>174.563125</td>\n",
       "      <td>-11.602105</td>\n",
       "      <td>-118.894706</td>\n",
       "      <td>NaN</td>\n",
       "      <td>243.929459</td>\n",
       "      <td>603.707568</td>\n",
       "      <td>412.776250</td>\n",
       "      <td>418.029063</td>\n",
       "      <td>399.361562</td>\n",
       "      <td>607.359375</td>\n",
       "    </tr>\n",
       "    <tr>\n",
       "      <th>1967</th>\n",
       "      <td>26.562500</td>\n",
       "      <td>79.430476</td>\n",
       "      <td>209.030000</td>\n",
       "      <td>177.525000</td>\n",
       "      <td>47.165000</td>\n",
       "      <td>NaN</td>\n",
       "      <td>214.169444</td>\n",
       "      <td>56.246000</td>\n",
       "      <td>11.917273</td>\n",
       "      <td>-9.630000</td>\n",
       "      <td>...</td>\n",
       "      <td>263.267000</td>\n",
       "      <td>127.218000</td>\n",
       "      <td>-13.253529</td>\n",
       "      <td>NaN</td>\n",
       "      <td>252.292571</td>\n",
       "      <td>617.002000</td>\n",
       "      <td>428.559412</td>\n",
       "      <td>432.971471</td>\n",
       "      <td>414.320882</td>\n",
       "      <td>631.924412</td>\n",
       "    </tr>\n",
       "    <tr>\n",
       "      <th>1968</th>\n",
       "      <td>26.111111</td>\n",
       "      <td>84.729524</td>\n",
       "      <td>192.158182</td>\n",
       "      <td>93.213750</td>\n",
       "      <td>-84.844000</td>\n",
       "      <td>NaN</td>\n",
       "      <td>209.647500</td>\n",
       "      <td>-24.381250</td>\n",
       "      <td>10.349091</td>\n",
       "      <td>-80.426923</td>\n",
       "      <td>...</td>\n",
       "      <td>226.796316</td>\n",
       "      <td>30.175789</td>\n",
       "      <td>-125.940870</td>\n",
       "      <td>NaN</td>\n",
       "      <td>240.410943</td>\n",
       "      <td>594.404423</td>\n",
       "      <td>409.646923</td>\n",
       "      <td>411.847500</td>\n",
       "      <td>395.718654</td>\n",
       "      <td>601.271154</td>\n",
       "    </tr>\n",
       "  </tbody>\n",
       "</table>\n",
       "<p>5 rows × 22 columns</p>\n",
       "</div>"
      ],
      "text/plain": [
       "            Age  BodyweightKg    Squat1Kg    Squat2Kg    Squat3Kg  Squat4Kg  \\\n",
       "Year                                                                          \n",
       "1964  22.666667     81.982857         NaN         NaN         NaN       NaN   \n",
       "1965  28.100000     77.019744  264.900000   65.616667   71.670000       NaN   \n",
       "1966  26.866667     77.442500  149.006000   69.683000  111.131429       NaN   \n",
       "1967  26.562500     79.430476  209.030000  177.525000   47.165000       NaN   \n",
       "1968  26.111111     84.729524  192.158182   93.213750  -84.844000       NaN   \n",
       "\n",
       "      Best3SquatKg    Bench1Kg   Bench2Kg   Bench3Kg  ...  Deadlift1Kg  \\\n",
       "Year                                                  ...                \n",
       "1964    190.294286         NaN        NaN        NaN  ...          NaN   \n",
       "1965    200.173864  201.845000  76.956667 -46.176000  ...   238.912857   \n",
       "1966    210.652368  123.226667  75.544545 -67.132222  ...   174.563125   \n",
       "1967    214.169444   56.246000  11.917273  -9.630000  ...   263.267000   \n",
       "1968    209.647500  -24.381250  10.349091 -80.426923  ...   226.796316   \n",
       "\n",
       "      Deadlift2Kg  Deadlift3Kg  Deadlift4Kg  Best3DeadliftKg     TotalKg  \\\n",
       "Year                                                                       \n",
       "1964          NaN          NaN          NaN       238.461429  563.210952   \n",
       "1965   168.925000   -18.099000          NaN       238.311591  579.995455   \n",
       "1966   -11.602105  -118.894706          NaN       243.929459  603.707568   \n",
       "1967   127.218000   -13.253529          NaN       252.292571  617.002000   \n",
       "1968    30.175789  -125.940870          NaN       240.410943  594.404423   \n",
       "\n",
       "           Wilks   McCulloch  Glossbrenner   IPFPoints  \n",
       "Year                                                    \n",
       "1964  398.752381  400.861429    385.239524  576.638095  \n",
       "1965  403.503158  405.566316    390.394474  589.483421  \n",
       "1966  412.776250  418.029063    399.361562  607.359375  \n",
       "1967  428.559412  432.971471    414.320882  631.924412  \n",
       "1968  409.646923  411.847500    395.718654  601.271154  \n",
       "\n",
       "[5 rows x 22 columns]"
      ]
     },
     "execution_count": 6,
     "metadata": {},
     "output_type": "execute_result"
    }
   ],
   "source": [
    "# means from 1964 - 2019\n",
    "open_means = open_df.groupby('Year').mean()\n",
    "open_means.head()"
   ]
  },
  {
   "cell_type": "code",
   "execution_count": 12,
   "id": "d9f61559",
   "metadata": {},
   "outputs": [
    {
     "data": {
      "text/plain": [
       "Text(0.5, 1.0, 'Average Age (Open Division)')"
      ]
     },
     "execution_count": 12,
     "metadata": {},
     "output_type": "execute_result"
    },
    {
     "data": {
      "image/png": "[encoded data removed]",
      "text/plain": [
       "<Figure size 432x288 with 1 Axes>"
      ]
     },
     "metadata": {
      "needs_background": "light"
     },
     "output_type": "display_data"
    }
   ],
   "source": [
    "plt.plot(open_means.index, open_means['Age'])\n",
    "plt.xlabel(\"Year\")\n",
    "plt.ylabel('Average Age')\n",
    "plt.title(\"Average Age (Open Division)\")"
   ]
  },
  {
   "cell_type": "code",
   "execution_count": 13,
   "id": "9b8c32ea",
   "metadata": {},
   "outputs": [
    {
     "data": {
      "text/plain": [
       "Text(0.5, 1.0, 'Average Body Weight (Open Division)')"
      ]
     },
     "execution_count": 13,
     "metadata": {},
     "output_type": "execute_result"
    },
    {
     "data": {
      "image/png": "[encoded data removed]",
      "text/plain": [
       "<Figure size 432x288 with 1 Axes>"
      ]
     },
     "metadata": {
      "needs_background": "light"
     },
     "output_type": "display_data"
    }
   ],
   "source": [
    "plt.plot(open_means.index, open_means['BodyweightKg'])\n",
    "plt.xlabel(\"Year\")\n",
    "plt.ylabel('Average Bodyweight (Kg)')\n",
    "plt.title('Average Body Weight (Open Division)')"
   ]
  },
  {
   "cell_type": "code",
   "execution_count": 15,
   "id": "335a0f84",
   "metadata": {},
   "outputs": [
    {
     "data": {
      "text/plain": [
       "Text(0.5, 1.0, 'Average Squat (Open Division)')"
      ]
     },
     "execution_count": 15,
     "metadata": {},
     "output_type": "execute_result"
    },
    {
     "data": {
      "image/png": "[encoded data removed]",
      "text/plain": [
       "<Figure size 432x288 with 1 Axes>"
      ]
     },
     "metadata": {
      "needs_background": "light"
     },
     "output_type": "display_data"
    }
   ],
   "source": [
    "plt.plot(open_means.index, open_means['Best3SquatKg'])\n",
    "plt.xlabel(\"Year\")\n",
    "plt.ylabel('Average Weight (Kg)')\n",
    "plt.title('Average Squat (Open Division)')"
   ]
  },
  {
   "cell_type": "code",
   "execution_count": 16,
   "id": "c4b319d7",
   "metadata": {},
   "outputs": [
    {
     "data": {
      "text/plain": [
       "Text(0.5, 1.0, 'Average Bench Press (Open Division)')"
      ]
     },
     "execution_count": 16,
     "metadata": {},
     "output_type": "execute_result"
    },
    {
     "data": {
      "image/png": "[encoded data removed]",
      "text/plain": [
       "<Figure size 432x288 with 1 Axes>"
      ]
     },
     "metadata": {
      "needs_background": "light"
     },
     "output_type": "display_data"
    }
   ],
   "source": [
    "plt.plot(open_means.index, open_means['Best3BenchKg'])\n",
    "plt.xlabel(\"Year\")\n",
    "plt.ylabel('Average Weight (Kg)')\n",
    "plt.title('Average Bench Press (Open Division)')"
   ]
  },
  {
   "cell_type": "code",
   "execution_count": 17,
   "id": "2e8aabc8",
   "metadata": {},
   "outputs": [
    {
     "data": {
      "text/plain": [
       "Text(0.5, 1.0, 'Average Deadlift (Open Division)')"
      ]
     },
     "execution_count": 17,
     "metadata": {},
     "output_type": "execute_result"
    },
    {
     "data": {
      "image/png": "[encoded data removed]",
      "text/plain": [
       "<Figure size 432x288 with 1 Axes>"
      ]
     },
     "metadata": {
      "needs_background": "light"
     },
     "output_type": "display_data"
    }
   ],
   "source": [
    "plt.plot(open_means.index, open_means['Best3DeadliftKg'])\n",
    "plt.xlabel(\"Year\")\n",
    "plt.ylabel('Average Weight (Kg)')\n",
    "plt.title('Average Deadlift (Open Division)')"
   ]
  },
  {
   "cell_type": "code",
   "execution_count": 18,
   "id": "9c465f34",
   "metadata": {},
   "outputs": [
    {
     "data": {
      "text/plain": [
       "Text(0.5, 1.0, 'Average Total Weight Lifted (Open Division)')"
      ]
     },
     "execution_count": 18,
     "metadata": {},
     "output_type": "execute_result"
    },
    {
     "data": {
      "image/png": "[encoded data removed]",
      "text/plain": [
       "<Figure size 432x288 with 1 Axes>"
      ]
     },
     "metadata": {
      "needs_background": "light"
     },
     "output_type": "display_data"
    }
   ],
   "source": [
    "plt.plot(open_means.index, open_means['TotalKg'])\n",
    "plt.xlabel(\"Year\")\n",
    "plt.ylabel('Average Total Weight (Kg)')\n",
    "plt.title('Average Total Weight Lifted (Open Division)')"
   ]
  },
  {
   "cell_type": "code",
   "execution_count": 133,
   "id": "63ec89a4",
   "metadata": {},
   "outputs": [
    {
     "data": {
      "text/plain": [
       "<matplotlib.collections.PathCollection at 0x7faa4ee63950>"
      ]
     },
     "execution_count": 133,
     "metadata": {},
     "output_type": "execute_result"
    },
    {
     "data": {
      "image/png": "[encoded data removed]",
      "text/plain": [
       "<Figure size 432x288 with 1 Axes>"
      ]
     },
     "metadata": {
      "needs_background": "light"
     },
     "output_type": "display_data"
    }
   ],
   "source": [
    "plt.scatter(open_df['Wilks'], open_df['McCulloch'])"
   ]
  },
  {
   "cell_type": "code",
   "execution_count": 134,
   "id": "2460876a",
   "metadata": {},
   "outputs": [
    {
     "data": {
      "text/plain": [
       "<matplotlib.collections.PathCollection at 0x7faa72fbdf50>"
      ]
     },
     "execution_count": 134,
     "metadata": {},
     "output_type": "execute_result"
    },
    {
     "data": {
      "image/png": "[encoded data removed]",
      "text/plain": [
       "<Figure size 432x288 with 1 Axes>"
      ]
     },
     "metadata": {
      "needs_background": "light"
     },
     "output_type": "display_data"
    }
   ],
   "source": [
    "plt.scatter(open_df['Wilks'], open_df['Glossbrenner'])"
   ]
  },
  {
   "cell_type": "code",
   "execution_count": 135,
   "id": "303110e6",
   "metadata": {},
   "outputs": [
    {
     "data": {
      "text/plain": [
       "<matplotlib.collections.PathCollection at 0x7fa9fe03ff90>"
      ]
     },
     "execution_count": 135,
     "metadata": {},
     "output_type": "execute_result"
    },
    {
     "data": {
      "image/png": "[encoded data removed]",
      "text/plain": [
       "<Figure size 432x288 with 1 Axes>"
      ]
     },
     "metadata": {
      "needs_background": "light"
     },
     "output_type": "display_data"
    }
   ],
   "source": [
    "plt.scatter(open_df['Wilks'], open_df['IPFPoints'], s = 0.1, alpha = 0.2)"
   ]
  },
  {
   "cell_type": "code",
   "execution_count": 19,
   "id": "8894371f",
   "metadata": {},
   "outputs": [
    {
     "data": {
      "text/plain": [
       "<BarContainer object of 5 artists>"
      ]
     },
     "execution_count": 19,
     "metadata": {},
     "output_type": "execute_result"
    },
    {
     "data": {
      "image/png": "[encoded data removed]",
      "text/plain": [
       "<Figure size 432x288 with 1 Axes>"
      ]
     },
     "metadata": {
      "needs_background": "light"
     },
     "output_type": "display_data"
    }
   ],
   "source": [
    "x = open_df['Equipment'].unique()\n",
    "height = open_df.groupby('Equipment').mean()['TotalKg']\n",
    "\n",
    "x = height.index\n",
    "plt.bar(x, height = height.values)"
   ]
  },
  {
   "cell_type": "code",
   "execution_count": 20,
   "id": "7f552ad7",
   "metadata": {},
   "outputs": [
    {
     "data": {
      "text/plain": [
       "<BarContainer object of 5 artists>"
      ]
     },
     "execution_count": 20,
     "metadata": {},
     "output_type": "execute_result"
    },
    {
     "data": {
      "image/png": "[encoded data removed]",
      "text/plain": [
       "<Figure size 432x288 with 1 Axes>"
      ]
     },
     "metadata": {
      "needs_background": "light"
     },
     "output_type": "display_data"
    }
   ],
   "source": [
    "x = open_df['Equipment'].unique()\n",
    "height = open_df.groupby('Equipment').mean()['IPFPoints']\n",
    "\n",
    "x = height.index\n",
    "\n",
    "plt.bar(x, height = height.values)"
   ]
  },
  {
   "cell_type": "code",
   "execution_count": 21,
   "id": "d89ac295",
   "metadata": {},
   "outputs": [
    {
     "data": {
      "text/plain": [
       "<BarContainer object of 5 artists>"
      ]
     },
     "execution_count": 21,
     "metadata": {},
     "output_type": "execute_result"
    },
    {
     "data": {
      "image/png": "[encoded data removed]",
      "text/plain": [
       "<Figure size 432x288 with 1 Axes>"
      ]
     },
     "metadata": {
      "needs_background": "light"
     },
     "output_type": "display_data"
    }
   ],
   "source": [
    "x = open_df['Equipment'].unique()\n",
    "height = open_df.groupby('Equipment').mean()['BodyweightKg']\n",
    "\n",
    "x = height.index\n",
    "\n",
    "plt.bar(x, height = height.values)"
   ]
  },
  {
   "cell_type": "code",
   "execution_count": 22,
   "id": "fb1e36b1",
   "metadata": {},
   "outputs": [
    {
     "data": {
      "text/plain": [
       "<BarContainer object of 5 artists>"
      ]
     },
     "execution_count": 22,
     "metadata": {},
     "output_type": "execute_result"
    },
    {
     "data": {
      "image/png": "[encoded data removed]",
      "text/plain": [
       "<Figure size 432x288 with 1 Axes>"
      ]
     },
     "metadata": {
      "needs_background": "light"
     },
     "output_type": "display_data"
    }
   ],
   "source": [
    "x = open_df['Equipment'].unique()\n",
    "height = open_df.groupby('Equipment').mean()['Best3DeadliftKg']\n",
    "\n",
    "x = height.index\n",
    "\n",
    "plt.bar(x, height = height.values)"
   ]
  },
  {
   "cell_type": "code",
   "execution_count": 23,
   "id": "42d74b3f",
   "metadata": {},
   "outputs": [
    {
     "data": {
      "text/plain": [
       "<BarContainer object of 5 artists>"
      ]
     },
     "execution_count": 23,
     "metadata": {},
     "output_type": "execute_result"
    },
    {
     "data": {
      "image/png": "[encoded data removed]",
      "text/plain": [
       "<Figure size 432x288 with 1 Axes>"
      ]
     },
     "metadata": {
      "needs_background": "light"
     },
     "output_type": "display_data"
    }
   ],
   "source": [
    "x = open_df['Equipment'].unique()\n",
    "height = open_df.groupby('Equipment').mean()['Best3BenchKg']\n",
    "\n",
    "x = height.index\n",
    "\n",
    "plt.bar(x, height = height.values)"
   ]
  },
  {
   "cell_type": "code",
   "execution_count": 24,
   "id": "49e69322",
   "metadata": {},
   "outputs": [
    {
     "data": {
      "text/plain": [
       "<BarContainer object of 5 artists>"
      ]
     },
     "execution_count": 24,
     "metadata": {},
     "output_type": "execute_result"
    },
    {
     "data": {
      "image/png": "[encoded data removed]",
      "text/plain": [
       "<Figure size 432x288 with 1 Axes>"
      ]
     },
     "metadata": {
      "needs_background": "light"
     },
     "output_type": "display_data"
    }
   ],
   "source": [
    "x = open_df['Equipment'].unique()\n",
    "height = open_df.groupby('Equipment').mean()['Best3SquatKg']\n",
    "\n",
    "x = height.index\n",
    "\n",
    "plt.bar(x, height = height.values)"
   ]
  },
  {
   "cell_type": "code",
   "execution_count": 26,
   "id": "d302f903",
   "metadata": {},
   "outputs": [
    {
     "data": {
      "text/html": [
       "<div>\n",
       "<style scoped>\n",
       "    .dataframe tbody tr th:only-of-type {\n",
       "        vertical-align: middle;\n",
       "    }\n",
       "\n",
       "    .dataframe tbody tr th {\n",
       "        vertical-align: top;\n",
       "    }\n",
       "\n",
       "    .dataframe thead th {\n",
       "        text-align: right;\n",
       "    }\n",
       "</style>\n",
       "<table border=\"1\" class=\"dataframe\">\n",
       "  <thead>\n",
       "    <tr style=\"text-align: right;\">\n",
       "      <th></th>\n",
       "      <th></th>\n",
       "      <th>Name</th>\n",
       "      <th>Event</th>\n",
       "      <th>Equipment</th>\n",
       "      <th>Age</th>\n",
       "      <th>AgeClass</th>\n",
       "      <th>Division</th>\n",
       "      <th>BodyweightKg</th>\n",
       "      <th>WeightClassKg</th>\n",
       "      <th>Squat1Kg</th>\n",
       "      <th>Squat2Kg</th>\n",
       "      <th>...</th>\n",
       "      <th>McCulloch</th>\n",
       "      <th>Glossbrenner</th>\n",
       "      <th>IPFPoints</th>\n",
       "      <th>Tested</th>\n",
       "      <th>Country</th>\n",
       "      <th>Federation</th>\n",
       "      <th>Date</th>\n",
       "      <th>MeetCountry</th>\n",
       "      <th>MeetState</th>\n",
       "      <th>MeetName</th>\n",
       "    </tr>\n",
       "    <tr>\n",
       "      <th>Year</th>\n",
       "      <th>Sex</th>\n",
       "      <th></th>\n",
       "      <th></th>\n",
       "      <th></th>\n",
       "      <th></th>\n",
       "      <th></th>\n",
       "      <th></th>\n",
       "      <th></th>\n",
       "      <th></th>\n",
       "      <th></th>\n",
       "      <th></th>\n",
       "      <th></th>\n",
       "      <th></th>\n",
       "      <th></th>\n",
       "      <th></th>\n",
       "      <th></th>\n",
       "      <th></th>\n",
       "      <th></th>\n",
       "      <th></th>\n",
       "      <th></th>\n",
       "      <th></th>\n",
       "      <th></th>\n",
       "    </tr>\n",
       "  </thead>\n",
       "  <tbody>\n",
       "    <tr>\n",
       "      <th>2017</th>\n",
       "      <th>M</th>\n",
       "      <td>20749</td>\n",
       "      <td>20749</td>\n",
       "      <td>20749</td>\n",
       "      <td>17516</td>\n",
       "      <td>17572</td>\n",
       "      <td>20749</td>\n",
       "      <td>20710</td>\n",
       "      <td>20745</td>\n",
       "      <td>6157</td>\n",
       "      <td>6076</td>\n",
       "      <td>...</td>\n",
       "      <td>19732</td>\n",
       "      <td>19732</td>\n",
       "      <td>19264</td>\n",
       "      <td>11557</td>\n",
       "      <td>5938</td>\n",
       "      <td>20749</td>\n",
       "      <td>20749</td>\n",
       "      <td>20749</td>\n",
       "      <td>13343</td>\n",
       "      <td>20749</td>\n",
       "    </tr>\n",
       "    <tr>\n",
       "      <th rowspan=\"2\" valign=\"top\">2018</th>\n",
       "      <th>F</th>\n",
       "      <td>11941</td>\n",
       "      <td>11941</td>\n",
       "      <td>11941</td>\n",
       "      <td>9792</td>\n",
       "      <td>9806</td>\n",
       "      <td>11941</td>\n",
       "      <td>11915</td>\n",
       "      <td>11818</td>\n",
       "      <td>3778</td>\n",
       "      <td>3762</td>\n",
       "      <td>...</td>\n",
       "      <td>11568</td>\n",
       "      <td>11568</td>\n",
       "      <td>11329</td>\n",
       "      <td>7533</td>\n",
       "      <td>3604</td>\n",
       "      <td>11941</td>\n",
       "      <td>11941</td>\n",
       "      <td>11941</td>\n",
       "      <td>8272</td>\n",
       "      <td>11941</td>\n",
       "    </tr>\n",
       "    <tr>\n",
       "      <th>M</th>\n",
       "      <td>25835</td>\n",
       "      <td>25835</td>\n",
       "      <td>25835</td>\n",
       "      <td>21257</td>\n",
       "      <td>21342</td>\n",
       "      <td>25835</td>\n",
       "      <td>25782</td>\n",
       "      <td>25649</td>\n",
       "      <td>7401</td>\n",
       "      <td>7325</td>\n",
       "      <td>...</td>\n",
       "      <td>24490</td>\n",
       "      <td>24490</td>\n",
       "      <td>23801</td>\n",
       "      <td>14538</td>\n",
       "      <td>8205</td>\n",
       "      <td>25835</td>\n",
       "      <td>25835</td>\n",
       "      <td>25835</td>\n",
       "      <td>16296</td>\n",
       "      <td>25835</td>\n",
       "    </tr>\n",
       "    <tr>\n",
       "      <th rowspan=\"2\" valign=\"top\">2019</th>\n",
       "      <th>F</th>\n",
       "      <td>2621</td>\n",
       "      <td>2621</td>\n",
       "      <td>2621</td>\n",
       "      <td>2258</td>\n",
       "      <td>2259</td>\n",
       "      <td>2621</td>\n",
       "      <td>2621</td>\n",
       "      <td>2621</td>\n",
       "      <td>753</td>\n",
       "      <td>750</td>\n",
       "      <td>...</td>\n",
       "      <td>2538</td>\n",
       "      <td>2538</td>\n",
       "      <td>2494</td>\n",
       "      <td>1520</td>\n",
       "      <td>422</td>\n",
       "      <td>2621</td>\n",
       "      <td>2621</td>\n",
       "      <td>2621</td>\n",
       "      <td>2234</td>\n",
       "      <td>2621</td>\n",
       "    </tr>\n",
       "    <tr>\n",
       "      <th>M</th>\n",
       "      <td>5068</td>\n",
       "      <td>5068</td>\n",
       "      <td>5068</td>\n",
       "      <td>4440</td>\n",
       "      <td>4449</td>\n",
       "      <td>5068</td>\n",
       "      <td>5067</td>\n",
       "      <td>5068</td>\n",
       "      <td>1378</td>\n",
       "      <td>1361</td>\n",
       "      <td>...</td>\n",
       "      <td>4825</td>\n",
       "      <td>4825</td>\n",
       "      <td>4716</td>\n",
       "      <td>2806</td>\n",
       "      <td>853</td>\n",
       "      <td>5068</td>\n",
       "      <td>5068</td>\n",
       "      <td>5068</td>\n",
       "      <td>4031</td>\n",
       "      <td>5068</td>\n",
       "    </tr>\n",
       "  </tbody>\n",
       "</table>\n",
       "<p>5 rows × 36 columns</p>\n",
       "</div>"
      ],
      "text/plain": [
       "           Name  Event  Equipment    Age  AgeClass  Division  BodyweightKg  \\\n",
       "Year Sex                                                                     \n",
       "2017 M    20749  20749      20749  17516     17572     20749         20710   \n",
       "2018 F    11941  11941      11941   9792      9806     11941         11915   \n",
       "     M    25835  25835      25835  21257     21342     25835         25782   \n",
       "2019 F     2621   2621       2621   2258      2259      2621          2621   \n",
       "     M     5068   5068       5068   4440      4449      5068          5067   \n",
       "\n",
       "          WeightClassKg  Squat1Kg  Squat2Kg  ...  McCulloch  Glossbrenner  \\\n",
       "Year Sex                                     ...                            \n",
       "2017 M            20745      6157      6076  ...      19732         19732   \n",
       "2018 F            11818      3778      3762  ...      11568         11568   \n",
       "     M            25649      7401      7325  ...      24490         24490   \n",
       "2019 F             2621       753       750  ...       2538          2538   \n",
       "     M             5068      1378      1361  ...       4825          4825   \n",
       "\n",
       "          IPFPoints  Tested  Country  Federation   Date  MeetCountry  \\\n",
       "Year Sex                                                               \n",
       "2017 M        19264   11557     5938       20749  20749        20749   \n",
       "2018 F        11329    7533     3604       11941  11941        11941   \n",
       "     M        23801   14538     8205       25835  25835        25835   \n",
       "2019 F         2494    1520      422        2621   2621         2621   \n",
       "     M         4716    2806      853        5068   5068         5068   \n",
       "\n",
       "          MeetState  MeetName  \n",
       "Year Sex                       \n",
       "2017 M        13343     20749  \n",
       "2018 F         8272     11941  \n",
       "     M        16296     25835  \n",
       "2019 F         2234      2621  \n",
       "     M         4031      5068  \n",
       "\n",
       "[5 rows x 36 columns]"
      ]
     },
     "execution_count": 26,
     "metadata": {},
     "output_type": "execute_result"
    }
   ],
   "source": [
    "# group data by both the year and gender and count number of rows\n",
    "fm_yearly = open_df.groupby(['Year','Sex']).count()\n",
    "fm_yearly.tail()"
   ]
  },
  {
   "cell_type": "code",
   "execution_count": 27,
   "id": "eb693d7e",
   "metadata": {},
   "outputs": [],
   "source": [
    "# make dataframe, a, that resets the index of fm_yearly such that men and women are grouped separately for each year\n",
    "a = fm_yearly.loc[(pd.to_datetime('1964',format=\"%Y\").year,'M') : (pd.to_datetime('2019',format=\"%Y\").year,'M'),'Name'].reset_index(level=[0,1]).sort_values('Sex')"
   ]
  },
  {
   "cell_type": "code",
   "execution_count": 28,
   "id": "9f80347a",
   "metadata": {},
   "outputs": [
    {
     "data": {
      "text/html": [
       "<div>\n",
       "<style scoped>\n",
       "    .dataframe tbody tr th:only-of-type {\n",
       "        vertical-align: middle;\n",
       "    }\n",
       "\n",
       "    .dataframe tbody tr th {\n",
       "        vertical-align: top;\n",
       "    }\n",
       "\n",
       "    .dataframe thead th {\n",
       "        text-align: right;\n",
       "    }\n",
       "</style>\n",
       "<table border=\"1\" class=\"dataframe\">\n",
       "  <thead>\n",
       "    <tr style=\"text-align: right;\">\n",
       "      <th></th>\n",
       "      <th>Year</th>\n",
       "      <th>Sex</th>\n",
       "      <th>Name</th>\n",
       "    </tr>\n",
       "  </thead>\n",
       "  <tbody>\n",
       "    <tr>\n",
       "      <th>11</th>\n",
       "      <td>1975</td>\n",
       "      <td>F</td>\n",
       "      <td>8</td>\n",
       "    </tr>\n",
       "    <tr>\n",
       "      <th>16</th>\n",
       "      <td>1979</td>\n",
       "      <td>F</td>\n",
       "      <td>60</td>\n",
       "    </tr>\n",
       "    <tr>\n",
       "      <th>18</th>\n",
       "      <td>1980</td>\n",
       "      <td>F</td>\n",
       "      <td>232</td>\n",
       "    </tr>\n",
       "    <tr>\n",
       "      <th>20</th>\n",
       "      <td>1981</td>\n",
       "      <td>F</td>\n",
       "      <td>343</td>\n",
       "    </tr>\n",
       "    <tr>\n",
       "      <th>22</th>\n",
       "      <td>1982</td>\n",
       "      <td>F</td>\n",
       "      <td>532</td>\n",
       "    </tr>\n",
       "  </tbody>\n",
       "</table>\n",
       "</div>"
      ],
      "text/plain": [
       "    Year Sex  Name\n",
       "11  1975   F     8\n",
       "16  1979   F    60\n",
       "18  1980   F   232\n",
       "20  1981   F   343\n",
       "22  1982   F   532"
      ]
     },
     "execution_count": 28,
     "metadata": {},
     "output_type": "execute_result"
    }
   ],
   "source": [
    "# make data frame that only has women\n",
    "f_df = a.head(42)\n",
    "f_df = f_df.sort_values('Year')\n",
    "f_df.head()"
   ]
  },
  {
   "cell_type": "code",
   "execution_count": 29,
   "id": "ee315caf",
   "metadata": {},
   "outputs": [
    {
     "data": {
      "text/html": [
       "<div>\n",
       "<style scoped>\n",
       "    .dataframe tbody tr th:only-of-type {\n",
       "        vertical-align: middle;\n",
       "    }\n",
       "\n",
       "    .dataframe tbody tr th {\n",
       "        vertical-align: top;\n",
       "    }\n",
       "\n",
       "    .dataframe thead th {\n",
       "        text-align: right;\n",
       "    }\n",
       "</style>\n",
       "<table border=\"1\" class=\"dataframe\">\n",
       "  <thead>\n",
       "    <tr style=\"text-align: right;\">\n",
       "      <th></th>\n",
       "      <th>Year</th>\n",
       "      <th>Sex</th>\n",
       "      <th>Name</th>\n",
       "    </tr>\n",
       "  </thead>\n",
       "  <tbody>\n",
       "    <tr>\n",
       "      <th>0</th>\n",
       "      <td>1964</td>\n",
       "      <td>M</td>\n",
       "      <td>21</td>\n",
       "    </tr>\n",
       "    <tr>\n",
       "      <th>1</th>\n",
       "      <td>1965</td>\n",
       "      <td>M</td>\n",
       "      <td>45</td>\n",
       "    </tr>\n",
       "    <tr>\n",
       "      <th>2</th>\n",
       "      <td>1966</td>\n",
       "      <td>M</td>\n",
       "      <td>41</td>\n",
       "    </tr>\n",
       "    <tr>\n",
       "      <th>3</th>\n",
       "      <td>1967</td>\n",
       "      <td>M</td>\n",
       "      <td>44</td>\n",
       "    </tr>\n",
       "    <tr>\n",
       "      <th>4</th>\n",
       "      <td>1968</td>\n",
       "      <td>M</td>\n",
       "      <td>63</td>\n",
       "    </tr>\n",
       "  </tbody>\n",
       "</table>\n",
       "</div>"
      ],
      "text/plain": [
       "   Year Sex  Name\n",
       "0  1964   M    21\n",
       "1  1965   M    45\n",
       "2  1966   M    41\n",
       "3  1967   M    44\n",
       "4  1968   M    63"
      ]
     },
     "execution_count": 29,
     "metadata": {},
     "output_type": "execute_result"
    }
   ],
   "source": [
    "# make dataframe that only consists of men\n",
    "m_df = a.iloc[42:,:]\n",
    "m_df = m_df.sort_values('Year')\n",
    "m_df.head()"
   ]
  },
  {
   "cell_type": "code",
   "execution_count": 31,
   "id": "17b35db5",
   "metadata": {},
   "outputs": [
    {
     "data": {
      "text/plain": [
       "Text(0.5, 1.0, 'Number of Female Participants (Open Division)')"
      ]
     },
     "execution_count": 31,
     "metadata": {},
     "output_type": "execute_result"
    },
    {
     "data": {
      "image/png": "[encoded data removed]",
      "text/plain": [
       "<Figure size 432x288 with 1 Axes>"
      ]
     },
     "metadata": {
      "needs_background": "light"
     },
     "output_type": "display_data"
    }
   ],
   "source": [
    "plt.plot(f_df['Year'], f_df['Name'])\n",
    "plt.xlabel('Year')\n",
    "plt.ylabel('Participants')\n",
    "plt.title('Number of Female Participants (Open Division)')"
   ]
  },
  {
   "cell_type": "code",
   "execution_count": 32,
   "id": "86094c41",
   "metadata": {},
   "outputs": [
    {
     "data": {
      "text/plain": [
       "Text(0.5, 1.0, 'Number of Male Participants (Open Division)')"
      ]
     },
     "execution_count": 32,
     "metadata": {},
     "output_type": "execute_result"
    },
    {
     "data": {
      "image/png": "[encoded data removed]",
      "text/plain": [
       "<Figure size 432x288 with 1 Axes>"
      ]
     },
     "metadata": {
      "needs_background": "light"
     },
     "output_type": "display_data"
    }
   ],
   "source": [
    "plt.plot(m_df['Year'], m_df['Name'])\n",
    "plt.xlabel('Year')\n",
    "plt.ylabel('Participants')\n",
    "plt.title('Number of Male Participants (Open Division)')"
   ]
  },
  {
   "cell_type": "code",
   "execution_count": 148,
   "id": "c2a1ca9a",
   "metadata": {},
   "outputs": [
    {
     "data": {
      "text/plain": [
       "array([   21,    45,    41,    44,    63,    41,    44,   128,   184,\n",
       "         121,   337,   391,   354,   313,   512,  2383,  2007,  2280,\n",
       "        2476,  2178,  1942,  2046,  2096,  2422,  2465,  2452,  1788,\n",
       "        2393,  2319,  3656,  2899,  2945,  3888,  3629,  5012,  4285,\n",
       "        5259,  4903,  5255,  5814,  6089,  5402,  5315,  5934,  6210,\n",
       "        7218,  6784,  8305,  9375, 11017, 13592, 15715, 18964, 20749,\n",
       "       25835,  5068])"
      ]
     },
     "execution_count": 148,
     "metadata": {},
     "output_type": "execute_result"
    }
   ],
   "source": [
    "m_df['Name'].values"
   ]
  },
  {
   "cell_type": "code",
   "execution_count": 33,
   "id": "7d161477",
   "metadata": {},
   "outputs": [],
   "source": [
    "from datetime import datetime\n",
    "\n",
    "#focus on dates from 1980 to 2019\n",
    "m_df_after_1980 = m_df[m_df['Year'] >= datetime.strptime('1980','%Y').year]\n",
    "f_df_after_1980 = f_df[f_df['Year'] >= datetime.strptime('1980','%Y').year]\n",
    "\n"
   ]
  },
  {
   "cell_type": "code",
   "execution_count": 35,
   "id": "426ee19f",
   "metadata": {},
   "outputs": [],
   "source": [
    "# total number of participants for each year\n",
    "total_count_after_1980 = [sum(x) for x in zip(m_df_after_1980['Name'], f_df_after_1980['Name'])]"
   ]
  },
  {
   "cell_type": "code",
   "execution_count": 36,
   "id": "0b20a7d6",
   "metadata": {},
   "outputs": [],
   "source": [
    "# percentage of female and male participants for each year\n",
    "f_percent = [round(100 * i / j,2) for i, j in zip(f_df_after_1980['Name'], total_count_after_1980)]\n",
    "m_percent = [round(100* i / j,2) for i, j in zip(m_df_after_1980['Name'], total_count_after_1980)]"
   ]
  },
  {
   "cell_type": "code",
   "execution_count": 37,
   "id": "30f81313",
   "metadata": {},
   "outputs": [],
   "source": [
    "years = np.arange(1980, 2020)"
   ]
  },
  {
   "cell_type": "code",
   "execution_count": 44,
   "id": "71bdb6f5",
   "metadata": {},
   "outputs": [
    {
     "data": {
      "text/plain": [
       "<matplotlib.legend.Legend at 0x7ff33ec4d190>"
      ]
     },
     "execution_count": 44,
     "metadata": {},
     "output_type": "execute_result"
    },
    {
     "data": {
      "image/png": "[encoded data removed]",
      "text/plain": [
       "<Figure size 432x288 with 1 Axes>"
      ]
     },
     "metadata": {
      "needs_background": "light"
     },
     "output_type": "display_data"
    }
   ],
   "source": [
    "fig, ax = plt.subplots()\n",
    "ax.plot(years, m_percent, label = \"Male\", color = 'blue')\n",
    "ax.plot(years,f_percent, label = \"Female\", color = 'red')\n",
    "ax.set_title('Percentage of Participants of Both Genders (Open Division)')\n",
    "ax.set_xlabel('Year')\n",
    "ax.set_ylabel('Percentage (%)')\n",
    "ax.legend()"
   ]
  },
  {
   "cell_type": "code",
   "execution_count": 45,
   "id": "db0d5081",
   "metadata": {},
   "outputs": [
    {
     "data": {
      "text/html": [
       "<div>\n",
       "<style scoped>\n",
       "    .dataframe tbody tr th:only-of-type {\n",
       "        vertical-align: middle;\n",
       "    }\n",
       "\n",
       "    .dataframe tbody tr th {\n",
       "        vertical-align: top;\n",
       "    }\n",
       "\n",
       "    .dataframe thead th {\n",
       "        text-align: right;\n",
       "    }\n",
       "</style>\n",
       "<table border=\"1\" class=\"dataframe\">\n",
       "  <thead>\n",
       "    <tr style=\"text-align: right;\">\n",
       "      <th></th>\n",
       "      <th></th>\n",
       "      <th>Name</th>\n",
       "      <th>Sex</th>\n",
       "      <th>Event</th>\n",
       "      <th>Age</th>\n",
       "      <th>AgeClass</th>\n",
       "      <th>Division</th>\n",
       "      <th>BodyweightKg</th>\n",
       "      <th>WeightClassKg</th>\n",
       "      <th>Squat1Kg</th>\n",
       "      <th>Squat2Kg</th>\n",
       "      <th>...</th>\n",
       "      <th>McCulloch</th>\n",
       "      <th>Glossbrenner</th>\n",
       "      <th>IPFPoints</th>\n",
       "      <th>Tested</th>\n",
       "      <th>Country</th>\n",
       "      <th>Federation</th>\n",
       "      <th>Date</th>\n",
       "      <th>MeetCountry</th>\n",
       "      <th>MeetState</th>\n",
       "      <th>MeetName</th>\n",
       "    </tr>\n",
       "    <tr>\n",
       "      <th>Year</th>\n",
       "      <th>Equipment</th>\n",
       "      <th></th>\n",
       "      <th></th>\n",
       "      <th></th>\n",
       "      <th></th>\n",
       "      <th></th>\n",
       "      <th></th>\n",
       "      <th></th>\n",
       "      <th></th>\n",
       "      <th></th>\n",
       "      <th></th>\n",
       "      <th></th>\n",
       "      <th></th>\n",
       "      <th></th>\n",
       "      <th></th>\n",
       "      <th></th>\n",
       "      <th></th>\n",
       "      <th></th>\n",
       "      <th></th>\n",
       "      <th></th>\n",
       "      <th></th>\n",
       "      <th></th>\n",
       "    </tr>\n",
       "  </thead>\n",
       "  <tbody>\n",
       "    <tr>\n",
       "      <th>1964</th>\n",
       "      <th>Wraps</th>\n",
       "      <td>21</td>\n",
       "      <td>21</td>\n",
       "      <td>21</td>\n",
       "      <td>3</td>\n",
       "      <td>3</td>\n",
       "      <td>21</td>\n",
       "      <td>21</td>\n",
       "      <td>21</td>\n",
       "      <td>0</td>\n",
       "      <td>0</td>\n",
       "      <td>...</td>\n",
       "      <td>21</td>\n",
       "      <td>21</td>\n",
       "      <td>21</td>\n",
       "      <td>21</td>\n",
       "      <td>1</td>\n",
       "      <td>21</td>\n",
       "      <td>21</td>\n",
       "      <td>21</td>\n",
       "      <td>21</td>\n",
       "      <td>21</td>\n",
       "    </tr>\n",
       "    <tr>\n",
       "      <th rowspan=\"2\" valign=\"top\">1965</th>\n",
       "      <th>Raw</th>\n",
       "      <td>3</td>\n",
       "      <td>3</td>\n",
       "      <td>3</td>\n",
       "      <td>2</td>\n",
       "      <td>2</td>\n",
       "      <td>3</td>\n",
       "      <td>3</td>\n",
       "      <td>3</td>\n",
       "      <td>1</td>\n",
       "      <td>1</td>\n",
       "      <td>...</td>\n",
       "      <td>3</td>\n",
       "      <td>3</td>\n",
       "      <td>3</td>\n",
       "      <td>0</td>\n",
       "      <td>1</td>\n",
       "      <td>3</td>\n",
       "      <td>3</td>\n",
       "      <td>3</td>\n",
       "      <td>3</td>\n",
       "      <td>3</td>\n",
       "    </tr>\n",
       "    <tr>\n",
       "      <th>Wraps</th>\n",
       "      <td>42</td>\n",
       "      <td>42</td>\n",
       "      <td>42</td>\n",
       "      <td>8</td>\n",
       "      <td>8</td>\n",
       "      <td>42</td>\n",
       "      <td>36</td>\n",
       "      <td>42</td>\n",
       "      <td>2</td>\n",
       "      <td>2</td>\n",
       "      <td>...</td>\n",
       "      <td>35</td>\n",
       "      <td>35</td>\n",
       "      <td>35</td>\n",
       "      <td>0</td>\n",
       "      <td>5</td>\n",
       "      <td>42</td>\n",
       "      <td>42</td>\n",
       "      <td>42</td>\n",
       "      <td>42</td>\n",
       "      <td>42</td>\n",
       "    </tr>\n",
       "    <tr>\n",
       "      <th>1966</th>\n",
       "      <th>Wraps</th>\n",
       "      <td>41</td>\n",
       "      <td>41</td>\n",
       "      <td>41</td>\n",
       "      <td>15</td>\n",
       "      <td>15</td>\n",
       "      <td>41</td>\n",
       "      <td>36</td>\n",
       "      <td>41</td>\n",
       "      <td>10</td>\n",
       "      <td>10</td>\n",
       "      <td>...</td>\n",
       "      <td>32</td>\n",
       "      <td>32</td>\n",
       "      <td>32</td>\n",
       "      <td>0</td>\n",
       "      <td>10</td>\n",
       "      <td>41</td>\n",
       "      <td>41</td>\n",
       "      <td>41</td>\n",
       "      <td>41</td>\n",
       "      <td>41</td>\n",
       "    </tr>\n",
       "    <tr>\n",
       "      <th>1967</th>\n",
       "      <th>Raw</th>\n",
       "      <td>1</td>\n",
       "      <td>1</td>\n",
       "      <td>1</td>\n",
       "      <td>1</td>\n",
       "      <td>1</td>\n",
       "      <td>1</td>\n",
       "      <td>1</td>\n",
       "      <td>1</td>\n",
       "      <td>1</td>\n",
       "      <td>1</td>\n",
       "      <td>...</td>\n",
       "      <td>1</td>\n",
       "      <td>1</td>\n",
       "      <td>1</td>\n",
       "      <td>0</td>\n",
       "      <td>1</td>\n",
       "      <td>1</td>\n",
       "      <td>1</td>\n",
       "      <td>1</td>\n",
       "      <td>1</td>\n",
       "      <td>1</td>\n",
       "    </tr>\n",
       "  </tbody>\n",
       "</table>\n",
       "<p>5 rows × 36 columns</p>\n",
       "</div>"
      ],
      "text/plain": [
       "                Name  Sex  Event  Age  AgeClass  Division  BodyweightKg  \\\n",
       "Year Equipment                                                            \n",
       "1964 Wraps        21   21     21    3         3        21            21   \n",
       "1965 Raw           3    3      3    2         2         3             3   \n",
       "     Wraps        42   42     42    8         8        42            36   \n",
       "1966 Wraps        41   41     41   15        15        41            36   \n",
       "1967 Raw           1    1      1    1         1         1             1   \n",
       "\n",
       "                WeightClassKg  Squat1Kg  Squat2Kg  ...  McCulloch  \\\n",
       "Year Equipment                                     ...              \n",
       "1964 Wraps                 21         0         0  ...         21   \n",
       "1965 Raw                    3         1         1  ...          3   \n",
       "     Wraps                 42         2         2  ...         35   \n",
       "1966 Wraps                 41        10        10  ...         32   \n",
       "1967 Raw                    1         1         1  ...          1   \n",
       "\n",
       "                Glossbrenner  IPFPoints  Tested  Country  Federation  Date  \\\n",
       "Year Equipment                                                               \n",
       "1964 Wraps                21         21      21        1          21    21   \n",
       "1965 Raw                   3          3       0        1           3     3   \n",
       "     Wraps                35         35       0        5          42    42   \n",
       "1966 Wraps                32         32       0       10          41    41   \n",
       "1967 Raw                   1          1       0        1           1     1   \n",
       "\n",
       "                MeetCountry  MeetState  MeetName  \n",
       "Year Equipment                                    \n",
       "1964 Wraps               21         21        21  \n",
       "1965 Raw                  3          3         3  \n",
       "     Wraps               42         42        42  \n",
       "1966 Wraps               41         41        41  \n",
       "1967 Raw                  1          1         1  \n",
       "\n",
       "[5 rows x 36 columns]"
      ]
     },
     "execution_count": 45,
     "metadata": {},
     "output_type": "execute_result"
    }
   ],
   "source": [
    "# group by year and Equipment used\n",
    "equip_yearly = open_df.groupby(['Year','Equipment']).count()\n",
    "equip_yearly.head()"
   ]
  },
  {
   "cell_type": "code",
   "execution_count": 46,
   "id": "be00bd20",
   "metadata": {},
   "outputs": [
    {
     "data": {
      "text/html": [
       "<div>\n",
       "<style scoped>\n",
       "    .dataframe tbody tr th:only-of-type {\n",
       "        vertical-align: middle;\n",
       "    }\n",
       "\n",
       "    .dataframe tbody tr th {\n",
       "        vertical-align: top;\n",
       "    }\n",
       "\n",
       "    .dataframe thead th {\n",
       "        text-align: right;\n",
       "    }\n",
       "</style>\n",
       "<table border=\"1\" class=\"dataframe\">\n",
       "  <thead>\n",
       "    <tr style=\"text-align: right;\">\n",
       "      <th></th>\n",
       "      <th>Year</th>\n",
       "      <th>Equipment</th>\n",
       "      <th>Name</th>\n",
       "    </tr>\n",
       "  </thead>\n",
       "  <tbody>\n",
       "    <tr>\n",
       "      <th>0</th>\n",
       "      <td>1964</td>\n",
       "      <td>Wraps</td>\n",
       "      <td>21</td>\n",
       "    </tr>\n",
       "    <tr>\n",
       "      <th>1</th>\n",
       "      <td>1965</td>\n",
       "      <td>Raw</td>\n",
       "      <td>3</td>\n",
       "    </tr>\n",
       "    <tr>\n",
       "      <th>2</th>\n",
       "      <td>1965</td>\n",
       "      <td>Wraps</td>\n",
       "      <td>42</td>\n",
       "    </tr>\n",
       "    <tr>\n",
       "      <th>3</th>\n",
       "      <td>1966</td>\n",
       "      <td>Wraps</td>\n",
       "      <td>41</td>\n",
       "    </tr>\n",
       "    <tr>\n",
       "      <th>4</th>\n",
       "      <td>1967</td>\n",
       "      <td>Raw</td>\n",
       "      <td>1</td>\n",
       "    </tr>\n",
       "  </tbody>\n",
       "</table>\n",
       "</div>"
      ],
      "text/plain": [
       "   Year Equipment  Name\n",
       "0  1964     Wraps    21\n",
       "1  1965       Raw     3\n",
       "2  1965     Wraps    42\n",
       "3  1966     Wraps    41\n",
       "4  1967       Raw     1"
      ]
     },
     "execution_count": 46,
     "metadata": {},
     "output_type": "execute_result"
    }
   ],
   "source": [
    "# reset the index\n",
    "b= equip_yearly.loc[(pd.to_datetime('1964',format=\"%Y\").year,'Wraps') : (pd.to_datetime('2019',format=\"%Y\").year,'Wraps'),'Name'].reset_index(level=[0,1])\n",
    "b.head()"
   ]
  },
  {
   "cell_type": "code",
   "execution_count": 47,
   "id": "68744d1a",
   "metadata": {},
   "outputs": [],
   "source": [
    "start_date = pd.to_datetime('1964',format=\"%Y\").year\n",
    "end_date = pd.to_datetime('2019',format=\"%Y\").year\n",
    "years = np.arange(start_date, end_date)\n",
    "years = np.append(years,end_date)\n",
    "equipment_list = open_df['Equipment'].unique()\n",
    "\n",
    "# set any missing equipment to value 0\n",
    "for year in years:\n",
    "    for equipment in equipment_list:\n",
    "        if equipment not in equip_yearly.loc[year].index.tolist():\n",
    "            b.loc[len(b)] = [year,equipment,0]\n",
    "\n",
    "b= b.sort_values('Year')\n"
   ]
  },
  {
   "cell_type": "code",
   "execution_count": 48,
   "id": "9a12dfa3",
   "metadata": {},
   "outputs": [],
   "source": [
    "wraps = b[b['Equipment']=='Wraps']['Name']\n",
    "straps = b[b['Equipment']=='Straps']['Name']\n",
    "raw = b[b['Equipment'] == 'Raw']['Name']\n",
    "multi = b[b['Equipment']=='Multi-ply']['Name']\n",
    "single = b[b['Equipment']=='Single-ply']['Name']"
   ]
  },
  {
   "cell_type": "code",
   "execution_count": 49,
   "id": "dc01d74b",
   "metadata": {},
   "outputs": [],
   "source": [
    "total_count = [sum(x) for x in zip(wraps.values,straps.values,raw.values,multi.values,single.values)]"
   ]
  },
  {
   "cell_type": "code",
   "execution_count": 50,
   "id": "85a332ac",
   "metadata": {},
   "outputs": [],
   "source": [
    "# calculate the percentage of participants who used each equipment per year\n",
    "wraps_percent = [round(i/j*100,2) for i,j in zip(wraps, total_count)]\n",
    "straps_percent = [round(i/j*100,2) for i,j in zip(straps, total_count)]\n",
    "raw_percent = [round(i/j*100,2) for i,j in zip(raw, total_count)]\n",
    "multi_percent = [round(i/j*100,2) for i,j in zip(multi, total_count)]\n",
    "single_percent = [round(i/j*100,2) for i,j in zip(single, total_count)]"
   ]
  },
  {
   "cell_type": "code",
   "execution_count": 51,
   "id": "5a027cae",
   "metadata": {},
   "outputs": [
    {
     "data": {
      "text/plain": [
       "Text(0.5, 1.0, 'Usage of Wraps from 1964-1980')"
      ]
     },
     "execution_count": 51,
     "metadata": {},
     "output_type": "execute_result"
    },
    {
     "data": {
      "image/png": "[encoded data removed]",
      "text/plain": [
       "<Figure size 432x288 with 1 Axes>"
      ]
     },
     "metadata": {
      "needs_background": "light"
     },
     "output_type": "display_data"
    }
   ],
   "source": [
    "plt.plot(years, wraps_percent)\n",
    "plt.xlabel('Year')\n",
    "plt.ylabel('Percent (%)')\n",
    "plt.title('Usage of Wraps from 1964-1980')"
   ]
  },
  {
   "cell_type": "code",
   "execution_count": 52,
   "id": "48baf701",
   "metadata": {},
   "outputs": [
    {
     "data": {
      "text/plain": [
       "Text(0.5, 1.0, 'Usage of Straps from 1964-1980')"
      ]
     },
     "execution_count": 52,
     "metadata": {},
     "output_type": "execute_result"
    },
    {
     "data": {
      "image/png": "[encoded data removed]",
      "text/plain": [
       "<Figure size 432x288 with 1 Axes>"
      ]
     },
     "metadata": {
      "needs_background": "light"
     },
     "output_type": "display_data"
    }
   ],
   "source": [
    "plt.plot(years, straps_percent)\n",
    "plt.xlabel('Year')\n",
    "plt.ylabel('Percent (%)')\n",
    "plt.title('Usage of Straps from 1964-1980')"
   ]
  },
  {
   "cell_type": "code",
   "execution_count": 53,
   "id": "4687d9e1",
   "metadata": {},
   "outputs": [
    {
     "data": {
      "text/plain": [
       "Text(0.5, 1.0, 'Percentage of Those Choosing Raw from 1964-1980')"
      ]
     },
     "execution_count": 53,
     "metadata": {},
     "output_type": "execute_result"
    },
    {
     "data": {
      "image/png": "[encoded data removed]",
      "text/plain": [
       "<Figure size 432x288 with 1 Axes>"
      ]
     },
     "metadata": {
      "needs_background": "light"
     },
     "output_type": "display_data"
    }
   ],
   "source": [
    "plt.plot(years, raw_percent)\n",
    "plt.xlabel('Year')\n",
    "plt.ylabel('Percent (%)')\n",
    "plt.title('Percentage of Those Choosing Raw from 1964-1980')"
   ]
  },
  {
   "cell_type": "code",
   "execution_count": 54,
   "id": "3feade3d",
   "metadata": {},
   "outputs": [
    {
     "data": {
      "text/plain": [
       "Text(0.5, 1.0, 'Usage of Multi-Ply from 1964-1980')"
      ]
     },
     "execution_count": 54,
     "metadata": {},
     "output_type": "execute_result"
    },
    {
     "data": {
      "image/png": "[encoded data removed]",
      "text/plain": [
       "<Figure size 432x288 with 1 Axes>"
      ]
     },
     "metadata": {
      "needs_background": "light"
     },
     "output_type": "display_data"
    }
   ],
   "source": [
    "plt.plot(years, multi_percent)\n",
    "plt.xlabel('Year')\n",
    "plt.ylabel('Percent (%)')\n",
    "plt.title('Usage of Multi-Ply from 1964-1980')"
   ]
  },
  {
   "cell_type": "code",
   "execution_count": 55,
   "id": "9098cdad",
   "metadata": {},
   "outputs": [
    {
     "data": {
      "text/plain": [
       "Text(0.5, 1.0, 'Usage of Single-Ply from 1964-1980')"
      ]
     },
     "execution_count": 55,
     "metadata": {},
     "output_type": "execute_result"
    },
    {
     "data": {
      "image/png": "[encoded data removed]",
      "text/plain": [
       "<Figure size 432x288 with 1 Axes>"
      ]
     },
     "metadata": {
      "needs_background": "light"
     },
     "output_type": "display_data"
    }
   ],
   "source": [
    "plt.plot(years, single_percent)\n",
    "plt.xlabel('Year')\n",
    "plt.ylabel('Percent (%)')\n",
    "plt.title('Usage of Single-Ply from 1964-1980')"
   ]
  },
  {
   "cell_type": "code",
   "execution_count": 57,
   "id": "65e0c90f",
   "metadata": {},
   "outputs": [
    {
     "data": {
      "text/plain": [
       "[<matplotlib.lines.Line2D at 0x7ff3406dee10>]"
      ]
     },
     "execution_count": 57,
     "metadata": {},
     "output_type": "execute_result"
    },
    {
     "data": {
      "image/png": "[encoded data removed]",
      "text/plain": [
       "<Figure size 432x288 with 1 Axes>"
      ]
     },
     "metadata": {
      "needs_background": "light"
     },
     "output_type": "display_data"
    }
   ],
   "source": [
    "# plotting all equipment together is too confusing\n",
    "fig, ax = plt.subplots()\n",
    "ax.plot(years, wraps_percent)\n",
    "ax.plot(years, straps_percent)\n",
    "ax.plot(years, raw_percent)\n",
    "ax.plot(years, multi_percent)\n",
    "ax.plot(years, single_percent)"
   ]
  },
  {
   "cell_type": "code",
   "execution_count": null,
   "id": "65766fd3",
   "metadata": {},
   "outputs": [],
   "source": []
  }
 ],
 "metadata": {
  "kernelspec": {
   "display_name": "PythonData",
   "language": "python",
   "name": "pythondata"
  },
  "language_info": {
   "codemirror_mode": {
    "name": "ipython",
    "version": 3
   },
   "file_extension": ".py",
   "mimetype": "text/x-python",
   "name": "python",
   "nbconvert_exporter": "python",
   "pygments_lexer": "ipython3",
   "version": "3.7.13"
  }
 },
 "nbformat": 4,
 "nbformat_minor": 5
}
