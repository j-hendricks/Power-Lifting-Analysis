{
 "cells": [
  {
   "cell_type": "code",
   "execution_count": 112,
   "id": "a51b8dee",
   "metadata": {},
   "outputs": [],
   "source": [
    "%matplotlib inline\n",
    "import pandas as pd\n",
    "import numpy as np\n",
    "import matplotlib.pyplot as plt"
   ]
  },
  {
   "cell_type": "code",
   "execution_count": 113,
   "id": "2a480677",
   "metadata": {},
   "outputs": [
    {
     "name": "stderr",
     "output_type": "stream",
     "text": [
      "/Users/johnwhendricks/opt/anaconda3/envs/PythonData/lib/python3.7/site-packages/IPython/core/interactiveshell.py:3457: DtypeWarning: Columns (35) have mixed types.Specify dtype option on import or set low_memory=False.\n",
      "  exec(code_obj, self.user_global_ns, self.user_ns)\n"
     ]
    },
    {
     "data": {
      "text/html": [
       "<div>\n",
       "<style scoped>\n",
       "    .dataframe tbody tr th:only-of-type {\n",
       "        vertical-align: middle;\n",
       "    }\n",
       "\n",
       "    .dataframe tbody tr th {\n",
       "        vertical-align: top;\n",
       "    }\n",
       "\n",
       "    .dataframe thead th {\n",
       "        text-align: right;\n",
       "    }\n",
       "</style>\n",
       "<table border=\"1\" class=\"dataframe\">\n",
       "  <thead>\n",
       "    <tr style=\"text-align: right;\">\n",
       "      <th></th>\n",
       "      <th>Name</th>\n",
       "      <th>Sex</th>\n",
       "      <th>Event</th>\n",
       "      <th>Equipment</th>\n",
       "      <th>Age</th>\n",
       "      <th>AgeClass</th>\n",
       "      <th>Division</th>\n",
       "      <th>BodyweightKg</th>\n",
       "      <th>WeightClassKg</th>\n",
       "      <th>Squat1Kg</th>\n",
       "      <th>...</th>\n",
       "      <th>McCulloch</th>\n",
       "      <th>Glossbrenner</th>\n",
       "      <th>IPFPoints</th>\n",
       "      <th>Tested</th>\n",
       "      <th>Country</th>\n",
       "      <th>Federation</th>\n",
       "      <th>Date</th>\n",
       "      <th>MeetCountry</th>\n",
       "      <th>MeetState</th>\n",
       "      <th>MeetName</th>\n",
       "    </tr>\n",
       "  </thead>\n",
       "  <tbody>\n",
       "    <tr>\n",
       "      <th>0</th>\n",
       "      <td>Abbie Murphy</td>\n",
       "      <td>F</td>\n",
       "      <td>SBD</td>\n",
       "      <td>Wraps</td>\n",
       "      <td>29.0</td>\n",
       "      <td>24-34</td>\n",
       "      <td>F-OR</td>\n",
       "      <td>59.8</td>\n",
       "      <td>60</td>\n",
       "      <td>80.0</td>\n",
       "      <td>...</td>\n",
       "      <td>324.16</td>\n",
       "      <td>286.42</td>\n",
       "      <td>511.15</td>\n",
       "      <td>NaN</td>\n",
       "      <td>NaN</td>\n",
       "      <td>GPC-AUS</td>\n",
       "      <td>2018-10-27</td>\n",
       "      <td>Australia</td>\n",
       "      <td>VIC</td>\n",
       "      <td>Melbourne Cup</td>\n",
       "    </tr>\n",
       "    <tr>\n",
       "      <th>1</th>\n",
       "      <td>Abbie Tuong</td>\n",
       "      <td>F</td>\n",
       "      <td>SBD</td>\n",
       "      <td>Wraps</td>\n",
       "      <td>29.0</td>\n",
       "      <td>24-34</td>\n",
       "      <td>F-OR</td>\n",
       "      <td>58.5</td>\n",
       "      <td>60</td>\n",
       "      <td>100.0</td>\n",
       "      <td>...</td>\n",
       "      <td>378.07</td>\n",
       "      <td>334.16</td>\n",
       "      <td>595.65</td>\n",
       "      <td>NaN</td>\n",
       "      <td>NaN</td>\n",
       "      <td>GPC-AUS</td>\n",
       "      <td>2018-10-27</td>\n",
       "      <td>Australia</td>\n",
       "      <td>VIC</td>\n",
       "      <td>Melbourne Cup</td>\n",
       "    </tr>\n",
       "    <tr>\n",
       "      <th>2</th>\n",
       "      <td>Ainslee Hooper</td>\n",
       "      <td>F</td>\n",
       "      <td>B</td>\n",
       "      <td>Raw</td>\n",
       "      <td>40.0</td>\n",
       "      <td>40-44</td>\n",
       "      <td>F-OR</td>\n",
       "      <td>55.4</td>\n",
       "      <td>56</td>\n",
       "      <td>NaN</td>\n",
       "      <td>...</td>\n",
       "      <td>38.56</td>\n",
       "      <td>34.12</td>\n",
       "      <td>313.97</td>\n",
       "      <td>NaN</td>\n",
       "      <td>NaN</td>\n",
       "      <td>GPC-AUS</td>\n",
       "      <td>2018-10-27</td>\n",
       "      <td>Australia</td>\n",
       "      <td>VIC</td>\n",
       "      <td>Melbourne Cup</td>\n",
       "    </tr>\n",
       "    <tr>\n",
       "      <th>3</th>\n",
       "      <td>Amy Moldenhauer</td>\n",
       "      <td>F</td>\n",
       "      <td>SBD</td>\n",
       "      <td>Wraps</td>\n",
       "      <td>23.0</td>\n",
       "      <td>20-23</td>\n",
       "      <td>F-OR</td>\n",
       "      <td>60.0</td>\n",
       "      <td>60</td>\n",
       "      <td>-105.0</td>\n",
       "      <td>...</td>\n",
       "      <td>345.61</td>\n",
       "      <td>305.37</td>\n",
       "      <td>547.04</td>\n",
       "      <td>NaN</td>\n",
       "      <td>NaN</td>\n",
       "      <td>GPC-AUS</td>\n",
       "      <td>2018-10-27</td>\n",
       "      <td>Australia</td>\n",
       "      <td>VIC</td>\n",
       "      <td>Melbourne Cup</td>\n",
       "    </tr>\n",
       "    <tr>\n",
       "      <th>4</th>\n",
       "      <td>Andrea Rowan</td>\n",
       "      <td>F</td>\n",
       "      <td>SBD</td>\n",
       "      <td>Wraps</td>\n",
       "      <td>45.0</td>\n",
       "      <td>45-49</td>\n",
       "      <td>F-OR</td>\n",
       "      <td>104.0</td>\n",
       "      <td>110</td>\n",
       "      <td>120.0</td>\n",
       "      <td>...</td>\n",
       "      <td>338.91</td>\n",
       "      <td>274.56</td>\n",
       "      <td>550.08</td>\n",
       "      <td>NaN</td>\n",
       "      <td>NaN</td>\n",
       "      <td>GPC-AUS</td>\n",
       "      <td>2018-10-27</td>\n",
       "      <td>Australia</td>\n",
       "      <td>VIC</td>\n",
       "      <td>Melbourne Cup</td>\n",
       "    </tr>\n",
       "  </tbody>\n",
       "</table>\n",
       "<p>5 rows × 37 columns</p>\n",
       "</div>"
      ],
      "text/plain": [
       "              Name Sex Event Equipment   Age AgeClass Division  BodyweightKg  \\\n",
       "0     Abbie Murphy   F   SBD     Wraps  29.0    24-34     F-OR          59.8   \n",
       "1      Abbie Tuong   F   SBD     Wraps  29.0    24-34     F-OR          58.5   \n",
       "2   Ainslee Hooper   F     B       Raw  40.0    40-44     F-OR          55.4   \n",
       "3  Amy Moldenhauer   F   SBD     Wraps  23.0    20-23     F-OR          60.0   \n",
       "4     Andrea Rowan   F   SBD     Wraps  45.0    45-49     F-OR         104.0   \n",
       "\n",
       "  WeightClassKg  Squat1Kg  ...  McCulloch  Glossbrenner  IPFPoints  Tested  \\\n",
       "0            60      80.0  ...     324.16        286.42     511.15     NaN   \n",
       "1            60     100.0  ...     378.07        334.16     595.65     NaN   \n",
       "2            56       NaN  ...      38.56         34.12     313.97     NaN   \n",
       "3            60    -105.0  ...     345.61        305.37     547.04     NaN   \n",
       "4           110     120.0  ...     338.91        274.56     550.08     NaN   \n",
       "\n",
       "   Country  Federation        Date  MeetCountry  MeetState       MeetName  \n",
       "0      NaN     GPC-AUS  2018-10-27    Australia        VIC  Melbourne Cup  \n",
       "1      NaN     GPC-AUS  2018-10-27    Australia        VIC  Melbourne Cup  \n",
       "2      NaN     GPC-AUS  2018-10-27    Australia        VIC  Melbourne Cup  \n",
       "3      NaN     GPC-AUS  2018-10-27    Australia        VIC  Melbourne Cup  \n",
       "4      NaN     GPC-AUS  2018-10-27    Australia        VIC  Melbourne Cup  \n",
       "\n",
       "[5 rows x 37 columns]"
      ]
     },
     "execution_count": 113,
     "metadata": {},
     "output_type": "execute_result"
    }
   ],
   "source": [
    "lifting_df = pd.read_csv(\"Resources/openpowerlifting.csv\")\n",
    "lifting_df.head()"
   ]
  },
  {
   "cell_type": "code",
   "execution_count": 114,
   "id": "eb693d7e",
   "metadata": {},
   "outputs": [
    {
     "data": {
      "text/plain": [
       "Name                     0\n",
       "Sex                      0\n",
       "Event                    0\n",
       "Equipment                0\n",
       "Age                 665827\n",
       "AgeClass            636554\n",
       "Division              8178\n",
       "BodyweightKg         16732\n",
       "WeightClassKg        13312\n",
       "Squat1Kg           1085774\n",
       "Squat2Kg           1090005\n",
       "Squat3Kg           1099512\n",
       "Squat4Kg           1419658\n",
       "Best3SquatKg        391904\n",
       "Bench1Kg            923575\n",
       "Bench2Kg            929868\n",
       "Bench3Kg            944869\n",
       "Bench4Kg           1413849\n",
       "Best3BenchKg        147173\n",
       "Deadlift1Kg        1059810\n",
       "Deadlift2Kg        1067331\n",
       "Deadlift3Kg        1083407\n",
       "Deadlift4Kg        1414108\n",
       "Best3DeadliftKg     341546\n",
       "TotalKg             110170\n",
       "Place                    0\n",
       "Wilks               118947\n",
       "McCulloch           119100\n",
       "Glossbrenner        118947\n",
       "IPFPoints           150068\n",
       "Tested              329462\n",
       "Country            1034470\n",
       "Federation               0\n",
       "Date                     0\n",
       "MeetCountry              0\n",
       "MeetState           481809\n",
       "MeetName                 0\n",
       "dtype: int64"
      ]
     },
     "execution_count": 114,
     "metadata": {},
     "output_type": "execute_result"
    }
   ],
   "source": [
    "#check for null values\n",
    "lifting_df.isnull().sum()"
   ]
  },
  {
   "cell_type": "code",
   "execution_count": 115,
   "id": "3feade3d",
   "metadata": {},
   "outputs": [],
   "source": [
    "#set nulls in best lifts columns to 0\n",
    "# df1 = lifting_df[lifting_df['Best3SquatKg'].isnull()]\n",
    "# df2 = lifting_df[lifting_df['Best3BenchKg'].isnull()]\n",
    "# df3 = lifting_df[lifting_df['Best3DeadliftKg'].isnull()]\n",
    "# df1['Best3SquatKg'] = 0\n",
    "# df2['Best3BenchKg'] = 0\n",
    "# df3['Best3DeadliftKg'] = 0\n",
    "# lifting_df.iloc[0:6, 0: 20]"
   ]
  },
  {
   "cell_type": "code",
   "execution_count": 116,
   "id": "9098cdad",
   "metadata": {},
   "outputs": [
    {
     "data": {
      "text/plain": [
       "Name               1423354\n",
       "Sex                1423354\n",
       "Event              1423354\n",
       "Equipment          1423354\n",
       "Age                 757527\n",
       "AgeClass            786800\n",
       "Division           1415176\n",
       "BodyweightKg       1406622\n",
       "WeightClassKg      1410042\n",
       "Squat1Kg            337580\n",
       "Squat2Kg            333349\n",
       "Squat3Kg            323842\n",
       "Squat4Kg              3696\n",
       "Best3SquatKg       1031450\n",
       "Bench1Kg            499779\n",
       "Bench2Kg            493486\n",
       "Bench3Kg            478485\n",
       "Bench4Kg              9505\n",
       "Best3BenchKg       1276181\n",
       "Deadlift1Kg         363544\n",
       "Deadlift2Kg         356023\n",
       "Deadlift3Kg         339947\n",
       "Deadlift4Kg           9246\n",
       "Best3DeadliftKg    1081808\n",
       "TotalKg            1313184\n",
       "Place              1423354\n",
       "Wilks              1304407\n",
       "McCulloch          1304254\n",
       "Glossbrenner       1304407\n",
       "IPFPoints          1273286\n",
       "Tested             1093892\n",
       "Country             388884\n",
       "Federation         1423354\n",
       "Date               1423354\n",
       "MeetCountry        1423354\n",
       "MeetState           941545\n",
       "MeetName           1423354\n",
       "dtype: int64"
      ]
     },
     "execution_count": 116,
     "metadata": {},
     "output_type": "execute_result"
    }
   ],
   "source": [
    "lifting_df.count()"
   ]
  },
  {
   "cell_type": "code",
   "execution_count": 117,
   "id": "11fcc7f0",
   "metadata": {},
   "outputs": [
    {
     "data": {
      "text/html": [
       "<div>\n",
       "<style scoped>\n",
       "    .dataframe tbody tr th:only-of-type {\n",
       "        vertical-align: middle;\n",
       "    }\n",
       "\n",
       "    .dataframe tbody tr th {\n",
       "        vertical-align: top;\n",
       "    }\n",
       "\n",
       "    .dataframe thead th {\n",
       "        text-align: right;\n",
       "    }\n",
       "</style>\n",
       "<table border=\"1\" class=\"dataframe\">\n",
       "  <thead>\n",
       "    <tr style=\"text-align: right;\">\n",
       "      <th></th>\n",
       "      <th>Name</th>\n",
       "      <th>Sex</th>\n",
       "      <th>Event</th>\n",
       "      <th>Equipment</th>\n",
       "      <th>Age</th>\n",
       "      <th>AgeClass</th>\n",
       "      <th>Division</th>\n",
       "      <th>BodyweightKg</th>\n",
       "      <th>WeightClassKg</th>\n",
       "      <th>Squat1Kg</th>\n",
       "      <th>...</th>\n",
       "      <th>McCulloch</th>\n",
       "      <th>Glossbrenner</th>\n",
       "      <th>IPFPoints</th>\n",
       "      <th>Tested</th>\n",
       "      <th>Country</th>\n",
       "      <th>Federation</th>\n",
       "      <th>Date</th>\n",
       "      <th>MeetCountry</th>\n",
       "      <th>MeetState</th>\n",
       "      <th>MeetName</th>\n",
       "    </tr>\n",
       "  </thead>\n",
       "  <tbody>\n",
       "    <tr>\n",
       "      <th>63986</th>\n",
       "      <td>Kylie Beutler</td>\n",
       "      <td>F</td>\n",
       "      <td>SBD</td>\n",
       "      <td>Wraps</td>\n",
       "      <td>23.0</td>\n",
       "      <td>20-23</td>\n",
       "      <td>Juniors 20-23</td>\n",
       "      <td>56.00</td>\n",
       "      <td>56</td>\n",
       "      <td>83.91</td>\n",
       "      <td>...</td>\n",
       "      <td>338.90</td>\n",
       "      <td>299.77</td>\n",
       "      <td>523.61</td>\n",
       "      <td>Yes</td>\n",
       "      <td>USA</td>\n",
       "      <td>WPA</td>\n",
       "      <td>2011-05-21</td>\n",
       "      <td>USA</td>\n",
       "      <td>CA</td>\n",
       "      <td>World Championships</td>\n",
       "    </tr>\n",
       "    <tr>\n",
       "      <th>66457</th>\n",
       "      <td>Kaitlynn Naert</td>\n",
       "      <td>F</td>\n",
       "      <td>SBD</td>\n",
       "      <td>Wraps</td>\n",
       "      <td>13.0</td>\n",
       "      <td>13-15</td>\n",
       "      <td>Teen 13-15</td>\n",
       "      <td>103.69</td>\n",
       "      <td>90+</td>\n",
       "      <td>43.09</td>\n",
       "      <td>...</td>\n",
       "      <td>263.24</td>\n",
       "      <td>175.84</td>\n",
       "      <td>359.25</td>\n",
       "      <td>Yes</td>\n",
       "      <td>USA</td>\n",
       "      <td>APA</td>\n",
       "      <td>2015-09-19</td>\n",
       "      <td>USA</td>\n",
       "      <td>MI</td>\n",
       "      <td>Wolverine Open</td>\n",
       "    </tr>\n",
       "    <tr>\n",
       "      <th>67030</th>\n",
       "      <td>Carol Moorhead</td>\n",
       "      <td>F</td>\n",
       "      <td>SBD</td>\n",
       "      <td>Wraps</td>\n",
       "      <td>55.0</td>\n",
       "      <td>55-59</td>\n",
       "      <td>Open</td>\n",
       "      <td>74.39</td>\n",
       "      <td>75</td>\n",
       "      <td>79.38</td>\n",
       "      <td>...</td>\n",
       "      <td>273.44</td>\n",
       "      <td>196.41</td>\n",
       "      <td>374.65</td>\n",
       "      <td>Yes</td>\n",
       "      <td>USA</td>\n",
       "      <td>APA</td>\n",
       "      <td>2017-04-22</td>\n",
       "      <td>USA</td>\n",
       "      <td>MO</td>\n",
       "      <td>ShowMe State Raw Championships</td>\n",
       "    </tr>\n",
       "    <tr>\n",
       "      <th>67031</th>\n",
       "      <td>Nancy Lowther</td>\n",
       "      <td>F</td>\n",
       "      <td>SBD</td>\n",
       "      <td>Wraps</td>\n",
       "      <td>58.0</td>\n",
       "      <td>55-59</td>\n",
       "      <td>Open</td>\n",
       "      <td>87.09</td>\n",
       "      <td>90</td>\n",
       "      <td>90.72</td>\n",
       "      <td>...</td>\n",
       "      <td>336.19</td>\n",
       "      <td>227.02</td>\n",
       "      <td>449.73</td>\n",
       "      <td>Yes</td>\n",
       "      <td>USA</td>\n",
       "      <td>APA</td>\n",
       "      <td>2017-04-22</td>\n",
       "      <td>USA</td>\n",
       "      <td>MO</td>\n",
       "      <td>ShowMe State Raw Championships</td>\n",
       "    </tr>\n",
       "    <tr>\n",
       "      <th>69557</th>\n",
       "      <td>Roger Shaw</td>\n",
       "      <td>M</td>\n",
       "      <td>SBD</td>\n",
       "      <td>Wraps</td>\n",
       "      <td>73.0</td>\n",
       "      <td>70-74</td>\n",
       "      <td>Masters 70-79</td>\n",
       "      <td>74.12</td>\n",
       "      <td>75</td>\n",
       "      <td>147.42</td>\n",
       "      <td>...</td>\n",
       "      <td>546.53</td>\n",
       "      <td>301.14</td>\n",
       "      <td>443.10</td>\n",
       "      <td>Yes</td>\n",
       "      <td>USA</td>\n",
       "      <td>APA</td>\n",
       "      <td>2018-11-17</td>\n",
       "      <td>USA</td>\n",
       "      <td>MO</td>\n",
       "      <td>Midwest Raw Championships</td>\n",
       "    </tr>\n",
       "  </tbody>\n",
       "</table>\n",
       "<p>5 rows × 37 columns</p>\n",
       "</div>"
      ],
      "text/plain": [
       "                 Name Sex Event Equipment   Age AgeClass       Division  \\\n",
       "63986   Kylie Beutler   F   SBD     Wraps  23.0    20-23  Juniors 20-23   \n",
       "66457  Kaitlynn Naert   F   SBD     Wraps  13.0    13-15     Teen 13-15   \n",
       "67030  Carol Moorhead   F   SBD     Wraps  55.0    55-59           Open   \n",
       "67031   Nancy Lowther   F   SBD     Wraps  58.0    55-59           Open   \n",
       "69557      Roger Shaw   M   SBD     Wraps  73.0    70-74  Masters 70-79   \n",
       "\n",
       "       BodyweightKg WeightClassKg  Squat1Kg  ...  McCulloch  Glossbrenner  \\\n",
       "63986         56.00            56     83.91  ...     338.90        299.77   \n",
       "66457        103.69           90+     43.09  ...     263.24        175.84   \n",
       "67030         74.39            75     79.38  ...     273.44        196.41   \n",
       "67031         87.09            90     90.72  ...     336.19        227.02   \n",
       "69557         74.12            75    147.42  ...     546.53        301.14   \n",
       "\n",
       "       IPFPoints  Tested  Country  Federation        Date  MeetCountry  \\\n",
       "63986     523.61     Yes      USA         WPA  2011-05-21          USA   \n",
       "66457     359.25     Yes      USA         APA  2015-09-19          USA   \n",
       "67030     374.65     Yes      USA         APA  2017-04-22          USA   \n",
       "67031     449.73     Yes      USA         APA  2017-04-22          USA   \n",
       "69557     443.10     Yes      USA         APA  2018-11-17          USA   \n",
       "\n",
       "       MeetState                        MeetName  \n",
       "63986         CA             World Championships  \n",
       "66457         MI                  Wolverine Open  \n",
       "67030         MO  ShowMe State Raw Championships  \n",
       "67031         MO  ShowMe State Raw Championships  \n",
       "69557         MO       Midwest Raw Championships  \n",
       "\n",
       "[5 rows x 37 columns]"
      ]
     },
     "execution_count": 117,
     "metadata": {},
     "output_type": "execute_result"
    }
   ],
   "source": [
    "#removed all rows with na vvalues\n",
    "no_null_df = lifting_df.dropna()\n",
    "no_null_df.head()"
   ]
  },
  {
   "cell_type": "code",
   "execution_count": 118,
   "id": "d75a477f",
   "metadata": {},
   "outputs": [
    {
     "data": {
      "text/plain": [
       "Name               14\n",
       "Sex                14\n",
       "Event              14\n",
       "Equipment          14\n",
       "Age                14\n",
       "AgeClass           14\n",
       "Division           14\n",
       "BodyweightKg       14\n",
       "WeightClassKg      14\n",
       "Squat1Kg           14\n",
       "Squat2Kg           14\n",
       "Squat3Kg           14\n",
       "Squat4Kg           14\n",
       "Best3SquatKg       14\n",
       "Bench1Kg           14\n",
       "Bench2Kg           14\n",
       "Bench3Kg           14\n",
       "Bench4Kg           14\n",
       "Best3BenchKg       14\n",
       "Deadlift1Kg        14\n",
       "Deadlift2Kg        14\n",
       "Deadlift3Kg        14\n",
       "Deadlift4Kg        14\n",
       "Best3DeadliftKg    14\n",
       "TotalKg            14\n",
       "Place              14\n",
       "Wilks              14\n",
       "McCulloch          14\n",
       "Glossbrenner       14\n",
       "IPFPoints          14\n",
       "Tested             14\n",
       "Country            14\n",
       "Federation         14\n",
       "Date               14\n",
       "MeetCountry        14\n",
       "MeetState          14\n",
       "MeetName           14\n",
       "dtype: int64"
      ]
     },
     "execution_count": 118,
     "metadata": {},
     "output_type": "execute_result"
    }
   ],
   "source": [
    "# droping all nulls leads to too little data\n",
    "no_null_df.count()"
   ]
  },
  {
   "cell_type": "code",
   "execution_count": 119,
   "id": "13824b60",
   "metadata": {},
   "outputs": [
    {
     "data": {
      "text/plain": [
       "0          105.0\n",
       "1          120.0\n",
       "3          105.0\n",
       "4          140.0\n",
       "5          142.5\n",
       "           ...  \n",
       "1423348    200.0\n",
       "1423349    175.0\n",
       "1423350    110.0\n",
       "1423351    160.0\n",
       "1423353    115.0\n",
       "Name: Best3SquatKg, Length: 1031450, dtype: float64"
      ]
     },
     "execution_count": 119,
     "metadata": {},
     "output_type": "execute_result"
    }
   ],
   "source": [
    "# returns series with no nulls for squats, not quite what is needed\n",
    "clean_df = lifting_df['Best3SquatKg'].dropna()\n",
    "clean_df"
   ]
  },
  {
   "cell_type": "code",
   "execution_count": 120,
   "id": "cfd25b3e",
   "metadata": {},
   "outputs": [],
   "source": [
    "# for now, let's ignore null values and just do the analysis\n",
    "\n",
    "#this is the age series\n",
    "age = lifting_df['Age']\n",
    "\n",
    "#this is the Bodyweight series\n",
    "body_weight = lifting_df['BodyweightKg'] "
   ]
  },
  {
   "cell_type": "code",
   "execution_count": 121,
   "id": "7ccaacb7",
   "metadata": {},
   "outputs": [
    {
     "data": {
      "text/plain": [
       "<matplotlib.collections.PathCollection at 0x7fa02ac43e90>"
      ]
     },
     "execution_count": 121,
     "metadata": {},
     "output_type": "execute_result"
    },
    {
     "data": {
      "image/png": "[encoded data removed]",
      "text/plain": [
       "<Figure size 432x288 with 1 Axes>"
      ]
     },
     "metadata": {
      "needs_background": "light"
     },
     "output_type": "display_data"
    }
   ],
   "source": [
    "# lets make a scatter plot for body_weight vs age\n",
    "\n",
    "plt.scatter(age, body_weight)\n",
    "# too many points, need to change size"
   ]
  },
  {
   "cell_type": "code",
   "execution_count": 122,
   "id": "b8cd94d2",
   "metadata": {},
   "outputs": [
    {
     "data": {
      "text/plain": [
       "<seaborn.axisgrid.JointGrid at 0x7fa051e482d0>"
      ]
     },
     "execution_count": 122,
     "metadata": {},
     "output_type": "execute_result"
    },
    {
     "data": {
      "image/png": "[encoded data removed]",
      "text/plain": [
       "<Figure size 432x432 with 3 Axes>"
      ]
     },
     "metadata": {
      "needs_background": "light"
     },
     "output_type": "display_data"
    }
   ],
   "source": [
    "import seaborn as sb\n",
    "\n",
    "sb.jointplot(x = 'Age', y='BodyweightKg', data = lifting_df, kind = 'hex')"
   ]
  },
  {
   "cell_type": "code",
   "execution_count": 123,
   "id": "c6452411",
   "metadata": {},
   "outputs": [
    {
     "data": {
      "text/plain": [
       "<AxesSubplot:xlabel='Age', ylabel='BodyweightKg'>"
      ]
     },
     "execution_count": 123,
     "metadata": {},
     "output_type": "execute_result"
    },
    {
     "data": {
      "image/png": "[encoded data removed]",
      "text/plain": [
       "<Figure size 432x288 with 1 Axes>"
      ]
     },
     "metadata": {
      "needs_background": "light"
     },
     "output_type": "display_data"
    }
   ],
   "source": [
    "sample_data = lifting_df.sample(1000)\n",
    "sb.kdeplot(x = 'Age', y='BodyweightKg', hue=\"Sex\", data = sample_data)"
   ]
  },
  {
   "cell_type": "code",
   "execution_count": 124,
   "id": "1b8f1766",
   "metadata": {},
   "outputs": [
    {
     "data": {
      "text/plain": [
       "<seaborn.axisgrid.FacetGrid at 0x7fa005dcb410>"
      ]
     },
     "execution_count": 124,
     "metadata": {},
     "output_type": "execute_result"
    },
    {
     "data": {
      "image/png": "[encoded data removed]",
      "text/plain": [
       "<Figure size 360x360 with 1 Axes>"
      ]
     },
     "metadata": {
      "needs_background": "light"
     },
     "output_type": "display_data"
    }
   ],
   "source": [
    "sb.displot(x = 'Age', y='BodyweightKg', data = sample_data[sample_data['Sex'] == 'M'])"
   ]
  },
  {
   "cell_type": "code",
   "execution_count": 125,
   "id": "3e594f4b",
   "metadata": {},
   "outputs": [
    {
     "data": {
      "text/plain": [
       "<seaborn.axisgrid.FacetGrid at 0x7fa0059c1f10>"
      ]
     },
     "execution_count": 125,
     "metadata": {},
     "output_type": "execute_result"
    },
    {
     "data": {
      "image/png": "[encoded data removed]",
      "text/plain": [
       "<Figure size 360x360 with 1 Axes>"
      ]
     },
     "metadata": {
      "needs_background": "light"
     },
     "output_type": "display_data"
    }
   ],
   "source": [
    "sb.displot(x = 'Age', y='BodyweightKg', data = sample_data[sample_data['Sex'] == 'F'])"
   ]
  },
  {
   "cell_type": "code",
   "execution_count": 126,
   "id": "9244c6c0",
   "metadata": {},
   "outputs": [
    {
     "data": {
      "text/plain": [
       "<matplotlib.collections.PathCollection at 0x7fa006021f90>"
      ]
     },
     "execution_count": 126,
     "metadata": {},
     "output_type": "execute_result"
    },
    {
     "data": {
      "image/png": "[encoded data removed]",
      "text/plain": [
       "<Figure size 432x288 with 1 Axes>"
      ]
     },
     "metadata": {
      "needs_background": "light"
     },
     "output_type": "display_data"
    }
   ],
   "source": [
    "# same scatter plot but size is different\n",
    "plt.scatter(age, body_weight, s= 0.01)\n",
    "# still not helpful"
   ]
  },
  {
   "cell_type": "code",
   "execution_count": 127,
   "id": "6eb27290",
   "metadata": {},
   "outputs": [],
   "source": [
    "# # take random sample of first 10K points\n",
    "# import random\n",
    "# N = lifting_df.count()['Name']\n",
    "# delta_age = np.random.normal(size=N)\n",
    "# delta_weight = np.random.normal(size=N)\n",
    "# idx = random.sample(range(N),10000)"
   ]
  },
  {
   "cell_type": "code",
   "execution_count": 128,
   "id": "b0fbd0ba",
   "metadata": {},
   "outputs": [
    {
     "ename": "TypeError",
     "evalue": "scatter() missing 2 required positional arguments: 'x' and 'y'",
     "output_type": "error",
     "traceback": [
      "\u001b[0;31m---------------------------------------------------------------------------\u001b[0m",
      "\u001b[0;31mTypeError\u001b[0m                                 Traceback (most recent call last)",
      "\u001b[0;32m/var/folders/sx/dymxkj2j1636xvkc7jyhyp840000gn/T/ipykernel_32196/1603634991.py\u001b[0m in \u001b[0;36m<module>\u001b[0;34m\u001b[0m\n\u001b[1;32m      1\u001b[0m \u001b[0;31m# we now have a random sample plotted with 10k points\u001b[0m\u001b[0;34m\u001b[0m\u001b[0;34m\u001b[0m\u001b[0;34m\u001b[0m\u001b[0m\n\u001b[1;32m      2\u001b[0m \u001b[0;31m# note the axes have changes, i belive they represent standard deviations\u001b[0m\u001b[0;34m\u001b[0m\u001b[0;34m\u001b[0m\u001b[0;34m\u001b[0m\u001b[0m\n\u001b[0;32m----> 3\u001b[0;31m \u001b[0mplt\u001b[0m\u001b[0;34m.\u001b[0m\u001b[0mscatter\u001b[0m\u001b[0;34m(\u001b[0m\u001b[0;34m)\u001b[0m\u001b[0;34m\u001b[0m\u001b[0;34m\u001b[0m\u001b[0m\n\u001b[0m\u001b[1;32m      4\u001b[0m \u001b[0;31m#don't know how to interpret this graph\u001b[0m\u001b[0;34m\u001b[0m\u001b[0;34m\u001b[0m\u001b[0;34m\u001b[0m\u001b[0m\n",
      "\u001b[0;31mTypeError\u001b[0m: scatter() missing 2 required positional arguments: 'x' and 'y'"
     ]
    }
   ],
   "source": [
    "# we now have a random sample plotted with 10k points\n",
    "# note the axes have changes, i belive they represent standard deviations\n",
    "plt.scatter()\n",
    "#don't know how to interpret this graph"
   ]
  },
  {
   "cell_type": "code",
   "execution_count": null,
   "id": "559c60d8",
   "metadata": {},
   "outputs": [],
   "source": [
    "#Let's try making points semitransparent\n",
    "plt.scatter(age, body_weight, alpha = 0.5, s=0.01)\n",
    "# doesn't help"
   ]
  },
  {
   "cell_type": "code",
   "execution_count": null,
   "id": "7b283c49",
   "metadata": {},
   "outputs": [],
   "source": [
    "#this is the age series\n",
    "age = sample_data['Age']\n",
    "\n",
    "#this is the Bodyweight series\n",
    "body_weight = sample_data['BodyweightKg'] \n",
    "\n",
    "plt.scatter(age, body_weight)"
   ]
  },
  {
   "cell_type": "code",
   "execution_count": null,
   "id": "bd3d956f",
   "metadata": {},
   "outputs": [],
   "source": [
    "# let's try 2D density\n",
    "import seaborn as sns\n",
    "\n",
    "# make dataframe for new plot\n",
    "age_weight_df = pd.DataFrame({\n",
    "    \n",
    "    \"age\" : age,\n",
    "    \"body weight\" : body_weight\n",
    "})\n",
    "\n",
    "age_weight_df"
   ]
  },
  {
   "cell_type": "code",
   "execution_count": null,
   "id": "79b3654f",
   "metadata": {},
   "outputs": [],
   "source": [
    "#this cell took too long to execute\n",
    "\n",
    "# sns.kdeplot(data=age_weight_df, x=\"age\", y=\"body weight\", cmap=\"Reds\", shade=True)\n",
    "# plt.show()"
   ]
  },
  {
   "cell_type": "code",
   "execution_count": null,
   "id": "50e65076",
   "metadata": {},
   "outputs": [],
   "source": [
    "# try jitter?\n",
    "sns.stripplot(data=age_weight_df, x='age', y='body weight', jitter=0.2,size=2)"
   ]
  },
  {
   "cell_type": "code",
   "execution_count": null,
   "id": "4d2b659e",
   "metadata": {},
   "outputs": [],
   "source": [
    "lifting_df.head()"
   ]
  },
  {
   "cell_type": "code",
   "execution_count": null,
   "id": "f324793d",
   "metadata": {},
   "outputs": [],
   "source": [
    "squat = lifting_df['Best3SquatKg']\n",
    "deadlift = lifting_df['Best3DeadliftKg']\n",
    "bench = lifting_df['Best3BenchKg']"
   ]
  },
  {
   "cell_type": "code",
   "execution_count": null,
   "id": "a24536b8",
   "metadata": {},
   "outputs": [],
   "source": [
    "deadlift_vs_squat = pd.DataFrame({\n",
    "    \"squat\" : squat,\n",
    "    \"deadlift\" : deadlift\n",
    "}) "
   ]
  },
  {
   "cell_type": "code",
   "execution_count": null,
   "id": "63946339",
   "metadata": {},
   "outputs": [],
   "source": [
    "plt.scatter(squat, deadlift, s = 0.5, alpha=0.5)\n",
    "plt.xlim(0,600)\n",
    "plt.ylim(0,600)"
   ]
  },
  {
   "cell_type": "code",
   "execution_count": null,
   "id": "8109f0e4",
   "metadata": {},
   "outputs": [],
   "source": [
    "plt.scatter(squat, bench, s = 0.5, alpha=0.8)\n",
    "plt.xlim(0,600)\n",
    "plt.ylim(0,600)"
   ]
  },
  {
   "cell_type": "code",
   "execution_count": null,
   "id": "7a986a91",
   "metadata": {},
   "outputs": [],
   "source": [
    "lifting_count = lifting_df.groupby('Sex').count()\n",
    "m_count = lifting_count.loc[\"M\",\"Name\"]\n",
    "f_count = lifting_count.loc[\"F\",\"Name\"]"
   ]
  },
  {
   "cell_type": "code",
   "execution_count": null,
   "id": "77604eca",
   "metadata": {},
   "outputs": [],
   "source": [
    "print(m_count,f_count)"
   ]
  },
  {
   "cell_type": "code",
   "execution_count": null,
   "id": "97a92b1f",
   "metadata": {},
   "outputs": [],
   "source": [
    "total_count = lifting_df.count()['Name']\n",
    "total_count"
   ]
  },
  {
   "cell_type": "code",
   "execution_count": null,
   "id": "093f6c28",
   "metadata": {},
   "outputs": [],
   "source": [
    "percent_m = 100 * m_count / total_count\n",
    "percent_f = 100 * f_count / total_count"
   ]
  },
  {
   "cell_type": "code",
   "execution_count": null,
   "id": "6d820177",
   "metadata": {},
   "outputs": [],
   "source": [
    "plt.pie([percent_m, percent_f],labels=[\"Male\", \"Female\"], autopct='%1.1f%%')\n"
   ]
  },
  {
   "cell_type": "code",
   "execution_count": null,
   "id": "d3c7d89a",
   "metadata": {},
   "outputs": [],
   "source": [
    "lifting_df.head()"
   ]
  },
  {
   "cell_type": "code",
   "execution_count": null,
   "id": "0522317c",
   "metadata": {},
   "outputs": [],
   "source": [
    "mean_by_name_f = lifting_df[lifting_df['Sex']==\"F\"].groupby('Name').mean()\n",
    "mean_by_name_f"
   ]
  },
  {
   "cell_type": "code",
   "execution_count": null,
   "id": "42b37f39",
   "metadata": {},
   "outputs": [],
   "source": [
    "mean_by_name_m = lifting_df[lifting_df['Sex'] == \"M\"].groupby('Name').mean()\n",
    "mean_by_name_m"
   ]
  },
  {
   "cell_type": "code",
   "execution_count": null,
   "id": "6f318684",
   "metadata": {},
   "outputs": [],
   "source": [
    "mean_IPF_f = mean_by_name_f['IPFPoints']\n",
    "mean_IPF_f"
   ]
  },
  {
   "cell_type": "code",
   "execution_count": null,
   "id": "2882e1fb",
   "metadata": {},
   "outputs": [],
   "source": [
    "mean_IPF_m = mean_by_name_m['IPFPoints']\n",
    "mean_IPF_m"
   ]
  },
  {
   "cell_type": "code",
   "execution_count": null,
   "id": "c8e8f445",
   "metadata": {},
   "outputs": [],
   "source": [
    "mean_IPF_f.max()"
   ]
  },
  {
   "cell_type": "code",
   "execution_count": null,
   "id": "fc83e55a",
   "metadata": {},
   "outputs": [],
   "source": [
    "mean_IPF_m.max()"
   ]
  },
  {
   "cell_type": "code",
   "execution_count": null,
   "id": "2c659e83",
   "metadata": {},
   "outputs": [],
   "source": [
    "lifting_df_m = lifting_df[lifting_df['Sex']=='M']"
   ]
  },
  {
   "cell_type": "code",
   "execution_count": null,
   "id": "d1141c11",
   "metadata": {},
   "outputs": [],
   "source": [
    "mean_lifting_df_m = lifting_df_m.groupby(\"AgeClass\").mean()"
   ]
  },
  {
   "cell_type": "code",
   "execution_count": null,
   "id": "1e6aad1f",
   "metadata": {},
   "outputs": [],
   "source": [
    "age_class_body_weight = mean_lifting_df_m['BodyweightKg']"
   ]
  },
  {
   "cell_type": "code",
   "execution_count": null,
   "id": "ba4c1c2f",
   "metadata": {},
   "outputs": [],
   "source": [
    "age_class_body_weight = age_class_body_weight.reset_index()"
   ]
  },
  {
   "cell_type": "code",
   "execution_count": null,
   "id": "d1864645",
   "metadata": {},
   "outputs": [],
   "source": [
    "fig = plt.figure(figsize = (20, 15))\n",
    "plt.bar(age_class_body_weight['AgeClass'],age_class_body_weight['BodyweightKg'])"
   ]
  },
  {
   "cell_type": "code",
   "execution_count": null,
   "id": "9408c868",
   "metadata": {},
   "outputs": [],
   "source": [
    "lifting_df.groupby('MeetCountry').mean()"
   ]
  },
  {
   "cell_type": "code",
   "execution_count": null,
   "id": "f925740c",
   "metadata": {},
   "outputs": [],
   "source": [
    "lifting_df.count()"
   ]
  },
  {
   "cell_type": "code",
   "execution_count": null,
   "id": "8b7ba91b",
   "metadata": {},
   "outputs": [],
   "source": [
    "countries = lifting_df['MeetCountry'].unique()"
   ]
  },
  {
   "cell_type": "code",
   "execution_count": null,
   "id": "b21c0dc2",
   "metadata": {},
   "outputs": [],
   "source": [
    "lifting_df.groupby('MeetName').count()"
   ]
  },
  {
   "cell_type": "code",
   "execution_count": null,
   "id": "e42b7cf9",
   "metadata": {},
   "outputs": [],
   "source": [
    "a = lifting_df.groupby('Name').count()['Sex']"
   ]
  },
  {
   "cell_type": "code",
   "execution_count": null,
   "id": "faea467f",
   "metadata": {},
   "outputs": [],
   "source": [
    "max(list(a))"
   ]
  },
  {
   "cell_type": "code",
   "execution_count": null,
   "id": "44e555dd",
   "metadata": {},
   "outputs": [],
   "source": [
    "plt.hist(a, bins = 15)\n",
    "plt.xlim(0,80)"
   ]
  },
  {
   "cell_type": "code",
   "execution_count": null,
   "id": "7851ac86",
   "metadata": {},
   "outputs": [],
   "source": [
    "b = lifting_df.groupby('AgeClass').count()['Name']"
   ]
  },
  {
   "cell_type": "code",
   "execution_count": null,
   "id": "e51ac4e4",
   "metadata": {},
   "outputs": [],
   "source": [
    "plt.hist(b, bins=20)"
   ]
  },
  {
   "cell_type": "code",
   "execution_count": null,
   "id": "dd702737",
   "metadata": {},
   "outputs": [],
   "source": [
    "m_f = lifting_df.groupby('Sex').mean()\n",
    "m_f"
   ]
  },
  {
   "cell_type": "code",
   "execution_count": null,
   "id": "395ec229",
   "metadata": {},
   "outputs": [],
   "source": [
    "m_f = m_f[['Age','BodyweightKg','Best3SquatKg','Best3BenchKg','Best3DeadliftKg','TotalKg','IPFPoints']]"
   ]
  },
  {
   "cell_type": "code",
   "execution_count": null,
   "id": "9c0cc200",
   "metadata": {},
   "outputs": [],
   "source": [
    "for category in m_f.columns:\n",
    "    m_f[category] = m_f[category].map('{:.0f}'.format)"
   ]
  },
  {
   "cell_type": "code",
   "execution_count": null,
   "id": "a0887e47",
   "metadata": {},
   "outputs": [],
   "source": [
    "m_f"
   ]
  },
  {
   "cell_type": "code",
   "execution_count": null,
   "id": "83f203da",
   "metadata": {},
   "outputs": [],
   "source": [
    "x = lifting_df['Age']\n",
    "y = lifting_df['TotalKg']"
   ]
  },
  {
   "cell_type": "code",
   "execution_count": null,
   "id": "b30b9ee9",
   "metadata": {},
   "outputs": [],
   "source": [
    "plt.scatter(x,y, s = 0.5, alpha = 0.5)"
   ]
  },
  {
   "cell_type": "code",
   "execution_count": null,
   "id": "d299ff4a",
   "metadata": {},
   "outputs": [],
   "source": [
    "# libraries\n",
    "# import seaborn as sns\n",
    "\n",
    " \n",
    "# # Dataset:\n",
    "# df=pd.DataFrame({'x': np.random.normal(10, 1.2, 20000), 'y': np.random.normal(10, 1.2, 20000), 'group': np.repeat('A',20000) })\n",
    "# tmp1=pd.DataFrame({'x': np.random.normal(14.5, 1.2, 20000), 'y': np.random.normal(14.5, 1.2, 20000), 'group': np.repeat('B',20000) })\n",
    "# tmp2=pd.DataFrame({'x': np.random.normal(9.5, 1.5, 20000), 'y': np.random.normal(15.5, 1.5, 20000), 'group': np.repeat('C',20000) })\n",
    "# df=df.append(tmp1).append(tmp2)\n",
    "\n",
    "# # 2D density plot:\n",
    "# sns.kdeplot(data = df, x=\"x\", y=\"y\", cmap=\"Reds\", shade=True)\n",
    "# plt.title('Overplotting? Try 2D density graph', loc='left')\n",
    "# plt.show()"
   ]
  },
  {
   "cell_type": "code",
   "execution_count": null,
   "id": "53f3d2b7",
   "metadata": {},
   "outputs": [],
   "source": [
    "import seaborn as sns\n",
    "\n",
    "adf = pd.DataFrame({\n",
    "    \"x\" : x,\n",
    "    \"y\" : y\n",
    "})\n",
    "\n",
    "sns.displot(adf, x=\"x\", y=\"y\")"
   ]
  },
  {
   "cell_type": "code",
   "execution_count": null,
   "id": "9fd2f459",
   "metadata": {},
   "outputs": [],
   "source": [
    "x = lifting_df['Age']\n",
    "y = lifting_df['BodyweightKg']"
   ]
  },
  {
   "cell_type": "code",
   "execution_count": null,
   "id": "4454eae0",
   "metadata": {},
   "outputs": [],
   "source": [
    "\n",
    "adf = pd.DataFrame({\n",
    "    \"x\" : x,\n",
    "    \"y\" : y\n",
    "})\n",
    "\n",
    "sns.displot(adf, x=\"x\", y=\"y\")"
   ]
  },
  {
   "cell_type": "code",
   "execution_count": null,
   "id": "cd16c1dc",
   "metadata": {},
   "outputs": [],
   "source": [
    "x = lifting_df['BodyweightKg']\n",
    "y = lifting_df['IPFPoints']"
   ]
  },
  {
   "cell_type": "code",
   "execution_count": null,
   "id": "107ea6a7",
   "metadata": {},
   "outputs": [],
   "source": [
    "adf = pd.DataFrame({\n",
    "    \"x\" : x,\n",
    "    \"y\" : y\n",
    "})\n",
    "\n",
    "sns.displot(adf, x=\"x\", y=\"y\")"
   ]
  },
  {
   "cell_type": "code",
   "execution_count": null,
   "id": "22275df2",
   "metadata": {},
   "outputs": [],
   "source": [
    "x = lifting_df['Best3BenchKg']\n",
    "y = lifting_df['IPFPoints']\n",
    "\n",
    "adf = pd.DataFrame({\n",
    "    \"x\" : x,\n",
    "    \"y\" : y\n",
    "})\n",
    "\n",
    "sns.displot(adf, x=\"x\", y=\"y\")"
   ]
  },
  {
   "cell_type": "code",
   "execution_count": null,
   "id": "15f1741e",
   "metadata": {},
   "outputs": [],
   "source": [
    "lifting_df.columns"
   ]
  },
  {
   "cell_type": "code",
   "execution_count": null,
   "id": "343e958a",
   "metadata": {},
   "outputs": [],
   "source": [
    "x = lifting_df['Squat1Kg']\n",
    "y = lifting_df['Squat3Kg']\n",
    "adf = pd.DataFrame({\n",
    "    \"x\" : x,\n",
    "    \"y\" : y\n",
    "})\n",
    "\n",
    "sns.displot(adf, x=\"x\", y=\"y\")"
   ]
  },
  {
   "cell_type": "code",
   "execution_count": null,
   "id": "4cb27e34",
   "metadata": {},
   "outputs": [],
   "source": [
    "x = lifting_df['Squat2Kg']\n",
    "y = lifting_df['Squat3Kg']\n",
    "adf = pd.DataFrame({\n",
    "    \"x\" : x,\n",
    "    \"y\" : y\n",
    "})\n",
    "\n",
    "sns.displot(adf, x=\"x\", y=\"y\")"
   ]
  },
  {
   "cell_type": "code",
   "execution_count": null,
   "id": "5e77e798",
   "metadata": {},
   "outputs": [],
   "source": [
    "x = lifting_df['Equipment']\n",
    "y = lifting_df['IPFPoints']\n",
    "z = lifting_df['Sex']\n",
    "adf = pd.DataFrame({\n",
    "    \"x\" : x,\n",
    "    \"y\" : y,\n",
    "    'Sex' : z\n",
    "})\n",
    "\n",
    "sns.displot(adf, x=\"x\", y=\"y\", hue='Sex')"
   ]
  },
  {
   "cell_type": "code",
   "execution_count": null,
   "id": "84799246",
   "metadata": {},
   "outputs": [],
   "source": [
    "new_df = lifting_df.select_dtypes(include=['int16', 'int32', 'int64', 'float16', 'float32', 'float64'])"
   ]
  },
  {
   "cell_type": "code",
   "execution_count": null,
   "id": "b5a299c0",
   "metadata": {},
   "outputs": [],
   "source": [
    "new_df"
   ]
  },
  {
   "cell_type": "code",
   "execution_count": null,
   "id": "2e4cc910",
   "metadata": {},
   "outputs": [],
   "source": [
    "new_df[new_df < 0] = 0"
   ]
  },
  {
   "cell_type": "code",
   "execution_count": null,
   "id": "ed073ffe",
   "metadata": {},
   "outputs": [],
   "source": [
    "new_df"
   ]
  },
  {
   "cell_type": "code",
   "execution_count": null,
   "id": "96886109",
   "metadata": {},
   "outputs": [],
   "source": [
    "new_df[new_df.isnull()] = 0"
   ]
  },
  {
   "cell_type": "code",
   "execution_count": null,
   "id": "9defb6a1",
   "metadata": {},
   "outputs": [],
   "source": [
    "new_df"
   ]
  },
  {
   "cell_type": "code",
   "execution_count": null,
   "id": "4711f3ad",
   "metadata": {},
   "outputs": [],
   "source": [
    "lifting_df.columns"
   ]
  },
  {
   "cell_type": "code",
   "execution_count": null,
   "id": "6707d0ed",
   "metadata": {},
   "outputs": [],
   "source": [
    "a = lifting_df[['MeetName','Date']].value_counts()"
   ]
  },
  {
   "cell_type": "code",
   "execution_count": null,
   "id": "16d64168",
   "metadata": {},
   "outputs": [],
   "source": [
    "b = lifting_df.set_index(['MeetName','Date'])"
   ]
  },
  {
   "cell_type": "code",
   "execution_count": null,
   "id": "65922623",
   "metadata": {},
   "outputs": [],
   "source": [
    "x = b['MeetCountry']"
   ]
  },
  {
   "cell_type": "code",
   "execution_count": null,
   "id": "3a216232",
   "metadata": {},
   "outputs": [],
   "source": [
    "df =pd.DataFrame(x)\n",
    "df.tail(20)"
   ]
  },
  {
   "cell_type": "code",
   "execution_count": null,
   "id": "04bacd6b",
   "metadata": {},
   "outputs": [],
   "source": [
    "df['MeetCountry'].unique()"
   ]
  },
  {
   "cell_type": "code",
   "execution_count": null,
   "id": "3894e7ee",
   "metadata": {},
   "outputs": [],
   "source": [
    "my_dict = {}\n",
    "for country in list(df['MeetCountry']):\n",
    "    if country not in list(my_dict.keys()):\n",
    "        my_dict[country] = 0\n",
    "    my_dict[country] += 1\n",
    "    \n",
    "print(my_dict)\n",
    "\n",
    "\n",
    "    \n",
    "    \n",
    "    "
   ]
  },
  {
   "cell_type": "code",
   "execution_count": null,
   "id": "07fb09b5",
   "metadata": {},
   "outputs": [],
   "source": [
    "\n",
    "plt.bar(list(my_dict.keys()), list(my_dict.values()))"
   ]
  },
  {
   "cell_type": "code",
   "execution_count": null,
   "id": "606e9a07",
   "metadata": {},
   "outputs": [],
   "source": [
    "del my_dict['USA']\n",
    "plt.bar(list(my_dict.keys()), list(my_dict.values()))\n",
    "plt.xlim(0, 20)"
   ]
  },
  {
   "cell_type": "code",
   "execution_count": null,
   "id": "cc5dcd38",
   "metadata": {},
   "outputs": [],
   "source": [
    "lifting_df.head()"
   ]
  },
  {
   "cell_type": "code",
   "execution_count": null,
   "id": "f2ba1561",
   "metadata": {},
   "outputs": [],
   "source": [
    "lifting_df[\"Date\"] = pd.to_datetime(lifting_df['Date'], format = '%Y-%m-%d')\n",
    "lifting_df['Date']\n",
    "\n",
    "#user_df['datetime']= pd.to_datetime(user_df['datetime'], format='%Y-%m-%dT%H:%M:%S.%f%z')"
   ]
  },
  {
   "cell_type": "code",
   "execution_count": null,
   "id": "70cb2f30",
   "metadata": {},
   "outputs": [],
   "source": [
    " lifting_df = lifting_df.sort_values('Date')"
   ]
  },
  {
   "cell_type": "code",
   "execution_count": null,
   "id": "1e60e8b9",
   "metadata": {},
   "outputs": [],
   "source": [
    "lifting_df.tail()"
   ]
  },
  {
   "cell_type": "code",
   "execution_count": null,
   "id": "855885d9",
   "metadata": {},
   "outputs": [],
   "source": [
    "mean_df = lifting_df.groupby('Date').median()\n",
    "mean_df"
   ]
  },
  {
   "cell_type": "code",
   "execution_count": null,
   "id": "956600db",
   "metadata": {},
   "outputs": [],
   "source": [
    "mean_df.index"
   ]
  },
  {
   "cell_type": "code",
   "execution_count": null,
   "id": "c8192a45",
   "metadata": {},
   "outputs": [],
   "source": [
    "a = list(mean_df.index)"
   ]
  },
  {
   "cell_type": "code",
   "execution_count": null,
   "id": "9d2e2bad",
   "metadata": {},
   "outputs": [],
   "source": [
    "b =list(mean_df['Age'])"
   ]
  },
  {
   "cell_type": "code",
   "execution_count": null,
   "id": "9f962fda",
   "metadata": {},
   "outputs": [],
   "source": [
    "plt.plot(a,b)"
   ]
  },
  {
   "cell_type": "code",
   "execution_count": null,
   "id": "3ae051ae",
   "metadata": {},
   "outputs": [],
   "source": [
    "c = list(mean_df['BodyweightKg'])"
   ]
  },
  {
   "cell_type": "code",
   "execution_count": null,
   "id": "432e1665",
   "metadata": {},
   "outputs": [],
   "source": [
    "plt.plot(a,c)"
   ]
  },
  {
   "cell_type": "code",
   "execution_count": null,
   "id": "9e269092",
   "metadata": {},
   "outputs": [],
   "source": [
    "plt.plot(a, list(mean_df['TotalKg']))"
   ]
  },
  {
   "cell_type": "code",
   "execution_count": null,
   "id": "158f75cc",
   "metadata": {},
   "outputs": [],
   "source": [
    "plt.plot(a, list(mean_df['Best3SquatKg']))"
   ]
  },
  {
   "cell_type": "code",
   "execution_count": null,
   "id": "c63e3238",
   "metadata": {},
   "outputs": [],
   "source": [
    "plt.plot(a, list(mean_df['Best3BenchKg']))"
   ]
  },
  {
   "cell_type": "code",
   "execution_count": null,
   "id": "f70ad885",
   "metadata": {},
   "outputs": [],
   "source": [
    "plt.plot(a, list(mean_df['Best3DeadliftKg']))"
   ]
  },
  {
   "cell_type": "code",
   "execution_count": null,
   "id": "322a198c",
   "metadata": {},
   "outputs": [],
   "source": [
    "lifting_df.head()"
   ]
  },
  {
   "cell_type": "code",
   "execution_count": null,
   "id": "10ed6002",
   "metadata": {},
   "outputs": [],
   "source": [
    "q = lifting_df.groupby('Equipment').count()"
   ]
  },
  {
   "cell_type": "code",
   "execution_count": null,
   "id": "8ade75f6",
   "metadata": {},
   "outputs": [],
   "source": [
    "y= list(q.index)"
   ]
  },
  {
   "cell_type": "code",
   "execution_count": null,
   "id": "a6a644bb",
   "metadata": {},
   "outputs": [],
   "source": [
    "z = list(q['Name'])"
   ]
  },
  {
   "cell_type": "code",
   "execution_count": null,
   "id": "146aaa0e",
   "metadata": {},
   "outputs": [],
   "source": [
    "plt.bar(y,z)"
   ]
  },
  {
   "cell_type": "code",
   "execution_count": null,
   "id": "c0504d57",
   "metadata": {},
   "outputs": [],
   "source": [
    "r =lifting_df.groupby('Equipment').mean()"
   ]
  },
  {
   "cell_type": "code",
   "execution_count": null,
   "id": "2a8c1e7b",
   "metadata": {
    "scrolled": true
   },
   "outputs": [],
   "source": [
    "plt.bar(list(r.index),list(r['TotalKg']))"
   ]
  },
  {
   "cell_type": "code",
   "execution_count": null,
   "id": "878eef67",
   "metadata": {},
   "outputs": [],
   "source": [
    "r2 =lifting_df.groupby('Equipment').median()"
   ]
  },
  {
   "cell_type": "code",
   "execution_count": null,
   "id": "08d09cd8",
   "metadata": {},
   "outputs": [],
   "source": [
    "plt.bar(list(r2.index),list(r['TotalKg']))"
   ]
  },
  {
   "cell_type": "code",
   "execution_count": null,
   "id": "0d499c55",
   "metadata": {},
   "outputs": [],
   "source": [
    "plt.bar(list(r2.index),list(r['Best3BenchKg']))"
   ]
  },
  {
   "cell_type": "code",
   "execution_count": null,
   "id": "6e622cd3",
   "metadata": {},
   "outputs": [],
   "source": [
    "plt.bar(list(r2.index),list(r['Best3SquatKg']))"
   ]
  },
  {
   "cell_type": "code",
   "execution_count": null,
   "id": "05912380",
   "metadata": {},
   "outputs": [],
   "source": [
    "plt.bar(list(r2.index),list(r['Best3DeadliftKg']))"
   ]
  },
  {
   "cell_type": "code",
   "execution_count": null,
   "id": "e8d84311",
   "metadata": {},
   "outputs": [],
   "source": [
    "lifting_df"
   ]
  },
  {
   "cell_type": "code",
   "execution_count": null,
   "id": "4651ceda",
   "metadata": {},
   "outputs": [],
   "source": [
    "#make copy of dataframe\n",
    "new_lifting_df = lifting_df\n",
    "new_lifting_df['Success'] = 0\n",
    "new_lifting_df['Failed'] = 0\n",
    "new_lifting_df = new_lifting_df.drop(labels=['Squat4Kg','Bench4Kg','Deadlift4Kg'], axis=1)"
   ]
  },
  {
   "cell_type": "code",
   "execution_count": null,
   "id": "7d9a8e1e",
   "metadata": {},
   "outputs": [],
   "source": [
    "new_lifting_df.head()"
   ]
  },
  {
   "cell_type": "code",
   "execution_count": null,
   "id": "e20e6352",
   "metadata": {},
   "outputs": [],
   "source": [
    "lst = lifting_df['Age'].dropna()"
   ]
  },
  {
   "cell_type": "code",
   "execution_count": null,
   "id": "e96bc23f",
   "metadata": {},
   "outputs": [],
   "source": [
    "plt.boxplot(lst)"
   ]
  },
  {
   "cell_type": "code",
   "execution_count": null,
   "id": "def308d0",
   "metadata": {},
   "outputs": [],
   "source": [
    "lst2 = lifting_df['TotalKg'].dropna()\n",
    "plt.boxplot(lst2)"
   ]
  },
  {
   "cell_type": "code",
   "execution_count": null,
   "id": "12e4a555",
   "metadata": {},
   "outputs": [],
   "source": [
    "lst3 = lifting_df['BodyweightKg'].dropna()\n",
    "plt.boxplot(lst3)"
   ]
  },
  {
   "cell_type": "code",
   "execution_count": null,
   "id": "06be2728",
   "metadata": {},
   "outputs": [],
   "source": [
    "u = dict(lifting_df['Division'].value_counts())"
   ]
  },
  {
   "cell_type": "code",
   "execution_count": null,
   "id": "0ffb36bc",
   "metadata": {},
   "outputs": [],
   "source": [
    "list_divisions = list(lifting_df['Division'].unique())"
   ]
  },
  {
   "cell_type": "code",
   "execution_count": null,
   "id": "6409d4a4",
   "metadata": {},
   "outputs": [],
   "source": [
    "pro_index = list_divisions.index('Pro')"
   ]
  },
  {
   "cell_type": "code",
   "execution_count": 46,
   "id": "78251c7e",
   "metadata": {},
   "outputs": [
    {
     "data": {
      "text/plain": [
       "'Pro'"
      ]
     },
     "execution_count": 46,
     "metadata": {},
     "output_type": "execute_result"
    }
   ],
   "source": [
    "list_divisions[pro_index]"
   ]
  },
  {
   "cell_type": "code",
   "execution_count": 68,
   "id": "331912c0",
   "metadata": {},
   "outputs": [
    {
     "data": {
      "text/html": [
       "<div>\n",
       "<style scoped>\n",
       "    .dataframe tbody tr th:only-of-type {\n",
       "        vertical-align: middle;\n",
       "    }\n",
       "\n",
       "    .dataframe tbody tr th {\n",
       "        vertical-align: top;\n",
       "    }\n",
       "\n",
       "    .dataframe thead th {\n",
       "        text-align: right;\n",
       "    }\n",
       "</style>\n",
       "<table border=\"1\" class=\"dataframe\">\n",
       "  <thead>\n",
       "    <tr style=\"text-align: right;\">\n",
       "      <th></th>\n",
       "      <th>Division</th>\n",
       "    </tr>\n",
       "  </thead>\n",
       "  <tbody>\n",
       "    <tr>\n",
       "      <th>0</th>\n",
       "      <td>True</td>\n",
       "    </tr>\n",
       "    <tr>\n",
       "      <th>1</th>\n",
       "      <td>True</td>\n",
       "    </tr>\n",
       "    <tr>\n",
       "      <th>2</th>\n",
       "      <td>True</td>\n",
       "    </tr>\n",
       "    <tr>\n",
       "      <th>3</th>\n",
       "      <td>True</td>\n",
       "    </tr>\n",
       "    <tr>\n",
       "      <th>4</th>\n",
       "      <td>True</td>\n",
       "    </tr>\n",
       "  </tbody>\n",
       "</table>\n",
       "</div>"
      ],
      "text/plain": [
       "   Division\n",
       "0      True\n",
       "1      True\n",
       "2      True\n",
       "3      True\n",
       "4      True"
      ]
     },
     "execution_count": 68,
     "metadata": {},
     "output_type": "execute_result"
    }
   ],
   "source": []
  },
  {
   "cell_type": "code",
   "execution_count": 71,
   "id": "c6a48671",
   "metadata": {},
   "outputs": [
    {
     "data": {
      "text/plain": [
       "0          True\n",
       "1          True\n",
       "2          True\n",
       "3          True\n",
       "4          True\n",
       "           ... \n",
       "1423349    True\n",
       "1423350    True\n",
       "1423351    True\n",
       "1423352    True\n",
       "1423353    True\n",
       "Name: Division, Length: 1415176, dtype: bool"
      ]
     },
     "execution_count": 71,
     "metadata": {},
     "output_type": "execute_result"
    }
   ],
   "source": []
  },
  {
   "cell_type": "code",
   "execution_count": 9,
   "id": "f2382d03",
   "metadata": {},
   "outputs": [],
   "source": [
    "divisions = lifting_df['Division']"
   ]
  },
  {
   "cell_type": "code",
   "execution_count": 10,
   "id": "b2890304",
   "metadata": {},
   "outputs": [
    {
     "data": {
      "text/plain": [
       "0               F-OR\n",
       "1               F-OR\n",
       "2               F-OR\n",
       "3               F-OR\n",
       "4               F-OR\n",
       "             ...    \n",
       "1423349    Masters 2\n",
       "1423350    Masters 2\n",
       "1423351    Masters 2\n",
       "1423352    Masters 2\n",
       "1423353    Masters 2\n",
       "Name: Division, Length: 1423354, dtype: object"
      ]
     },
     "execution_count": 10,
     "metadata": {},
     "output_type": "execute_result"
    }
   ],
   "source": [
    "divisions"
   ]
  },
  {
   "cell_type": "code",
   "execution_count": 12,
   "id": "308bb41a",
   "metadata": {},
   "outputs": [],
   "source": [
    "devisions_list = list(divisions)"
   ]
  },
  {
   "cell_type": "code",
   "execution_count": 22,
   "id": "7e911f39",
   "metadata": {},
   "outputs": [
    {
     "data": {
      "text/plain": [
       "Name                     0\n",
       "Sex                      0\n",
       "Event                    0\n",
       "Equipment                0\n",
       "Age                 662659\n",
       "AgeClass            633407\n",
       "Division                 0\n",
       "BodyweightKg         16527\n",
       "WeightClassKg        12848\n",
       "Squat1Kg           1081790\n",
       "Squat2Kg           1085973\n",
       "Squat3Kg           1095406\n",
       "Squat4Kg           1411514\n",
       "Best3SquatKg        389476\n",
       "Bench1Kg            920686\n",
       "Bench2Kg            926938\n",
       "Bench3Kg            941793\n",
       "Bench4Kg           1405777\n",
       "Best3BenchKg        145954\n",
       "Deadlift1Kg        1055863\n",
       "Deadlift2Kg        1063333\n",
       "Deadlift3Kg        1079235\n",
       "Deadlift4Kg        1406012\n",
       "Best3DeadliftKg     339326\n",
       "TotalKg             109177\n",
       "Place                    0\n",
       "Wilks               117795\n",
       "McCulloch           117946\n",
       "Glossbrenner        117795\n",
       "IPFPoints           148893\n",
       "Tested              325819\n",
       "Country            1031029\n",
       "Federation               0\n",
       "Date                     0\n",
       "MeetCountry              0\n",
       "MeetState           477366\n",
       "MeetName                 0\n",
       "dtype: int64"
      ]
     },
     "execution_count": 22,
     "metadata": {},
     "output_type": "execute_result"
    }
   ],
   "source": [
    "divisions_df = lifting_df[lifting_df['Division'].notna()]\n",
    "divisions_df.isnull().sum()"
   ]
  },
  {
   "cell_type": "code",
   "execution_count": 29,
   "id": "6d7ed584",
   "metadata": {},
   "outputs": [],
   "source": [
    "pro_lifting_df = divisions_df[divisions_df['Division'].str.contains('Pro', case=False)]"
   ]
  },
  {
   "cell_type": "code",
   "execution_count": 30,
   "id": "6470fe81",
   "metadata": {},
   "outputs": [
    {
     "data": {
      "text/plain": [
       "['Pro O',\n",
       " 'Pro Cash Division',\n",
       " 'Pro Open',\n",
       " 'Pro Teen',\n",
       " 'Pro Juniors',\n",
       " 'Pro Masters 60-64',\n",
       " 'Pro Submasters',\n",
       " 'pro Masters 55-59',\n",
       " 'Pro Masters 50-54',\n",
       " 'Pro Masters 55-59',\n",
       " 'Pro Masters 45-49',\n",
       " 'Pro Masters 40-44',\n",
       " 'Pro Masters',\n",
       " 'Pro Masters 70-74',\n",
       " 'Pro Masters 75-79',\n",
       " 'Pro',\n",
       " 'Former Pro',\n",
       " 'Pro Submasters 33-39',\n",
       " 'Pro Juniors 20-23',\n",
       " 'Pro Teen 15-19',\n",
       " 'Pro Girls',\n",
       " 'Pro Masters 40-49',\n",
       " 'Pro Masters 50-59',\n",
       " 'Pro Masters 60-69',\n",
       " 'Pro Teen 13-19',\n",
       " 'Pro Masters 70-79',\n",
       " 'Pro Open 24-39',\n",
       " 'Pro Masters 65-69',\n",
       " 'Tested Pro Open',\n",
       " 'Tested Pro Teen 15-19',\n",
       " 'Tested Pro Juniors 20-23',\n",
       " 'Tested Pro Masters 55-59',\n",
       " 'Tested Pro Masters 40-44',\n",
       " 'Tested Pro Masters 60-64',\n",
       " 'Tested Pro Masters 50-54',\n",
       " 'Tested Pro Masters',\n",
       " 'Tested Pro Masters 65-69',\n",
       " 'Tested Pro Masters 45-49',\n",
       " 'Tested Pro Teen 13-19',\n",
       " 'Tested Pro Masters 50-59',\n",
       " 'Tested Pro Masters 40-49',\n",
       " 'Pro Teen 14-15',\n",
       " 'Pro Junior',\n",
       " 'Pro Teen 16-17',\n",
       " 'Pro Teen 18-19',\n",
       " 'M-Pro',\n",
       " 'Pro Masters (40-44)',\n",
       " 'Pro Juniors (20-23)',\n",
       " 'Pro Sub Masters (33-39)',\n",
       " 'Pro Teenage (13 -19)',\n",
       " 'Pro Masters 33-39',\n",
       " 'Pro Masters 55-60',\n",
       " 'M_ME_2_PRO',\n",
       " 'F_OE_PRO',\n",
       " 'M_OR_PRO',\n",
       " 'M_OE_PRO',\n",
       " 'M_SEM_PRO',\n",
       " 'F_OR_PRO',\n",
       " 'M_SR_PRO',\n",
       " 'M_MR_2_PRO',\n",
       " 'F_SR_PRO',\n",
       " 'M_JE_PRO',\n",
       " 'M_ME_1_PRO',\n",
       " 'M_MR_4_PRO',\n",
       " 'PRO OPEN',\n",
       " 'PRO SUB-MASTER',\n",
       " 'PRO Masters 40-44',\n",
       " 'Pro M',\n",
       " 'Pro MW-O',\n",
       " 'Pro MR-O',\n",
       " 'Pro FR-O',\n",
       " 'Pro FW-O',\n",
       " 'Pro FW-JR',\n",
       " 'Pro Teen 14-16',\n",
       " 'Pro Teen 17-19',\n",
       " 'Pro Girls 14-16',\n",
       " 'Tested Pro Open 24-39',\n",
       " 'Pro Teen T2',\n",
       " 'Pro Masters 1',\n",
       " 'Pro Masters 2',\n",
       " 'Pro Teen T1',\n",
       " 'Pro Veterans',\n",
       " 'Pro Teen 13-15',\n",
       " 'Pro Masters 40+',\n",
       " 'Pro Submasters 35-39',\n",
       " 'Pro Heavy',\n",
       " 'Pro Light',\n",
       " 'Pro Masters 56',\n",
       " 'Pro Masters 52',\n",
       " 'Pro Police',\n",
       " 'Pro Masters 50',\n",
       " 'Pro Submster',\n",
       " 'Pro Masters 42',\n",
       " 'Pro Masters 51',\n",
       " 'Pro LW',\n",
       " 'Pro HW',\n",
       " 'Elite Pro Open',\n",
       " 'Pro M1',\n",
       " 'Pro M2',\n",
       " 'Pro Open 20-23',\n",
       " 'Pro Т 16-17',\n",
       " 'Pro М 45-49',\n",
       " 'Pro Т 13-15',\n",
       " 'Pro Т 18-19',\n",
       " 'Pro М 50-54',\n",
       " 'Pro М 40-44',\n",
       " 'Pro М 55-59',\n",
       " 'Pro J 20-23',\n",
       " 'Pro Teenage 16-17',\n",
       " 'Pro Teenage 18-19',\n",
       " 'Pro Sub Masters 33-39',\n",
       " 'Pro T13-15',\n",
       " 'Pro M45-49',\n",
       " 'Pro T16-17',\n",
       " 'Pro T18-19',\n",
       " 'Pro M50-54',\n",
       " 'Pro M40-44',\n",
       " 'Pro Juniors 16 - 17',\n",
       " 'Pro Masters 40 - 44',\n",
       " 'Pro Masters 45 - 49',\n",
       " 'Pro Juniors 20 - 23',\n",
       " 'Pro Masters 50 - 54',\n",
       " 'Pro Masters 3',\n",
       " 'Pro 20-23',\n",
       " 'Pro 40-44',\n",
       " 'Pro 50-54',\n",
       " 'Pro 13-15',\n",
       " 'Pro 18-19',\n",
       " 'Pro 65-69',\n",
       " 'Pro 55-59',\n",
       " 'Pro Military/Fire/Police',\n",
       " 'Pro Children 11-12',\n",
       " 'Pro Paralympian',\n",
       " 'Pro Children 9',\n",
       " 'Pro Juniors Under 19',\n",
       " 'Pro Open 20-29',\n",
       " 'Pro Open 20-30',\n",
       " 'Pro Open 20-31',\n",
       " 'Pro Open 20-32',\n",
       " 'Pro Open 20-33',\n",
       " 'Pro Open 20-34',\n",
       " 'Pro Open 20-35',\n",
       " 'Pro Open 20-36',\n",
       " 'Pro Open 20-37',\n",
       " 'Pro Open 20-38',\n",
       " 'Pro Open 20-39',\n",
       " 'Pro Open 20-40',\n",
       " 'Pro Open 20-41',\n",
       " 'Pro Open 20-42',\n",
       " 'Pro Open 20-43',\n",
       " 'Pro Open 20-44',\n",
       " 'Pro Open 20-45',\n",
       " 'Pro Open 20-46',\n",
       " 'Pro Open 20-47',\n",
       " 'Pro Open 20-48',\n",
       " 'Pro Open 20-49',\n",
       " 'Pro Submasters 30-39',\n",
       " 'Pro Submasters 30-40',\n",
       " 'Pro Submasters 30-41',\n",
       " 'Pro Submasters 30-42',\n",
       " 'Pro Submasters 30-43',\n",
       " 'Pro Submasters 30-44',\n",
       " 'Pro Submasters 30-45',\n",
       " 'Pro Submasters 30-46',\n",
       " 'Pro Submasters 30-47',\n",
       " 'Pro Teenagers 13-15',\n",
       " 'Pro Teenagers 16-17',\n",
       " 'Pro Teenagers 18-19',\n",
       " 'Pro MPF',\n",
       " 'Pro Children 10',\n",
       " 'Pro Teenage 13-15',\n",
       " 'Pro Masters 80+',\n",
       " 'Pro Children 8',\n",
       " 'Pro Masters 45-59',\n",
       " 'Pro J',\n",
       " 'Pro T3',\n",
       " 'Pro M3',\n",
       " 'Pro Teen 13',\n",
       " 'Pro Military',\n",
       " 'Pro Guest',\n",
       " 'Pro T1',\n",
       " 'Pro T2',\n",
       " 'Pro T3 18-19',\n",
       " 'Pro M4',\n",
       " 'Pro PFM',\n",
       " 'Pro O/J',\n",
       " 'Pro Masters (50-54)',\n",
       " 'Pro Masters (45-49)',\n",
       " 'Pro Masters (65-69)',\n",
       " 'Pro Teen (18-19)',\n",
       " 'Military Pro Open',\n",
       " 'Police/Fire/Military Pro Open',\n",
       " 'Police Pro Open',\n",
       " 'Military Pro Masters 50+',\n",
       " 'Pro Masters 50+',\n",
       " 'Pro Masters 80-84',\n",
       " 'Police Pro Masters 40-44',\n",
       " 'Police Pro Masters 50+',\n",
       " 'Military Pro Juniors 20-23',\n",
       " 'Police Pro Submasters 33-39']"
      ]
     },
     "execution_count": 30,
     "metadata": {},
     "output_type": "execute_result"
    }
   ],
   "source": [
    "list(pro_lifting_df['Division'].unique())"
   ]
  },
  {
   "cell_type": "code",
   "execution_count": 32,
   "id": "52f08e9e",
   "metadata": {},
   "outputs": [
    {
     "data": {
      "text/html": [
       "<div>\n",
       "<style scoped>\n",
       "    .dataframe tbody tr th:only-of-type {\n",
       "        vertical-align: middle;\n",
       "    }\n",
       "\n",
       "    .dataframe tbody tr th {\n",
       "        vertical-align: top;\n",
       "    }\n",
       "\n",
       "    .dataframe thead th {\n",
       "        text-align: right;\n",
       "    }\n",
       "</style>\n",
       "<table border=\"1\" class=\"dataframe\">\n",
       "  <thead>\n",
       "    <tr style=\"text-align: right;\">\n",
       "      <th></th>\n",
       "      <th>Name</th>\n",
       "      <th>Sex</th>\n",
       "      <th>Event</th>\n",
       "      <th>Equipment</th>\n",
       "      <th>Age</th>\n",
       "      <th>AgeClass</th>\n",
       "      <th>Division</th>\n",
       "      <th>BodyweightKg</th>\n",
       "      <th>WeightClassKg</th>\n",
       "      <th>Squat1Kg</th>\n",
       "      <th>...</th>\n",
       "      <th>McCulloch</th>\n",
       "      <th>Glossbrenner</th>\n",
       "      <th>IPFPoints</th>\n",
       "      <th>Tested</th>\n",
       "      <th>Country</th>\n",
       "      <th>Federation</th>\n",
       "      <th>Date</th>\n",
       "      <th>MeetCountry</th>\n",
       "      <th>MeetState</th>\n",
       "      <th>MeetName</th>\n",
       "    </tr>\n",
       "  </thead>\n",
       "  <tbody>\n",
       "    <tr>\n",
       "      <th>44733</th>\n",
       "      <td>Arkadiy Shalokha</td>\n",
       "      <td>M</td>\n",
       "      <td>SBD</td>\n",
       "      <td>Wraps</td>\n",
       "      <td>32.0</td>\n",
       "      <td>24-34</td>\n",
       "      <td>Pro O</td>\n",
       "      <td>79.80</td>\n",
       "      <td>82.5</td>\n",
       "      <td>285.0</td>\n",
       "      <td>...</td>\n",
       "      <td>550.44</td>\n",
       "      <td>531.75</td>\n",
       "      <td>851.49</td>\n",
       "      <td>NaN</td>\n",
       "      <td>NaN</td>\n",
       "      <td>UkrainePA</td>\n",
       "      <td>2015-02-28</td>\n",
       "      <td>Ukraine</td>\n",
       "      <td>NaN</td>\n",
       "      <td>Ukrainian Central Region Championships</td>\n",
       "    </tr>\n",
       "    <tr>\n",
       "      <th>44735</th>\n",
       "      <td>Pavlo Ischenko</td>\n",
       "      <td>M</td>\n",
       "      <td>SBD</td>\n",
       "      <td>Single-ply</td>\n",
       "      <td>23.0</td>\n",
       "      <td>20-23</td>\n",
       "      <td>Pro O</td>\n",
       "      <td>92.30</td>\n",
       "      <td>100</td>\n",
       "      <td>270.0</td>\n",
       "      <td>...</td>\n",
       "      <td>479.15</td>\n",
       "      <td>461.48</td>\n",
       "      <td>590.53</td>\n",
       "      <td>NaN</td>\n",
       "      <td>Ukraine</td>\n",
       "      <td>UkrainePA</td>\n",
       "      <td>2015-02-28</td>\n",
       "      <td>Ukraine</td>\n",
       "      <td>NaN</td>\n",
       "      <td>Ukrainian Central Region Championships</td>\n",
       "    </tr>\n",
       "    <tr>\n",
       "      <th>44757</th>\n",
       "      <td>Egor Polomoshnov</td>\n",
       "      <td>M</td>\n",
       "      <td>B</td>\n",
       "      <td>Raw</td>\n",
       "      <td>34.5</td>\n",
       "      <td>24-34</td>\n",
       "      <td>Pro O</td>\n",
       "      <td>103.10</td>\n",
       "      <td>110</td>\n",
       "      <td>NaN</td>\n",
       "      <td>...</td>\n",
       "      <td>111.28</td>\n",
       "      <td>106.84</td>\n",
       "      <td>652.59</td>\n",
       "      <td>NaN</td>\n",
       "      <td>Ukraine</td>\n",
       "      <td>UkrainePA</td>\n",
       "      <td>2015-02-28</td>\n",
       "      <td>Ukraine</td>\n",
       "      <td>NaN</td>\n",
       "      <td>Ukrainian Central Region Championships</td>\n",
       "    </tr>\n",
       "    <tr>\n",
       "      <th>44763</th>\n",
       "      <td>Arkadiy Shalokha</td>\n",
       "      <td>M</td>\n",
       "      <td>B</td>\n",
       "      <td>Single-ply</td>\n",
       "      <td>32.0</td>\n",
       "      <td>24-34</td>\n",
       "      <td>Pro O</td>\n",
       "      <td>79.80</td>\n",
       "      <td>82.5</td>\n",
       "      <td>NaN</td>\n",
       "      <td>...</td>\n",
       "      <td>181.20</td>\n",
       "      <td>175.05</td>\n",
       "      <td>785.39</td>\n",
       "      <td>NaN</td>\n",
       "      <td>NaN</td>\n",
       "      <td>UkrainePA</td>\n",
       "      <td>2015-02-28</td>\n",
       "      <td>Ukraine</td>\n",
       "      <td>NaN</td>\n",
       "      <td>Ukrainian Central Region Championships</td>\n",
       "    </tr>\n",
       "    <tr>\n",
       "      <th>44764</th>\n",
       "      <td>Davlet Bekniyazov</td>\n",
       "      <td>M</td>\n",
       "      <td>B</td>\n",
       "      <td>Single-ply</td>\n",
       "      <td>29.5</td>\n",
       "      <td>24-34</td>\n",
       "      <td>Pro O</td>\n",
       "      <td>89.00</td>\n",
       "      <td>90</td>\n",
       "      <td>NaN</td>\n",
       "      <td>...</td>\n",
       "      <td>93.10</td>\n",
       "      <td>89.74</td>\n",
       "      <td>467.86</td>\n",
       "      <td>NaN</td>\n",
       "      <td>NaN</td>\n",
       "      <td>UkrainePA</td>\n",
       "      <td>2015-02-28</td>\n",
       "      <td>Ukraine</td>\n",
       "      <td>NaN</td>\n",
       "      <td>Ukrainian Central Region Championships</td>\n",
       "    </tr>\n",
       "    <tr>\n",
       "      <th>...</th>\n",
       "      <td>...</td>\n",
       "      <td>...</td>\n",
       "      <td>...</td>\n",
       "      <td>...</td>\n",
       "      <td>...</td>\n",
       "      <td>...</td>\n",
       "      <td>...</td>\n",
       "      <td>...</td>\n",
       "      <td>...</td>\n",
       "      <td>...</td>\n",
       "      <td>...</td>\n",
       "      <td>...</td>\n",
       "      <td>...</td>\n",
       "      <td>...</td>\n",
       "      <td>...</td>\n",
       "      <td>...</td>\n",
       "      <td>...</td>\n",
       "      <td>...</td>\n",
       "      <td>...</td>\n",
       "      <td>...</td>\n",
       "      <td>...</td>\n",
       "    </tr>\n",
       "    <tr>\n",
       "      <th>1420092</th>\n",
       "      <td>Oleh Pylypiak</td>\n",
       "      <td>M</td>\n",
       "      <td>S</td>\n",
       "      <td>Raw</td>\n",
       "      <td>NaN</td>\n",
       "      <td>20-23</td>\n",
       "      <td>Pro Juniors 20-23</td>\n",
       "      <td>117.12</td>\n",
       "      <td>125</td>\n",
       "      <td>NaN</td>\n",
       "      <td>...</td>\n",
       "      <td>170.51</td>\n",
       "      <td>162.91</td>\n",
       "      <td>661.05</td>\n",
       "      <td>NaN</td>\n",
       "      <td>NaN</td>\n",
       "      <td>RPS</td>\n",
       "      <td>2018-04-14</td>\n",
       "      <td>USA</td>\n",
       "      <td>PA</td>\n",
       "      <td>PowerPalooza 20</td>\n",
       "    </tr>\n",
       "    <tr>\n",
       "      <th>1420093</th>\n",
       "      <td>Oleh Pylypiak</td>\n",
       "      <td>M</td>\n",
       "      <td>D</td>\n",
       "      <td>Raw</td>\n",
       "      <td>NaN</td>\n",
       "      <td>20-23</td>\n",
       "      <td>Pro Juniors 20-23</td>\n",
       "      <td>117.12</td>\n",
       "      <td>125</td>\n",
       "      <td>NaN</td>\n",
       "      <td>...</td>\n",
       "      <td>178.37</td>\n",
       "      <td>170.42</td>\n",
       "      <td>643.94</td>\n",
       "      <td>NaN</td>\n",
       "      <td>NaN</td>\n",
       "      <td>RPS</td>\n",
       "      <td>2018-04-14</td>\n",
       "      <td>USA</td>\n",
       "      <td>PA</td>\n",
       "      <td>PowerPalooza 20</td>\n",
       "    </tr>\n",
       "    <tr>\n",
       "      <th>1420094</th>\n",
       "      <td>Patrick J Hall</td>\n",
       "      <td>M</td>\n",
       "      <td>S</td>\n",
       "      <td>Wraps</td>\n",
       "      <td>NaN</td>\n",
       "      <td>NaN</td>\n",
       "      <td>Pro Open</td>\n",
       "      <td>185.88</td>\n",
       "      <td>140+</td>\n",
       "      <td>NaN</td>\n",
       "      <td>...</td>\n",
       "      <td>218.62</td>\n",
       "      <td>203.85</td>\n",
       "      <td>728.48</td>\n",
       "      <td>NaN</td>\n",
       "      <td>NaN</td>\n",
       "      <td>RPS</td>\n",
       "      <td>2018-04-14</td>\n",
       "      <td>USA</td>\n",
       "      <td>PA</td>\n",
       "      <td>PowerPalooza 20</td>\n",
       "    </tr>\n",
       "    <tr>\n",
       "      <th>1420117</th>\n",
       "      <td>David Carr</td>\n",
       "      <td>M</td>\n",
       "      <td>BD</td>\n",
       "      <td>Raw</td>\n",
       "      <td>NaN</td>\n",
       "      <td>20-23</td>\n",
       "      <td>Pro Juniors 20-23</td>\n",
       "      <td>100.00</td>\n",
       "      <td>100</td>\n",
       "      <td>NaN</td>\n",
       "      <td>...</td>\n",
       "      <td>NaN</td>\n",
       "      <td>NaN</td>\n",
       "      <td>NaN</td>\n",
       "      <td>NaN</td>\n",
       "      <td>NaN</td>\n",
       "      <td>RPS</td>\n",
       "      <td>2016-06-11</td>\n",
       "      <td>USA</td>\n",
       "      <td>PA</td>\n",
       "      <td>Pennsylvania Ironman Championships</td>\n",
       "    </tr>\n",
       "    <tr>\n",
       "      <th>1420120</th>\n",
       "      <td>Craig Barroll</td>\n",
       "      <td>M</td>\n",
       "      <td>BD</td>\n",
       "      <td>Single-ply</td>\n",
       "      <td>53.5</td>\n",
       "      <td>50-54</td>\n",
       "      <td>Pro Masters 50-54</td>\n",
       "      <td>100.00</td>\n",
       "      <td>100</td>\n",
       "      <td>NaN</td>\n",
       "      <td>...</td>\n",
       "      <td>268.02</td>\n",
       "      <td>217.55</td>\n",
       "      <td>NaN</td>\n",
       "      <td>NaN</td>\n",
       "      <td>NaN</td>\n",
       "      <td>RPS</td>\n",
       "      <td>2016-06-11</td>\n",
       "      <td>USA</td>\n",
       "      <td>PA</td>\n",
       "      <td>Pennsylvania Ironman Championships</td>\n",
       "    </tr>\n",
       "  </tbody>\n",
       "</table>\n",
       "<p>31193 rows × 37 columns</p>\n",
       "</div>"
      ],
      "text/plain": [
       "                      Name Sex Event   Equipment   Age AgeClass  \\\n",
       "44733     Arkadiy Shalokha   M   SBD       Wraps  32.0    24-34   \n",
       "44735       Pavlo Ischenko   M   SBD  Single-ply  23.0    20-23   \n",
       "44757     Egor Polomoshnov   M     B         Raw  34.5    24-34   \n",
       "44763     Arkadiy Shalokha   M     B  Single-ply  32.0    24-34   \n",
       "44764    Davlet Bekniyazov   M     B  Single-ply  29.5    24-34   \n",
       "...                    ...  ..   ...         ...   ...      ...   \n",
       "1420092      Oleh Pylypiak   M     S         Raw   NaN    20-23   \n",
       "1420093      Oleh Pylypiak   M     D         Raw   NaN    20-23   \n",
       "1420094     Patrick J Hall   M     S       Wraps   NaN      NaN   \n",
       "1420117         David Carr   M    BD         Raw   NaN    20-23   \n",
       "1420120      Craig Barroll   M    BD  Single-ply  53.5    50-54   \n",
       "\n",
       "                  Division  BodyweightKg WeightClassKg  Squat1Kg  ...  \\\n",
       "44733                Pro O         79.80          82.5     285.0  ...   \n",
       "44735                Pro O         92.30           100     270.0  ...   \n",
       "44757                Pro O        103.10           110       NaN  ...   \n",
       "44763                Pro O         79.80          82.5       NaN  ...   \n",
       "44764                Pro O         89.00            90       NaN  ...   \n",
       "...                    ...           ...           ...       ...  ...   \n",
       "1420092  Pro Juniors 20-23        117.12           125       NaN  ...   \n",
       "1420093  Pro Juniors 20-23        117.12           125       NaN  ...   \n",
       "1420094           Pro Open        185.88          140+       NaN  ...   \n",
       "1420117  Pro Juniors 20-23        100.00           100       NaN  ...   \n",
       "1420120  Pro Masters 50-54        100.00           100       NaN  ...   \n",
       "\n",
       "         McCulloch  Glossbrenner  IPFPoints  Tested  Country  Federation  \\\n",
       "44733       550.44        531.75     851.49     NaN      NaN   UkrainePA   \n",
       "44735       479.15        461.48     590.53     NaN  Ukraine   UkrainePA   \n",
       "44757       111.28        106.84     652.59     NaN  Ukraine   UkrainePA   \n",
       "44763       181.20        175.05     785.39     NaN      NaN   UkrainePA   \n",
       "44764        93.10         89.74     467.86     NaN      NaN   UkrainePA   \n",
       "...            ...           ...        ...     ...      ...         ...   \n",
       "1420092     170.51        162.91     661.05     NaN      NaN         RPS   \n",
       "1420093     178.37        170.42     643.94     NaN      NaN         RPS   \n",
       "1420094     218.62        203.85     728.48     NaN      NaN         RPS   \n",
       "1420117        NaN           NaN        NaN     NaN      NaN         RPS   \n",
       "1420120     268.02        217.55        NaN     NaN      NaN         RPS   \n",
       "\n",
       "               Date  MeetCountry  MeetState  \\\n",
       "44733    2015-02-28      Ukraine        NaN   \n",
       "44735    2015-02-28      Ukraine        NaN   \n",
       "44757    2015-02-28      Ukraine        NaN   \n",
       "44763    2015-02-28      Ukraine        NaN   \n",
       "44764    2015-02-28      Ukraine        NaN   \n",
       "...             ...          ...        ...   \n",
       "1420092  2018-04-14          USA         PA   \n",
       "1420093  2018-04-14          USA         PA   \n",
       "1420094  2018-04-14          USA         PA   \n",
       "1420117  2016-06-11          USA         PA   \n",
       "1420120  2016-06-11          USA         PA   \n",
       "\n",
       "                                       MeetName  \n",
       "44733    Ukrainian Central Region Championships  \n",
       "44735    Ukrainian Central Region Championships  \n",
       "44757    Ukrainian Central Region Championships  \n",
       "44763    Ukrainian Central Region Championships  \n",
       "44764    Ukrainian Central Region Championships  \n",
       "...                                         ...  \n",
       "1420092                         PowerPalooza 20  \n",
       "1420093                         PowerPalooza 20  \n",
       "1420094                         PowerPalooza 20  \n",
       "1420117      Pennsylvania Ironman Championships  \n",
       "1420120      Pennsylvania Ironman Championships  \n",
       "\n",
       "[31193 rows x 37 columns]"
      ]
     },
     "execution_count": 32,
     "metadata": {},
     "output_type": "execute_result"
    }
   ],
   "source": [
    "pro_lifting_df"
   ]
  },
  {
   "cell_type": "code",
   "execution_count": 33,
   "id": "898f0639",
   "metadata": {},
   "outputs": [
    {
     "data": {
      "text/html": [
       "<div>\n",
       "<style scoped>\n",
       "    .dataframe tbody tr th:only-of-type {\n",
       "        vertical-align: middle;\n",
       "    }\n",
       "\n",
       "    .dataframe tbody tr th {\n",
       "        vertical-align: top;\n",
       "    }\n",
       "\n",
       "    .dataframe thead th {\n",
       "        text-align: right;\n",
       "    }\n",
       "</style>\n",
       "<table border=\"1\" class=\"dataframe\">\n",
       "  <thead>\n",
       "    <tr style=\"text-align: right;\">\n",
       "      <th></th>\n",
       "      <th>Age</th>\n",
       "      <th>BodyweightKg</th>\n",
       "      <th>Squat1Kg</th>\n",
       "      <th>Squat2Kg</th>\n",
       "      <th>Squat3Kg</th>\n",
       "      <th>Squat4Kg</th>\n",
       "      <th>Best3SquatKg</th>\n",
       "      <th>Bench1Kg</th>\n",
       "      <th>Bench2Kg</th>\n",
       "      <th>Bench3Kg</th>\n",
       "      <th>...</th>\n",
       "      <th>Deadlift1Kg</th>\n",
       "      <th>Deadlift2Kg</th>\n",
       "      <th>Deadlift3Kg</th>\n",
       "      <th>Deadlift4Kg</th>\n",
       "      <th>Best3DeadliftKg</th>\n",
       "      <th>TotalKg</th>\n",
       "      <th>Wilks</th>\n",
       "      <th>McCulloch</th>\n",
       "      <th>Glossbrenner</th>\n",
       "      <th>IPFPoints</th>\n",
       "    </tr>\n",
       "    <tr>\n",
       "      <th>Sex</th>\n",
       "      <th></th>\n",
       "      <th></th>\n",
       "      <th></th>\n",
       "      <th></th>\n",
       "      <th></th>\n",
       "      <th></th>\n",
       "      <th></th>\n",
       "      <th></th>\n",
       "      <th></th>\n",
       "      <th></th>\n",
       "      <th></th>\n",
       "      <th></th>\n",
       "      <th></th>\n",
       "      <th></th>\n",
       "      <th></th>\n",
       "      <th></th>\n",
       "      <th></th>\n",
       "      <th></th>\n",
       "      <th></th>\n",
       "      <th></th>\n",
       "      <th></th>\n",
       "    </tr>\n",
       "  </thead>\n",
       "  <tbody>\n",
       "    <tr>\n",
       "      <th>F</th>\n",
       "      <td>31.602427</td>\n",
       "      <td>65.808324</td>\n",
       "      <td>60.690552</td>\n",
       "      <td>53.018034</td>\n",
       "      <td>6.379187</td>\n",
       "      <td>58.997429</td>\n",
       "      <td>146.533947</td>\n",
       "      <td>48.068348</td>\n",
       "      <td>30.327215</td>\n",
       "      <td>-9.810945</td>\n",
       "      <td>...</td>\n",
       "      <td>96.046318</td>\n",
       "      <td>82.413674</td>\n",
       "      <td>18.185643</td>\n",
       "      <td>-33.433563</td>\n",
       "      <td>149.75511</td>\n",
       "      <td>248.946673</td>\n",
       "      <td>258.647499</td>\n",
       "      <td>264.799111</td>\n",
       "      <td>227.799147</td>\n",
       "      <td>581.845708</td>\n",
       "    </tr>\n",
       "    <tr>\n",
       "      <th>M</th>\n",
       "      <td>32.346272</td>\n",
       "      <td>97.898741</td>\n",
       "      <td>108.392266</td>\n",
       "      <td>83.599838</td>\n",
       "      <td>17.957269</td>\n",
       "      <td>22.907000</td>\n",
       "      <td>267.892037</td>\n",
       "      <td>101.101077</td>\n",
       "      <td>61.653113</td>\n",
       "      <td>-24.608360</td>\n",
       "      <td>...</td>\n",
       "      <td>170.119964</td>\n",
       "      <td>130.268039</td>\n",
       "      <td>-5.869037</td>\n",
       "      <td>-58.804751</td>\n",
       "      <td>258.20163</td>\n",
       "      <td>417.328116</td>\n",
       "      <td>257.802620</td>\n",
       "      <td>264.359323</td>\n",
       "      <td>247.532283</td>\n",
       "      <td>595.114516</td>\n",
       "    </tr>\n",
       "  </tbody>\n",
       "</table>\n",
       "<p>2 rows × 22 columns</p>\n",
       "</div>"
      ],
      "text/plain": [
       "           Age  BodyweightKg    Squat1Kg   Squat2Kg   Squat3Kg   Squat4Kg  \\\n",
       "Sex                                                                         \n",
       "F    31.602427     65.808324   60.690552  53.018034   6.379187  58.997429   \n",
       "M    32.346272     97.898741  108.392266  83.599838  17.957269  22.907000   \n",
       "\n",
       "     Best3SquatKg    Bench1Kg   Bench2Kg   Bench3Kg  ...  Deadlift1Kg  \\\n",
       "Sex                                                  ...                \n",
       "F      146.533947   48.068348  30.327215  -9.810945  ...    96.046318   \n",
       "M      267.892037  101.101077  61.653113 -24.608360  ...   170.119964   \n",
       "\n",
       "     Deadlift2Kg  Deadlift3Kg  Deadlift4Kg  Best3DeadliftKg     TotalKg  \\\n",
       "Sex                                                                       \n",
       "F      82.413674    18.185643   -33.433563        149.75511  248.946673   \n",
       "M     130.268039    -5.869037   -58.804751        258.20163  417.328116   \n",
       "\n",
       "          Wilks   McCulloch  Glossbrenner   IPFPoints  \n",
       "Sex                                                    \n",
       "F    258.647499  264.799111    227.799147  581.845708  \n",
       "M    257.802620  264.359323    247.532283  595.114516  \n",
       "\n",
       "[2 rows x 22 columns]"
      ]
     },
     "execution_count": 33,
     "metadata": {},
     "output_type": "execute_result"
    }
   ],
   "source": [
    "pro_lifting_df.groupby('Sex').mean()"
   ]
  },
  {
   "cell_type": "code",
   "execution_count": 71,
   "id": "90c8c5ca",
   "metadata": {},
   "outputs": [],
   "source": [
    "age = pro_lifting_df['Age']\n",
    "bodyweight = pro_lifting_df['BodyweightKg']\n",
    "sex = pro_lifting_df['Sex']\n",
    "colors = {'M': 'blue', \"F\": 'yellow'}"
   ]
  },
  {
   "cell_type": "code",
   "execution_count": 72,
   "id": "d2ddd3ce",
   "metadata": {},
   "outputs": [
    {
     "data": {
      "text/plain": [
       "<matplotlib.collections.PathCollection at 0x7fa026409710>"
      ]
     },
     "execution_count": 72,
     "metadata": {},
     "output_type": "execute_result"
    },
    {
     "data": {
      "image/png": "[encoded data removed]",
      "text/plain": [
       "<Figure size 432x288 with 1 Axes>"
      ]
     },
     "metadata": {
      "needs_background": "light"
     },
     "output_type": "display_data"
    }
   ],
   "source": [
    "plt.scatter(age, bodyweight, c = sex.map(colors))"
   ]
  },
  {
   "cell_type": "code",
   "execution_count": 73,
   "id": "931a39e5",
   "metadata": {},
   "outputs": [],
   "source": [
    "total_lift = pro_lifting_df['TotalKg']"
   ]
  },
  {
   "cell_type": "code",
   "execution_count": 75,
   "id": "34aa5c3c",
   "metadata": {},
   "outputs": [
    {
     "data": {
      "text/plain": [
       "<matplotlib.collections.PathCollection at 0x7fa02638fe50>"
      ]
     },
     "execution_count": 75,
     "metadata": {},
     "output_type": "execute_result"
    },
    {
     "data": {
      "image/png": "[encoded data removed]",
      "text/plain": [
       "<Figure size 432x288 with 1 Axes>"
      ]
     },
     "metadata": {
      "needs_background": "light"
     },
     "output_type": "display_data"
    }
   ],
   "source": [
    "plt.scatter(age, total_lift, c = sex.map(colors))"
   ]
  },
  {
   "cell_type": "code",
   "execution_count": 86,
   "id": "9ffe65bc",
   "metadata": {},
   "outputs": [],
   "source": [
    "pro_sums = pro_lifting_df.groupby('Sex').sum()\n",
    "nums = list(pro_sums['TotalKg'])\n",
    "gender = list(pro_sums.index)"
   ]
  },
  {
   "cell_type": "code",
   "execution_count": 88,
   "id": "4d7d4ff8",
   "metadata": {},
   "outputs": [
    {
     "name": "stdout",
     "output_type": "stream",
     "text": [
      "[921102.69, 10643953.6]\n",
      "['F', 'M']\n"
     ]
    }
   ],
   "source": [
    "print(nums)\n",
    "print(gender)"
   ]
  },
  {
   "cell_type": "code",
   "execution_count": 101,
   "id": "8e9baf23",
   "metadata": {},
   "outputs": [
    {
     "data": {
      "text/plain": [
       "([<matplotlib.patches.Wedge at 0x7fa027073a50>,\n",
       "  <matplotlib.patches.Wedge at 0x7fa027054210>],\n",
       " [Text(1.06574563083948, 0.27237152998534814, 'F'),\n",
       "  Text(-1.0657456435901103, -0.27237148009419426, 'M')],\n",
       " [Text(0.5813157986397163, 0.14856628908291714, '8.0'),\n",
       "  Text(-0.5813158055946055, -0.14856626186956048, '92.0')])"
      ]
     },
     "execution_count": 101,
     "metadata": {},
     "output_type": "execute_result"
    },
    {
     "data": {
      "image/png": "[encoded data removed]",
      "text/plain": [
       "<Figure size 432x288 with 1 Axes>"
      ]
     },
     "metadata": {},
     "output_type": "display_data"
    }
   ],
   "source": [
    "plt.pie(nums, labels = gender, autopct= \"%.1f\")"
   ]
  },
  {
   "cell_type": "code",
   "execution_count": 102,
   "id": "9077d69e",
   "metadata": {},
   "outputs": [
    {
     "data": {
      "text/plain": [
       "([<matplotlib.patches.Wedge at 0x7fa02703a190>,\n",
       "  <matplotlib.patches.Wedge at 0x7fa02703aa10>],\n",
       " [Text(1.0166960891307861, 0.4199155419202355, 'F'),\n",
       "  Text(-1.0166960989596183, -0.4199155181227458, 'M')],\n",
       " [Text(0.5545615031622468, 0.22904484104740117, '12.5'),\n",
       "  Text(-0.5545615085234281, -0.2290448280669522, '87.5')])"
      ]
     },
     "execution_count": 102,
     "metadata": {},
     "output_type": "execute_result"
    },
    {
     "data": {
      "image/png": "[encoded data removed]",
      "text/plain": [
       "<Figure size 432x288 with 1 Axes>"
      ]
     },
     "metadata": {},
     "output_type": "display_data"
    }
   ],
   "source": [
    "plt.pie(list(pro_sums['IPFPoints']), labels = gender, autopct= \"%.1f\")"
   ]
  },
  {
   "cell_type": "code",
   "execution_count": 105,
   "id": "a57c0f4e",
   "metadata": {},
   "outputs": [
    {
     "data": {
      "text/plain": [
       "Index(['Name', 'Sex', 'Event', 'Equipment', 'Age', 'AgeClass', 'Division',\n",
       "       'BodyweightKg', 'WeightClassKg', 'Squat1Kg', 'Squat2Kg', 'Squat3Kg',\n",
       "       'Squat4Kg', 'Best3SquatKg', 'Bench1Kg', 'Bench2Kg', 'Bench3Kg',\n",
       "       'Bench4Kg', 'Best3BenchKg', 'Deadlift1Kg', 'Deadlift2Kg', 'Deadlift3Kg',\n",
       "       'Deadlift4Kg', 'Best3DeadliftKg', 'TotalKg', 'Place', 'Wilks',\n",
       "       'McCulloch', 'Glossbrenner', 'IPFPoints', 'Tested', 'Country',\n",
       "       'Federation', 'Date', 'MeetCountry', 'MeetState', 'MeetName'],\n",
       "      dtype='object')"
      ]
     },
     "execution_count": 105,
     "metadata": {},
     "output_type": "execute_result"
    }
   ],
   "source": [
    "pro_lifting_df.columns"
   ]
  },
  {
   "cell_type": "code",
   "execution_count": 108,
   "id": "8874556f",
   "metadata": {},
   "outputs": [
    {
     "data": {
      "text/plain": [
       "Name                object\n",
       "Sex                 object\n",
       "Event               object\n",
       "Equipment           object\n",
       "Age                float64\n",
       "AgeClass            object\n",
       "Division            object\n",
       "BodyweightKg       float64\n",
       "WeightClassKg       object\n",
       "Squat1Kg           float64\n",
       "Squat2Kg           float64\n",
       "Squat3Kg           float64\n",
       "Squat4Kg           float64\n",
       "Best3SquatKg       float64\n",
       "Bench1Kg           float64\n",
       "Bench2Kg           float64\n",
       "Bench3Kg           float64\n",
       "Bench4Kg           float64\n",
       "Best3BenchKg       float64\n",
       "Deadlift1Kg        float64\n",
       "Deadlift2Kg        float64\n",
       "Deadlift3Kg        float64\n",
       "Deadlift4Kg        float64\n",
       "Best3DeadliftKg    float64\n",
       "TotalKg            float64\n",
       "Place               object\n",
       "Wilks              float64\n",
       "McCulloch          float64\n",
       "Glossbrenner       float64\n",
       "IPFPoints          float64\n",
       "Tested              object\n",
       "Country             object\n",
       "Federation          object\n",
       "Date                object\n",
       "MeetCountry         object\n",
       "MeetState           object\n",
       "MeetName            object\n",
       "dtype: object"
      ]
     },
     "execution_count": 108,
     "metadata": {},
     "output_type": "execute_result"
    }
   ],
   "source": [
    "pro_lifting_df.dtypes"
   ]
  },
  {
   "cell_type": "code",
   "execution_count": 129,
   "id": "a50f17ab",
   "metadata": {},
   "outputs": [
    {
     "name": "stderr",
     "output_type": "stream",
     "text": [
      "/Users/johnwhendricks/opt/anaconda3/envs/PythonData/lib/python3.7/site-packages/ipykernel_launcher.py:1: SettingWithCopyWarning: \n",
      "A value is trying to be set on a copy of a slice from a DataFrame.\n",
      "Try using .loc[row_indexer,col_indexer] = value instead\n",
      "\n",
      "See the caveats in the documentation: https://pandas.pydata.org/pandas-docs/stable/user_guide/indexing.html#returning-a-view-versus-a-copy\n",
      "  \"\"\"Entry point for launching an IPython kernel.\n"
     ]
    },
    {
     "data": {
      "text/plain": [
       "44733     2015-02-28\n",
       "44735     2015-02-28\n",
       "44757     2015-02-28\n",
       "44763     2015-02-28\n",
       "44764     2015-02-28\n",
       "             ...    \n",
       "1420092   2018-04-14\n",
       "1420093   2018-04-14\n",
       "1420094   2018-04-14\n",
       "1420117   2016-06-11\n",
       "1420120   2016-06-11\n",
       "Name: Date, Length: 31193, dtype: datetime64[ns]"
      ]
     },
     "execution_count": 129,
     "metadata": {},
     "output_type": "execute_result"
    }
   ],
   "source": [
    "pro_lifting_df[\"Date\"] = pd.to_datetime(pro_lifting_df['Date'], format = '%Y-%m-%d')\n",
    "pro_lifting_df['Date']"
   ]
  },
  {
   "cell_type": "code",
   "execution_count": 130,
   "id": "028c2474",
   "metadata": {},
   "outputs": [
    {
     "data": {
      "text/plain": [
       "Name                       object\n",
       "Sex                        object\n",
       "Event                      object\n",
       "Equipment                  object\n",
       "Age                       float64\n",
       "AgeClass                   object\n",
       "Division                   object\n",
       "BodyweightKg              float64\n",
       "WeightClassKg              object\n",
       "Squat1Kg                  float64\n",
       "Squat2Kg                  float64\n",
       "Squat3Kg                  float64\n",
       "Squat4Kg                  float64\n",
       "Best3SquatKg              float64\n",
       "Bench1Kg                  float64\n",
       "Bench2Kg                  float64\n",
       "Bench3Kg                  float64\n",
       "Bench4Kg                  float64\n",
       "Best3BenchKg              float64\n",
       "Deadlift1Kg               float64\n",
       "Deadlift2Kg               float64\n",
       "Deadlift3Kg               float64\n",
       "Deadlift4Kg               float64\n",
       "Best3DeadliftKg           float64\n",
       "TotalKg                   float64\n",
       "Place                      object\n",
       "Wilks                     float64\n",
       "McCulloch                 float64\n",
       "Glossbrenner              float64\n",
       "IPFPoints                 float64\n",
       "Tested                     object\n",
       "Country                    object\n",
       "Federation                 object\n",
       "Date               datetime64[ns]\n",
       "MeetCountry                object\n",
       "MeetState                  object\n",
       "MeetName                   object\n",
       "dtype: object"
      ]
     },
     "execution_count": 130,
     "metadata": {},
     "output_type": "execute_result"
    }
   ],
   "source": [
    "pro_lifting_df.dtypes"
   ]
  },
  {
   "cell_type": "code",
   "execution_count": 140,
   "id": "7df9ec87",
   "metadata": {},
   "outputs": [],
   "source": [
    "time_df = pro_lifting_df.sort_values('Date').groupby('Date').mean()"
   ]
  },
  {
   "cell_type": "code",
   "execution_count": 142,
   "id": "d03cc6ad",
   "metadata": {},
   "outputs": [],
   "source": [
    "time = time_df.index"
   ]
  },
  {
   "cell_type": "code",
   "execution_count": 146,
   "id": "e0021b42",
   "metadata": {},
   "outputs": [
    {
     "data": {
      "text/plain": [
       "[<matplotlib.lines.Line2D at 0x7fa027728650>]"
      ]
     },
     "execution_count": 146,
     "metadata": {},
     "output_type": "execute_result"
    },
    {
     "data": {
      "image/png": "[encoded data removed]",
      "text/plain": [
       "<Figure size 432x288 with 1 Axes>"
      ]
     },
     "metadata": {
      "needs_background": "light"
     },
     "output_type": "display_data"
    }
   ],
   "source": [
    "plt.plot(time, time_df['Age'])"
   ]
  },
  {
   "cell_type": "code",
   "execution_count": 147,
   "id": "b4a51ac4",
   "metadata": {},
   "outputs": [
    {
     "data": {
      "text/plain": [
       "[<matplotlib.lines.Line2D at 0x7fa027bde550>]"
      ]
     },
     "execution_count": 147,
     "metadata": {},
     "output_type": "execute_result"
    },
    {
     "data": {
      "image/png": "[encoded data removed]",
      "text/plain": [
       "<Figure size 432x288 with 1 Axes>"
      ]
     },
     "metadata": {
      "needs_background": "light"
     },
     "output_type": "display_data"
    }
   ],
   "source": [
    "plt.plot(time, time_df['TotalKg'])"
   ]
  },
  {
   "cell_type": "code",
   "execution_count": 149,
   "id": "2c624552",
   "metadata": {},
   "outputs": [
    {
     "name": "stderr",
     "output_type": "stream",
     "text": [
      "/Users/johnwhendricks/opt/anaconda3/envs/PythonData/lib/python3.7/site-packages/ipykernel_launcher.py:2: SettingWithCopyWarning: \n",
      "A value is trying to be set on a copy of a slice from a DataFrame.\n",
      "Try using .loc[row_indexer,col_indexer] = value instead\n",
      "\n",
      "See the caveats in the documentation: https://pandas.pydata.org/pandas-docs/stable/user_guide/indexing.html#returning-a-view-versus-a-copy\n",
      "  \n"
     ]
    }
   ],
   "source": [
    "import datetime \n",
    "pro_lifting_df['Year'] = pd.DatetimeIndex(pro_lifting_df['Date']).year"
   ]
  },
  {
   "cell_type": "code",
   "execution_count": 152,
   "id": "bf77a2a3",
   "metadata": {},
   "outputs": [],
   "source": [
    "pro_lifting_df = pro_lifting_df.sort_values('Date')"
   ]
  },
  {
   "cell_type": "code",
   "execution_count": 155,
   "id": "45bdf507",
   "metadata": {},
   "outputs": [
    {
     "data": {
      "text/html": [
       "<div>\n",
       "<style scoped>\n",
       "    .dataframe tbody tr th:only-of-type {\n",
       "        vertical-align: middle;\n",
       "    }\n",
       "\n",
       "    .dataframe tbody tr th {\n",
       "        vertical-align: top;\n",
       "    }\n",
       "\n",
       "    .dataframe thead th {\n",
       "        text-align: right;\n",
       "    }\n",
       "</style>\n",
       "<table border=\"1\" class=\"dataframe\">\n",
       "  <thead>\n",
       "    <tr style=\"text-align: right;\">\n",
       "      <th></th>\n",
       "      <th>Age</th>\n",
       "      <th>BodyweightKg</th>\n",
       "      <th>Squat1Kg</th>\n",
       "      <th>Squat2Kg</th>\n",
       "      <th>Squat3Kg</th>\n",
       "      <th>Squat4Kg</th>\n",
       "      <th>Best3SquatKg</th>\n",
       "      <th>Bench1Kg</th>\n",
       "      <th>Bench2Kg</th>\n",
       "      <th>Bench3Kg</th>\n",
       "      <th>...</th>\n",
       "      <th>Deadlift1Kg</th>\n",
       "      <th>Deadlift2Kg</th>\n",
       "      <th>Deadlift3Kg</th>\n",
       "      <th>Deadlift4Kg</th>\n",
       "      <th>Best3DeadliftKg</th>\n",
       "      <th>TotalKg</th>\n",
       "      <th>Wilks</th>\n",
       "      <th>McCulloch</th>\n",
       "      <th>Glossbrenner</th>\n",
       "      <th>IPFPoints</th>\n",
       "    </tr>\n",
       "    <tr>\n",
       "      <th>Year</th>\n",
       "      <th></th>\n",
       "      <th></th>\n",
       "      <th></th>\n",
       "      <th></th>\n",
       "      <th></th>\n",
       "      <th></th>\n",
       "      <th></th>\n",
       "      <th></th>\n",
       "      <th></th>\n",
       "      <th></th>\n",
       "      <th></th>\n",
       "      <th></th>\n",
       "      <th></th>\n",
       "      <th></th>\n",
       "      <th></th>\n",
       "      <th></th>\n",
       "      <th></th>\n",
       "      <th></th>\n",
       "      <th></th>\n",
       "      <th></th>\n",
       "      <th></th>\n",
       "    </tr>\n",
       "  </thead>\n",
       "  <tbody>\n",
       "    <tr>\n",
       "      <th>1994</th>\n",
       "      <td>32.500000</td>\n",
       "      <td>98.600000</td>\n",
       "      <td>NaN</td>\n",
       "      <td>NaN</td>\n",
       "      <td>NaN</td>\n",
       "      <td>NaN</td>\n",
       "      <td>NaN</td>\n",
       "      <td>NaN</td>\n",
       "      <td>NaN</td>\n",
       "      <td>NaN</td>\n",
       "      <td>...</td>\n",
       "      <td>NaN</td>\n",
       "      <td>NaN</td>\n",
       "      <td>NaN</td>\n",
       "      <td>NaN</td>\n",
       "      <td>NaN</td>\n",
       "      <td>246.944444</td>\n",
       "      <td>159.458750</td>\n",
       "      <td>159.908750</td>\n",
       "      <td>149.853750</td>\n",
       "      <td>682.271250</td>\n",
       "    </tr>\n",
       "    <tr>\n",
       "      <th>1995</th>\n",
       "      <td>38.500000</td>\n",
       "      <td>104.815089</td>\n",
       "      <td>419.570000</td>\n",
       "      <td>467.650000</td>\n",
       "      <td>-498.950000</td>\n",
       "      <td>430.910000</td>\n",
       "      <td>302.409157</td>\n",
       "      <td>342.460000</td>\n",
       "      <td>349.270000</td>\n",
       "      <td>-362.870000</td>\n",
       "      <td>...</td>\n",
       "      <td>331.120000</td>\n",
       "      <td>NaN</td>\n",
       "      <td>NaN</td>\n",
       "      <td>NaN</td>\n",
       "      <td>269.400506</td>\n",
       "      <td>590.456106</td>\n",
       "      <td>378.470093</td>\n",
       "      <td>381.147850</td>\n",
       "      <td>359.215888</td>\n",
       "      <td>566.354206</td>\n",
       "    </tr>\n",
       "    <tr>\n",
       "      <th>1996</th>\n",
       "      <td>37.461538</td>\n",
       "      <td>96.612245</td>\n",
       "      <td>NaN</td>\n",
       "      <td>NaN</td>\n",
       "      <td>NaN</td>\n",
       "      <td>NaN</td>\n",
       "      <td>272.156047</td>\n",
       "      <td>NaN</td>\n",
       "      <td>NaN</td>\n",
       "      <td>NaN</td>\n",
       "      <td>...</td>\n",
       "      <td>NaN</td>\n",
       "      <td>NaN</td>\n",
       "      <td>NaN</td>\n",
       "      <td>NaN</td>\n",
       "      <td>255.200476</td>\n",
       "      <td>661.471556</td>\n",
       "      <td>442.310698</td>\n",
       "      <td>444.300930</td>\n",
       "      <td>415.380465</td>\n",
       "      <td>564.286744</td>\n",
       "    </tr>\n",
       "    <tr>\n",
       "      <th>1997</th>\n",
       "      <td>46.447368</td>\n",
       "      <td>101.854630</td>\n",
       "      <td>NaN</td>\n",
       "      <td>NaN</td>\n",
       "      <td>NaN</td>\n",
       "      <td>272.157500</td>\n",
       "      <td>296.179259</td>\n",
       "      <td>NaN</td>\n",
       "      <td>NaN</td>\n",
       "      <td>NaN</td>\n",
       "      <td>...</td>\n",
       "      <td>NaN</td>\n",
       "      <td>NaN</td>\n",
       "      <td>NaN</td>\n",
       "      <td>NaN</td>\n",
       "      <td>267.872778</td>\n",
       "      <td>704.722034</td>\n",
       "      <td>443.359074</td>\n",
       "      <td>467.626852</td>\n",
       "      <td>421.235926</td>\n",
       "      <td>572.005185</td>\n",
       "    </tr>\n",
       "    <tr>\n",
       "      <th>1998</th>\n",
       "      <td>34.529412</td>\n",
       "      <td>104.519255</td>\n",
       "      <td>NaN</td>\n",
       "      <td>NaN</td>\n",
       "      <td>NaN</td>\n",
       "      <td>278.075000</td>\n",
       "      <td>310.072708</td>\n",
       "      <td>NaN</td>\n",
       "      <td>NaN</td>\n",
       "      <td>NaN</td>\n",
       "      <td>...</td>\n",
       "      <td>NaN</td>\n",
       "      <td>NaN</td>\n",
       "      <td>NaN</td>\n",
       "      <td>294.080000</td>\n",
       "      <td>276.951771</td>\n",
       "      <td>748.850686</td>\n",
       "      <td>462.305484</td>\n",
       "      <td>466.027419</td>\n",
       "      <td>439.497849</td>\n",
       "      <td>579.818387</td>\n",
       "    </tr>\n",
       "    <tr>\n",
       "      <th>1999</th>\n",
       "      <td>39.379310</td>\n",
       "      <td>107.637681</td>\n",
       "      <td>184.292353</td>\n",
       "      <td>139.013235</td>\n",
       "      <td>14.632258</td>\n",
       "      <td>NaN</td>\n",
       "      <td>314.880147</td>\n",
       "      <td>176.755806</td>\n",
       "      <td>81.427419</td>\n",
       "      <td>-1.663000</td>\n",
       "      <td>...</td>\n",
       "      <td>287.006129</td>\n",
       "      <td>148.953871</td>\n",
       "      <td>-101.397083</td>\n",
       "      <td>NaN</td>\n",
       "      <td>284.138955</td>\n",
       "      <td>775.454861</td>\n",
       "      <td>471.155909</td>\n",
       "      <td>481.799848</td>\n",
       "      <td>448.768636</td>\n",
       "      <td>592.053485</td>\n",
       "    </tr>\n",
       "    <tr>\n",
       "      <th>2001</th>\n",
       "      <td>34.381579</td>\n",
       "      <td>106.010101</td>\n",
       "      <td>137.979462</td>\n",
       "      <td>60.297391</td>\n",
       "      <td>-59.450787</td>\n",
       "      <td>NaN</td>\n",
       "      <td>320.746552</td>\n",
       "      <td>116.702952</td>\n",
       "      <td>77.949700</td>\n",
       "      <td>-31.064646</td>\n",
       "      <td>...</td>\n",
       "      <td>209.140430</td>\n",
       "      <td>104.244881</td>\n",
       "      <td>-117.844605</td>\n",
       "      <td>NaN</td>\n",
       "      <td>286.491667</td>\n",
       "      <td>757.791828</td>\n",
       "      <td>449.676190</td>\n",
       "      <td>454.565357</td>\n",
       "      <td>430.471667</td>\n",
       "      <td>584.584524</td>\n",
       "    </tr>\n",
       "    <tr>\n",
       "      <th>2003</th>\n",
       "      <td>36.367347</td>\n",
       "      <td>105.301487</td>\n",
       "      <td>195.178033</td>\n",
       "      <td>78.588780</td>\n",
       "      <td>-51.844298</td>\n",
       "      <td>-369.905000</td>\n",
       "      <td>325.047257</td>\n",
       "      <td>95.177671</td>\n",
       "      <td>44.462086</td>\n",
       "      <td>-46.407652</td>\n",
       "      <td>...</td>\n",
       "      <td>181.113445</td>\n",
       "      <td>76.136168</td>\n",
       "      <td>-67.081000</td>\n",
       "      <td>NaN</td>\n",
       "      <td>277.425153</td>\n",
       "      <td>717.970295</td>\n",
       "      <td>444.334640</td>\n",
       "      <td>451.059320</td>\n",
       "      <td>423.764400</td>\n",
       "      <td>596.373840</td>\n",
       "    </tr>\n",
       "    <tr>\n",
       "      <th>2004</th>\n",
       "      <td>32.113636</td>\n",
       "      <td>106.626813</td>\n",
       "      <td>126.789048</td>\n",
       "      <td>-12.690000</td>\n",
       "      <td>89.186750</td>\n",
       "      <td>NaN</td>\n",
       "      <td>339.378462</td>\n",
       "      <td>117.524861</td>\n",
       "      <td>-24.397286</td>\n",
       "      <td>-87.229692</td>\n",
       "      <td>...</td>\n",
       "      <td>201.895600</td>\n",
       "      <td>127.098571</td>\n",
       "      <td>-101.368261</td>\n",
       "      <td>NaN</td>\n",
       "      <td>275.025918</td>\n",
       "      <td>506.430405</td>\n",
       "      <td>299.202329</td>\n",
       "      <td>299.514658</td>\n",
       "      <td>286.821781</td>\n",
       "      <td>575.344247</td>\n",
       "    </tr>\n",
       "    <tr>\n",
       "      <th>2005</th>\n",
       "      <td>34.402778</td>\n",
       "      <td>99.348974</td>\n",
       "      <td>112.334286</td>\n",
       "      <td>15.273673</td>\n",
       "      <td>-10.600000</td>\n",
       "      <td>NaN</td>\n",
       "      <td>315.187436</td>\n",
       "      <td>85.821932</td>\n",
       "      <td>25.856977</td>\n",
       "      <td>-38.555833</td>\n",
       "      <td>...</td>\n",
       "      <td>170.413194</td>\n",
       "      <td>91.835077</td>\n",
       "      <td>-43.617857</td>\n",
       "      <td>-151.950000</td>\n",
       "      <td>254.013125</td>\n",
       "      <td>432.548462</td>\n",
       "      <td>274.352718</td>\n",
       "      <td>278.364369</td>\n",
       "      <td>262.220485</td>\n",
       "      <td>562.761068</td>\n",
       "    </tr>\n",
       "    <tr>\n",
       "      <th>2006</th>\n",
       "      <td>30.753247</td>\n",
       "      <td>98.848789</td>\n",
       "      <td>129.889167</td>\n",
       "      <td>-7.796458</td>\n",
       "      <td>-14.792174</td>\n",
       "      <td>165.560000</td>\n",
       "      <td>270.405678</td>\n",
       "      <td>74.339074</td>\n",
       "      <td>-41.712353</td>\n",
       "      <td>-7.636735</td>\n",
       "      <td>...</td>\n",
       "      <td>119.697556</td>\n",
       "      <td>43.035854</td>\n",
       "      <td>-45.611111</td>\n",
       "      <td>NaN</td>\n",
       "      <td>231.389417</td>\n",
       "      <td>522.274335</td>\n",
       "      <td>327.901294</td>\n",
       "      <td>336.325412</td>\n",
       "      <td>312.590471</td>\n",
       "      <td>541.538935</td>\n",
       "    </tr>\n",
       "    <tr>\n",
       "      <th>2007</th>\n",
       "      <td>34.994048</td>\n",
       "      <td>103.803571</td>\n",
       "      <td>293.926667</td>\n",
       "      <td>106.896000</td>\n",
       "      <td>-90.264000</td>\n",
       "      <td>328.850000</td>\n",
       "      <td>344.196349</td>\n",
       "      <td>118.650000</td>\n",
       "      <td>-27.335263</td>\n",
       "      <td>57.498824</td>\n",
       "      <td>...</td>\n",
       "      <td>186.276667</td>\n",
       "      <td>149.384000</td>\n",
       "      <td>110.562500</td>\n",
       "      <td>231.330000</td>\n",
       "      <td>275.061707</td>\n",
       "      <td>713.360654</td>\n",
       "      <td>445.770479</td>\n",
       "      <td>451.419178</td>\n",
       "      <td>425.173425</td>\n",
       "      <td>626.622055</td>\n",
       "    </tr>\n",
       "    <tr>\n",
       "      <th>2008</th>\n",
       "      <td>33.125806</td>\n",
       "      <td>104.643627</td>\n",
       "      <td>-95.296875</td>\n",
       "      <td>-0.708125</td>\n",
       "      <td>-46.341667</td>\n",
       "      <td>345.450000</td>\n",
       "      <td>355.014968</td>\n",
       "      <td>93.978125</td>\n",
       "      <td>61.845385</td>\n",
       "      <td>11.601538</td>\n",
       "      <td>...</td>\n",
       "      <td>228.732308</td>\n",
       "      <td>210.558400</td>\n",
       "      <td>-21.792609</td>\n",
       "      <td>NaN</td>\n",
       "      <td>288.966813</td>\n",
       "      <td>776.854815</td>\n",
       "      <td>492.593443</td>\n",
       "      <td>499.813169</td>\n",
       "      <td>468.016667</td>\n",
       "      <td>668.779176</td>\n",
       "    </tr>\n",
       "    <tr>\n",
       "      <th>2009</th>\n",
       "      <td>34.163265</td>\n",
       "      <td>104.254318</td>\n",
       "      <td>129.813000</td>\n",
       "      <td>8.593000</td>\n",
       "      <td>-99.729111</td>\n",
       "      <td>NaN</td>\n",
       "      <td>321.383645</td>\n",
       "      <td>99.711800</td>\n",
       "      <td>19.286200</td>\n",
       "      <td>-103.719149</td>\n",
       "      <td>...</td>\n",
       "      <td>219.746857</td>\n",
       "      <td>126.050571</td>\n",
       "      <td>-118.675484</td>\n",
       "      <td>258.550000</td>\n",
       "      <td>275.863805</td>\n",
       "      <td>603.158896</td>\n",
       "      <td>372.810435</td>\n",
       "      <td>383.087267</td>\n",
       "      <td>355.827888</td>\n",
       "      <td>647.019542</td>\n",
       "    </tr>\n",
       "    <tr>\n",
       "      <th>2010</th>\n",
       "      <td>33.355392</td>\n",
       "      <td>101.816084</td>\n",
       "      <td>292.325600</td>\n",
       "      <td>262.713810</td>\n",
       "      <td>193.643889</td>\n",
       "      <td>NaN</td>\n",
       "      <td>314.675775</td>\n",
       "      <td>142.053273</td>\n",
       "      <td>98.527091</td>\n",
       "      <td>-0.644231</td>\n",
       "      <td>...</td>\n",
       "      <td>261.176923</td>\n",
       "      <td>228.617407</td>\n",
       "      <td>73.176875</td>\n",
       "      <td>214.325000</td>\n",
       "      <td>274.552000</td>\n",
       "      <td>550.790373</td>\n",
       "      <td>344.666174</td>\n",
       "      <td>354.752219</td>\n",
       "      <td>328.685080</td>\n",
       "      <td>653.427082</td>\n",
       "    </tr>\n",
       "    <tr>\n",
       "      <th>2011</th>\n",
       "      <td>29.046409</td>\n",
       "      <td>88.741882</td>\n",
       "      <td>125.511811</td>\n",
       "      <td>88.060000</td>\n",
       "      <td>22.590090</td>\n",
       "      <td>77.694167</td>\n",
       "      <td>274.082136</td>\n",
       "      <td>81.101715</td>\n",
       "      <td>48.092742</td>\n",
       "      <td>-25.108575</td>\n",
       "      <td>...</td>\n",
       "      <td>149.675000</td>\n",
       "      <td>132.785088</td>\n",
       "      <td>31.353211</td>\n",
       "      <td>5.173750</td>\n",
       "      <td>247.876776</td>\n",
       "      <td>315.324894</td>\n",
       "      <td>204.621720</td>\n",
       "      <td>210.853684</td>\n",
       "      <td>195.405605</td>\n",
       "      <td>557.158175</td>\n",
       "    </tr>\n",
       "    <tr>\n",
       "      <th>2012</th>\n",
       "      <td>31.422807</td>\n",
       "      <td>93.632058</td>\n",
       "      <td>109.337321</td>\n",
       "      <td>83.281553</td>\n",
       "      <td>56.150510</td>\n",
       "      <td>213.866000</td>\n",
       "      <td>268.736837</td>\n",
       "      <td>91.572687</td>\n",
       "      <td>59.454190</td>\n",
       "      <td>-31.220000</td>\n",
       "      <td>...</td>\n",
       "      <td>187.534722</td>\n",
       "      <td>133.692857</td>\n",
       "      <td>24.013228</td>\n",
       "      <td>223.295000</td>\n",
       "      <td>254.864967</td>\n",
       "      <td>404.923432</td>\n",
       "      <td>260.115289</td>\n",
       "      <td>267.573328</td>\n",
       "      <td>248.057243</td>\n",
       "      <td>597.636537</td>\n",
       "    </tr>\n",
       "    <tr>\n",
       "      <th>2013</th>\n",
       "      <td>31.846677</td>\n",
       "      <td>93.391849</td>\n",
       "      <td>109.093750</td>\n",
       "      <td>90.349576</td>\n",
       "      <td>35.184932</td>\n",
       "      <td>194.195000</td>\n",
       "      <td>249.649898</td>\n",
       "      <td>97.071232</td>\n",
       "      <td>61.073326</td>\n",
       "      <td>-27.772341</td>\n",
       "      <td>...</td>\n",
       "      <td>171.699219</td>\n",
       "      <td>125.474599</td>\n",
       "      <td>-9.280967</td>\n",
       "      <td>184.723000</td>\n",
       "      <td>247.694054</td>\n",
       "      <td>350.657701</td>\n",
       "      <td>224.707053</td>\n",
       "      <td>231.237004</td>\n",
       "      <td>214.673220</td>\n",
       "      <td>589.654451</td>\n",
       "    </tr>\n",
       "    <tr>\n",
       "      <th>2014</th>\n",
       "      <td>32.870047</td>\n",
       "      <td>95.181313</td>\n",
       "      <td>70.974026</td>\n",
       "      <td>60.443694</td>\n",
       "      <td>34.649289</td>\n",
       "      <td>134.477857</td>\n",
       "      <td>242.671282</td>\n",
       "      <td>87.146020</td>\n",
       "      <td>47.157054</td>\n",
       "      <td>-31.565967</td>\n",
       "      <td>...</td>\n",
       "      <td>163.595855</td>\n",
       "      <td>145.563172</td>\n",
       "      <td>32.491254</td>\n",
       "      <td>15.454118</td>\n",
       "      <td>244.454127</td>\n",
       "      <td>402.972482</td>\n",
       "      <td>259.737900</td>\n",
       "      <td>266.353677</td>\n",
       "      <td>247.202390</td>\n",
       "      <td>592.958609</td>\n",
       "    </tr>\n",
       "    <tr>\n",
       "      <th>2015</th>\n",
       "      <td>33.135894</td>\n",
       "      <td>96.821344</td>\n",
       "      <td>95.554878</td>\n",
       "      <td>101.221945</td>\n",
       "      <td>5.553806</td>\n",
       "      <td>-128.824667</td>\n",
       "      <td>246.851500</td>\n",
       "      <td>103.368505</td>\n",
       "      <td>61.785131</td>\n",
       "      <td>-22.008898</td>\n",
       "      <td>...</td>\n",
       "      <td>168.841555</td>\n",
       "      <td>139.641176</td>\n",
       "      <td>-19.140133</td>\n",
       "      <td>-92.187581</td>\n",
       "      <td>248.840751</td>\n",
       "      <td>433.777481</td>\n",
       "      <td>281.152273</td>\n",
       "      <td>287.925131</td>\n",
       "      <td>267.181872</td>\n",
       "      <td>615.943482</td>\n",
       "    </tr>\n",
       "    <tr>\n",
       "      <th>2016</th>\n",
       "      <td>32.260370</td>\n",
       "      <td>93.742001</td>\n",
       "      <td>99.143750</td>\n",
       "      <td>65.413075</td>\n",
       "      <td>26.653790</td>\n",
       "      <td>-61.877083</td>\n",
       "      <td>242.403197</td>\n",
       "      <td>98.045896</td>\n",
       "      <td>50.271814</td>\n",
       "      <td>-23.361672</td>\n",
       "      <td>...</td>\n",
       "      <td>168.356152</td>\n",
       "      <td>116.036093</td>\n",
       "      <td>-4.423604</td>\n",
       "      <td>-44.458857</td>\n",
       "      <td>240.322880</td>\n",
       "      <td>418.240894</td>\n",
       "      <td>276.836636</td>\n",
       "      <td>282.861568</td>\n",
       "      <td>262.146550</td>\n",
       "      <td>601.972105</td>\n",
       "    </tr>\n",
       "    <tr>\n",
       "      <th>2017</th>\n",
       "      <td>32.317213</td>\n",
       "      <td>91.213111</td>\n",
       "      <td>97.310532</td>\n",
       "      <td>82.088212</td>\n",
       "      <td>16.881635</td>\n",
       "      <td>76.882609</td>\n",
       "      <td>225.192658</td>\n",
       "      <td>94.342305</td>\n",
       "      <td>62.103711</td>\n",
       "      <td>-21.088396</td>\n",
       "      <td>...</td>\n",
       "      <td>145.652767</td>\n",
       "      <td>119.853793</td>\n",
       "      <td>5.523468</td>\n",
       "      <td>-96.010253</td>\n",
       "      <td>228.225538</td>\n",
       "      <td>335.529739</td>\n",
       "      <td>222.999325</td>\n",
       "      <td>230.170016</td>\n",
       "      <td>211.833986</td>\n",
       "      <td>578.192155</td>\n",
       "    </tr>\n",
       "    <tr>\n",
       "      <th>2018</th>\n",
       "      <td>31.913500</td>\n",
       "      <td>93.230378</td>\n",
       "      <td>89.552640</td>\n",
       "      <td>88.791015</td>\n",
       "      <td>14.728929</td>\n",
       "      <td>123.023000</td>\n",
       "      <td>239.192798</td>\n",
       "      <td>94.912757</td>\n",
       "      <td>64.613017</td>\n",
       "      <td>-15.766273</td>\n",
       "      <td>...</td>\n",
       "      <td>159.967463</td>\n",
       "      <td>123.391200</td>\n",
       "      <td>-1.852211</td>\n",
       "      <td>-99.349067</td>\n",
       "      <td>238.177262</td>\n",
       "      <td>372.176594</td>\n",
       "      <td>246.428565</td>\n",
       "      <td>251.629526</td>\n",
       "      <td>233.514909</td>\n",
       "      <td>596.242758</td>\n",
       "    </tr>\n",
       "    <tr>\n",
       "      <th>2019</th>\n",
       "      <td>34.527070</td>\n",
       "      <td>102.550673</td>\n",
       "      <td>103.907794</td>\n",
       "      <td>100.645075</td>\n",
       "      <td>78.670317</td>\n",
       "      <td>-130.000000</td>\n",
       "      <td>268.387467</td>\n",
       "      <td>133.887984</td>\n",
       "      <td>81.475581</td>\n",
       "      <td>-20.829194</td>\n",
       "      <td>...</td>\n",
       "      <td>169.981687</td>\n",
       "      <td>164.340488</td>\n",
       "      <td>-51.420526</td>\n",
       "      <td>92.500000</td>\n",
       "      <td>258.347464</td>\n",
       "      <td>561.992110</td>\n",
       "      <td>361.027681</td>\n",
       "      <td>366.766464</td>\n",
       "      <td>341.222966</td>\n",
       "      <td>635.904396</td>\n",
       "    </tr>\n",
       "  </tbody>\n",
       "</table>\n",
       "<p>24 rows × 22 columns</p>\n",
       "</div>"
      ],
      "text/plain": [
       "            Age  BodyweightKg    Squat1Kg    Squat2Kg    Squat3Kg    Squat4Kg  \\\n",
       "Year                                                                            \n",
       "1994  32.500000     98.600000         NaN         NaN         NaN         NaN   \n",
       "1995  38.500000    104.815089  419.570000  467.650000 -498.950000  430.910000   \n",
       "1996  37.461538     96.612245         NaN         NaN         NaN         NaN   \n",
       "1997  46.447368    101.854630         NaN         NaN         NaN  272.157500   \n",
       "1998  34.529412    104.519255         NaN         NaN         NaN  278.075000   \n",
       "1999  39.379310    107.637681  184.292353  139.013235   14.632258         NaN   \n",
       "2001  34.381579    106.010101  137.979462   60.297391  -59.450787         NaN   \n",
       "2003  36.367347    105.301487  195.178033   78.588780  -51.844298 -369.905000   \n",
       "2004  32.113636    106.626813  126.789048  -12.690000   89.186750         NaN   \n",
       "2005  34.402778     99.348974  112.334286   15.273673  -10.600000         NaN   \n",
       "2006  30.753247     98.848789  129.889167   -7.796458  -14.792174  165.560000   \n",
       "2007  34.994048    103.803571  293.926667  106.896000  -90.264000  328.850000   \n",
       "2008  33.125806    104.643627  -95.296875   -0.708125  -46.341667  345.450000   \n",
       "2009  34.163265    104.254318  129.813000    8.593000  -99.729111         NaN   \n",
       "2010  33.355392    101.816084  292.325600  262.713810  193.643889         NaN   \n",
       "2011  29.046409     88.741882  125.511811   88.060000   22.590090   77.694167   \n",
       "2012  31.422807     93.632058  109.337321   83.281553   56.150510  213.866000   \n",
       "2013  31.846677     93.391849  109.093750   90.349576   35.184932  194.195000   \n",
       "2014  32.870047     95.181313   70.974026   60.443694   34.649289  134.477857   \n",
       "2015  33.135894     96.821344   95.554878  101.221945    5.553806 -128.824667   \n",
       "2016  32.260370     93.742001   99.143750   65.413075   26.653790  -61.877083   \n",
       "2017  32.317213     91.213111   97.310532   82.088212   16.881635   76.882609   \n",
       "2018  31.913500     93.230378   89.552640   88.791015   14.728929  123.023000   \n",
       "2019  34.527070    102.550673  103.907794  100.645075   78.670317 -130.000000   \n",
       "\n",
       "      Best3SquatKg    Bench1Kg    Bench2Kg    Bench3Kg  ...  Deadlift1Kg  \\\n",
       "Year                                                    ...                \n",
       "1994           NaN         NaN         NaN         NaN  ...          NaN   \n",
       "1995    302.409157  342.460000  349.270000 -362.870000  ...   331.120000   \n",
       "1996    272.156047         NaN         NaN         NaN  ...          NaN   \n",
       "1997    296.179259         NaN         NaN         NaN  ...          NaN   \n",
       "1998    310.072708         NaN         NaN         NaN  ...          NaN   \n",
       "1999    314.880147  176.755806   81.427419   -1.663000  ...   287.006129   \n",
       "2001    320.746552  116.702952   77.949700  -31.064646  ...   209.140430   \n",
       "2003    325.047257   95.177671   44.462086  -46.407652  ...   181.113445   \n",
       "2004    339.378462  117.524861  -24.397286  -87.229692  ...   201.895600   \n",
       "2005    315.187436   85.821932   25.856977  -38.555833  ...   170.413194   \n",
       "2006    270.405678   74.339074  -41.712353   -7.636735  ...   119.697556   \n",
       "2007    344.196349  118.650000  -27.335263   57.498824  ...   186.276667   \n",
       "2008    355.014968   93.978125   61.845385   11.601538  ...   228.732308   \n",
       "2009    321.383645   99.711800   19.286200 -103.719149  ...   219.746857   \n",
       "2010    314.675775  142.053273   98.527091   -0.644231  ...   261.176923   \n",
       "2011    274.082136   81.101715   48.092742  -25.108575  ...   149.675000   \n",
       "2012    268.736837   91.572687   59.454190  -31.220000  ...   187.534722   \n",
       "2013    249.649898   97.071232   61.073326  -27.772341  ...   171.699219   \n",
       "2014    242.671282   87.146020   47.157054  -31.565967  ...   163.595855   \n",
       "2015    246.851500  103.368505   61.785131  -22.008898  ...   168.841555   \n",
       "2016    242.403197   98.045896   50.271814  -23.361672  ...   168.356152   \n",
       "2017    225.192658   94.342305   62.103711  -21.088396  ...   145.652767   \n",
       "2018    239.192798   94.912757   64.613017  -15.766273  ...   159.967463   \n",
       "2019    268.387467  133.887984   81.475581  -20.829194  ...   169.981687   \n",
       "\n",
       "      Deadlift2Kg  Deadlift3Kg  Deadlift4Kg  Best3DeadliftKg     TotalKg  \\\n",
       "Year                                                                       \n",
       "1994          NaN          NaN          NaN              NaN  246.944444   \n",
       "1995          NaN          NaN          NaN       269.400506  590.456106   \n",
       "1996          NaN          NaN          NaN       255.200476  661.471556   \n",
       "1997          NaN          NaN          NaN       267.872778  704.722034   \n",
       "1998          NaN          NaN   294.080000       276.951771  748.850686   \n",
       "1999   148.953871  -101.397083          NaN       284.138955  775.454861   \n",
       "2001   104.244881  -117.844605          NaN       286.491667  757.791828   \n",
       "2003    76.136168   -67.081000          NaN       277.425153  717.970295   \n",
       "2004   127.098571  -101.368261          NaN       275.025918  506.430405   \n",
       "2005    91.835077   -43.617857  -151.950000       254.013125  432.548462   \n",
       "2006    43.035854   -45.611111          NaN       231.389417  522.274335   \n",
       "2007   149.384000   110.562500   231.330000       275.061707  713.360654   \n",
       "2008   210.558400   -21.792609          NaN       288.966813  776.854815   \n",
       "2009   126.050571  -118.675484   258.550000       275.863805  603.158896   \n",
       "2010   228.617407    73.176875   214.325000       274.552000  550.790373   \n",
       "2011   132.785088    31.353211     5.173750       247.876776  315.324894   \n",
       "2012   133.692857    24.013228   223.295000       254.864967  404.923432   \n",
       "2013   125.474599    -9.280967   184.723000       247.694054  350.657701   \n",
       "2014   145.563172    32.491254    15.454118       244.454127  402.972482   \n",
       "2015   139.641176   -19.140133   -92.187581       248.840751  433.777481   \n",
       "2016   116.036093    -4.423604   -44.458857       240.322880  418.240894   \n",
       "2017   119.853793     5.523468   -96.010253       228.225538  335.529739   \n",
       "2018   123.391200    -1.852211   -99.349067       238.177262  372.176594   \n",
       "2019   164.340488   -51.420526    92.500000       258.347464  561.992110   \n",
       "\n",
       "           Wilks   McCulloch  Glossbrenner   IPFPoints  \n",
       "Year                                                    \n",
       "1994  159.458750  159.908750    149.853750  682.271250  \n",
       "1995  378.470093  381.147850    359.215888  566.354206  \n",
       "1996  442.310698  444.300930    415.380465  564.286744  \n",
       "1997  443.359074  467.626852    421.235926  572.005185  \n",
       "1998  462.305484  466.027419    439.497849  579.818387  \n",
       "1999  471.155909  481.799848    448.768636  592.053485  \n",
       "2001  449.676190  454.565357    430.471667  584.584524  \n",
       "2003  444.334640  451.059320    423.764400  596.373840  \n",
       "2004  299.202329  299.514658    286.821781  575.344247  \n",
       "2005  274.352718  278.364369    262.220485  562.761068  \n",
       "2006  327.901294  336.325412    312.590471  541.538935  \n",
       "2007  445.770479  451.419178    425.173425  626.622055  \n",
       "2008  492.593443  499.813169    468.016667  668.779176  \n",
       "2009  372.810435  383.087267    355.827888  647.019542  \n",
       "2010  344.666174  354.752219    328.685080  653.427082  \n",
       "2011  204.621720  210.853684    195.405605  557.158175  \n",
       "2012  260.115289  267.573328    248.057243  597.636537  \n",
       "2013  224.707053  231.237004    214.673220  589.654451  \n",
       "2014  259.737900  266.353677    247.202390  592.958609  \n",
       "2015  281.152273  287.925131    267.181872  615.943482  \n",
       "2016  276.836636  282.861568    262.146550  601.972105  \n",
       "2017  222.999325  230.170016    211.833986  578.192155  \n",
       "2018  246.428565  251.629526    233.514909  596.242758  \n",
       "2019  361.027681  366.766464    341.222966  635.904396  \n",
       "\n",
       "[24 rows x 22 columns]"
      ]
     },
     "execution_count": 155,
     "metadata": {},
     "output_type": "execute_result"
    }
   ],
   "source": []
  },
  {
   "cell_type": "code",
   "execution_count": 157,
   "id": "389cd3ed",
   "metadata": {},
   "outputs": [
    {
     "data": {
      "text/plain": [
       "[<matplotlib.lines.Line2D at 0x7fa02c125b50>]"
      ]
     },
     "execution_count": 157,
     "metadata": {},
     "output_type": "execute_result"
    },
    {
     "data": {
      "image/png": "[encoded data removed]",
      "text/plain": [
       "<Figure size 432x288 with 1 Axes>"
      ]
     },
     "metadata": {
      "needs_background": "light"
     },
     "output_type": "display_data"
    }
   ],
   "source": [
    "plt.plot(pro_lifting_df.groupby('Year').mean().index, pro_lifting_df.groupby('Year').mean()['TotalKg'])"
   ]
  },
  {
   "cell_type": "code",
   "execution_count": 158,
   "id": "1e5c8ba8",
   "metadata": {},
   "outputs": [
    {
     "data": {
      "text/plain": [
       "[<matplotlib.lines.Line2D at 0x7fa027d3e550>]"
      ]
     },
     "execution_count": 158,
     "metadata": {},
     "output_type": "execute_result"
    },
    {
     "data": {
      "image/png": "[encoded data removed]",
      "text/plain": [
       "<Figure size 432x288 with 1 Axes>"
      ]
     },
     "metadata": {
      "needs_background": "light"
     },
     "output_type": "display_data"
    }
   ],
   "source": [
    "plt.plot(pro_lifting_df.groupby('Year').mean().index, pro_lifting_df.groupby('Year').mean()['BodyweightKg'])"
   ]
  },
  {
   "cell_type": "code",
   "execution_count": 163,
   "id": "9e852d96",
   "metadata": {},
   "outputs": [],
   "source": [
    "elite_df = pro_lifting_df[pro_lifting_df['Division'] == 'Elite Pro Open']"
   ]
  },
  {
   "cell_type": "code",
   "execution_count": 164,
   "id": "0046d278",
   "metadata": {},
   "outputs": [
    {
     "data": {
      "text/html": [
       "<div>\n",
       "<style scoped>\n",
       "    .dataframe tbody tr th:only-of-type {\n",
       "        vertical-align: middle;\n",
       "    }\n",
       "\n",
       "    .dataframe tbody tr th {\n",
       "        vertical-align: top;\n",
       "    }\n",
       "\n",
       "    .dataframe thead th {\n",
       "        text-align: right;\n",
       "    }\n",
       "</style>\n",
       "<table border=\"1\" class=\"dataframe\">\n",
       "  <thead>\n",
       "    <tr style=\"text-align: right;\">\n",
       "      <th></th>\n",
       "      <th>Name</th>\n",
       "      <th>Sex</th>\n",
       "      <th>Event</th>\n",
       "      <th>Equipment</th>\n",
       "      <th>Age</th>\n",
       "      <th>AgeClass</th>\n",
       "      <th>Division</th>\n",
       "      <th>BodyweightKg</th>\n",
       "      <th>WeightClassKg</th>\n",
       "      <th>Squat1Kg</th>\n",
       "      <th>...</th>\n",
       "      <th>Glossbrenner</th>\n",
       "      <th>IPFPoints</th>\n",
       "      <th>Tested</th>\n",
       "      <th>Country</th>\n",
       "      <th>Federation</th>\n",
       "      <th>Date</th>\n",
       "      <th>MeetCountry</th>\n",
       "      <th>MeetState</th>\n",
       "      <th>MeetName</th>\n",
       "      <th>Year</th>\n",
       "    </tr>\n",
       "  </thead>\n",
       "  <tbody>\n",
       "    <tr>\n",
       "      <th>1019868</th>\n",
       "      <td>Ivan Ryabenkov</td>\n",
       "      <td>M</td>\n",
       "      <td>SBD</td>\n",
       "      <td>Wraps</td>\n",
       "      <td>23.0</td>\n",
       "      <td>20-23</td>\n",
       "      <td>Elite Pro Open</td>\n",
       "      <td>144.0</td>\n",
       "      <td>140+</td>\n",
       "      <td>385.0</td>\n",
       "      <td>...</td>\n",
       "      <td>516.07</td>\n",
       "      <td>750.29</td>\n",
       "      <td>NaN</td>\n",
       "      <td>Russia</td>\n",
       "      <td>WPU-RUS</td>\n",
       "      <td>2019-02-23</td>\n",
       "      <td>Russia</td>\n",
       "      <td>NaN</td>\n",
       "      <td>Metropolis Tournament</td>\n",
       "      <td>2019</td>\n",
       "    </tr>\n",
       "    <tr>\n",
       "      <th>1019867</th>\n",
       "      <td>Sergey Odegov</td>\n",
       "      <td>M</td>\n",
       "      <td>SBD</td>\n",
       "      <td>Wraps</td>\n",
       "      <td>42.0</td>\n",
       "      <td>40-44</td>\n",
       "      <td>Elite Pro Open</td>\n",
       "      <td>131.8</td>\n",
       "      <td>140</td>\n",
       "      <td>315.0</td>\n",
       "      <td>...</td>\n",
       "      <td>474.41</td>\n",
       "      <td>700.85</td>\n",
       "      <td>NaN</td>\n",
       "      <td>Russia</td>\n",
       "      <td>WPU-RUS</td>\n",
       "      <td>2019-02-23</td>\n",
       "      <td>Russia</td>\n",
       "      <td>NaN</td>\n",
       "      <td>Metropolis Tournament</td>\n",
       "      <td>2019</td>\n",
       "    </tr>\n",
       "    <tr>\n",
       "      <th>1019866</th>\n",
       "      <td>Aleksandr Lugovoy</td>\n",
       "      <td>M</td>\n",
       "      <td>SBD</td>\n",
       "      <td>Wraps</td>\n",
       "      <td>23.0</td>\n",
       "      <td>20-23</td>\n",
       "      <td>Elite Pro Open</td>\n",
       "      <td>136.0</td>\n",
       "      <td>140</td>\n",
       "      <td>320.0</td>\n",
       "      <td>...</td>\n",
       "      <td>497.87</td>\n",
       "      <td>733.12</td>\n",
       "      <td>NaN</td>\n",
       "      <td>Russia</td>\n",
       "      <td>WPU-RUS</td>\n",
       "      <td>2019-02-23</td>\n",
       "      <td>Russia</td>\n",
       "      <td>NaN</td>\n",
       "      <td>Metropolis Tournament</td>\n",
       "      <td>2019</td>\n",
       "    </tr>\n",
       "    <tr>\n",
       "      <th>1019865</th>\n",
       "      <td>Nizami Tagiev</td>\n",
       "      <td>M</td>\n",
       "      <td>SBD</td>\n",
       "      <td>Wraps</td>\n",
       "      <td>27.0</td>\n",
       "      <td>24-34</td>\n",
       "      <td>Elite Pro Open</td>\n",
       "      <td>114.1</td>\n",
       "      <td>125</td>\n",
       "      <td>290.0</td>\n",
       "      <td>...</td>\n",
       "      <td>501.26</td>\n",
       "      <td>772.48</td>\n",
       "      <td>NaN</td>\n",
       "      <td>Russia</td>\n",
       "      <td>WPU-RUS</td>\n",
       "      <td>2019-02-23</td>\n",
       "      <td>Russia</td>\n",
       "      <td>NaN</td>\n",
       "      <td>Metropolis Tournament</td>\n",
       "      <td>2019</td>\n",
       "    </tr>\n",
       "    <tr>\n",
       "      <th>1019864</th>\n",
       "      <td>Vladimir Marchenko</td>\n",
       "      <td>M</td>\n",
       "      <td>SBD</td>\n",
       "      <td>Wraps</td>\n",
       "      <td>34.0</td>\n",
       "      <td>24-34</td>\n",
       "      <td>Elite Pro Open</td>\n",
       "      <td>124.0</td>\n",
       "      <td>125</td>\n",
       "      <td>340.0</td>\n",
       "      <td>...</td>\n",
       "      <td>507.18</td>\n",
       "      <td>767.53</td>\n",
       "      <td>NaN</td>\n",
       "      <td>Russia</td>\n",
       "      <td>WPU-RUS</td>\n",
       "      <td>2019-02-23</td>\n",
       "      <td>Russia</td>\n",
       "      <td>NaN</td>\n",
       "      <td>Metropolis Tournament</td>\n",
       "      <td>2019</td>\n",
       "    </tr>\n",
       "    <tr>\n",
       "      <th>1019863</th>\n",
       "      <td>Konstantin Morozov</td>\n",
       "      <td>M</td>\n",
       "      <td>SBD</td>\n",
       "      <td>Wraps</td>\n",
       "      <td>34.0</td>\n",
       "      <td>24-34</td>\n",
       "      <td>Elite Pro Open</td>\n",
       "      <td>124.7</td>\n",
       "      <td>125</td>\n",
       "      <td>280.0</td>\n",
       "      <td>...</td>\n",
       "      <td>517.32</td>\n",
       "      <td>783.43</td>\n",
       "      <td>NaN</td>\n",
       "      <td>Russia</td>\n",
       "      <td>WPU-RUS</td>\n",
       "      <td>2019-02-23</td>\n",
       "      <td>Russia</td>\n",
       "      <td>NaN</td>\n",
       "      <td>Metropolis Tournament</td>\n",
       "      <td>2019</td>\n",
       "    </tr>\n",
       "    <tr>\n",
       "      <th>1019862</th>\n",
       "      <td>Sergey Akhlestin</td>\n",
       "      <td>M</td>\n",
       "      <td>SBD</td>\n",
       "      <td>Wraps</td>\n",
       "      <td>29.0</td>\n",
       "      <td>24-34</td>\n",
       "      <td>Elite Pro Open</td>\n",
       "      <td>105.6</td>\n",
       "      <td>110</td>\n",
       "      <td>320.0</td>\n",
       "      <td>...</td>\n",
       "      <td>520.65</td>\n",
       "      <td>817.36</td>\n",
       "      <td>NaN</td>\n",
       "      <td>NaN</td>\n",
       "      <td>WPU-RUS</td>\n",
       "      <td>2019-02-23</td>\n",
       "      <td>Russia</td>\n",
       "      <td>NaN</td>\n",
       "      <td>Metropolis Tournament</td>\n",
       "      <td>2019</td>\n",
       "    </tr>\n",
       "    <tr>\n",
       "      <th>1019861</th>\n",
       "      <td>Oleksii Melnyk</td>\n",
       "      <td>M</td>\n",
       "      <td>SBD</td>\n",
       "      <td>Wraps</td>\n",
       "      <td>29.0</td>\n",
       "      <td>24-34</td>\n",
       "      <td>Elite Pro Open</td>\n",
       "      <td>88.7</td>\n",
       "      <td>90</td>\n",
       "      <td>330.0</td>\n",
       "      <td>...</td>\n",
       "      <td>558.03</td>\n",
       "      <td>897.74</td>\n",
       "      <td>NaN</td>\n",
       "      <td>Ukraine</td>\n",
       "      <td>WPU-RUS</td>\n",
       "      <td>2019-02-23</td>\n",
       "      <td>Russia</td>\n",
       "      <td>NaN</td>\n",
       "      <td>Metropolis Tournament</td>\n",
       "      <td>2019</td>\n",
       "    </tr>\n",
       "    <tr>\n",
       "      <th>1019860</th>\n",
       "      <td>Evgeniy Gansh</td>\n",
       "      <td>M</td>\n",
       "      <td>SBD</td>\n",
       "      <td>Wraps</td>\n",
       "      <td>26.0</td>\n",
       "      <td>24-34</td>\n",
       "      <td>Elite Pro Open</td>\n",
       "      <td>74.7</td>\n",
       "      <td>75</td>\n",
       "      <td>-240.0</td>\n",
       "      <td>...</td>\n",
       "      <td>428.58</td>\n",
       "      <td>667.00</td>\n",
       "      <td>NaN</td>\n",
       "      <td>Russia</td>\n",
       "      <td>WPU-RUS</td>\n",
       "      <td>2019-02-23</td>\n",
       "      <td>Russia</td>\n",
       "      <td>NaN</td>\n",
       "      <td>Metropolis Tournament</td>\n",
       "      <td>2019</td>\n",
       "    </tr>\n",
       "  </tbody>\n",
       "</table>\n",
       "<p>9 rows × 38 columns</p>\n",
       "</div>"
      ],
      "text/plain": [
       "                       Name Sex Event Equipment   Age AgeClass  \\\n",
       "1019868      Ivan Ryabenkov   M   SBD     Wraps  23.0    20-23   \n",
       "1019867       Sergey Odegov   M   SBD     Wraps  42.0    40-44   \n",
       "1019866   Aleksandr Lugovoy   M   SBD     Wraps  23.0    20-23   \n",
       "1019865       Nizami Tagiev   M   SBD     Wraps  27.0    24-34   \n",
       "1019864  Vladimir Marchenko   M   SBD     Wraps  34.0    24-34   \n",
       "1019863  Konstantin Morozov   M   SBD     Wraps  34.0    24-34   \n",
       "1019862    Sergey Akhlestin   M   SBD     Wraps  29.0    24-34   \n",
       "1019861      Oleksii Melnyk   M   SBD     Wraps  29.0    24-34   \n",
       "1019860       Evgeniy Gansh   M   SBD     Wraps  26.0    24-34   \n",
       "\n",
       "               Division  BodyweightKg WeightClassKg  Squat1Kg  ...  \\\n",
       "1019868  Elite Pro Open         144.0          140+     385.0  ...   \n",
       "1019867  Elite Pro Open         131.8           140     315.0  ...   \n",
       "1019866  Elite Pro Open         136.0           140     320.0  ...   \n",
       "1019865  Elite Pro Open         114.1           125     290.0  ...   \n",
       "1019864  Elite Pro Open         124.0           125     340.0  ...   \n",
       "1019863  Elite Pro Open         124.7           125     280.0  ...   \n",
       "1019862  Elite Pro Open         105.6           110     320.0  ...   \n",
       "1019861  Elite Pro Open          88.7            90     330.0  ...   \n",
       "1019860  Elite Pro Open          74.7            75    -240.0  ...   \n",
       "\n",
       "         Glossbrenner  IPFPoints  Tested  Country  Federation       Date  \\\n",
       "1019868        516.07     750.29     NaN   Russia     WPU-RUS 2019-02-23   \n",
       "1019867        474.41     700.85     NaN   Russia     WPU-RUS 2019-02-23   \n",
       "1019866        497.87     733.12     NaN   Russia     WPU-RUS 2019-02-23   \n",
       "1019865        501.26     772.48     NaN   Russia     WPU-RUS 2019-02-23   \n",
       "1019864        507.18     767.53     NaN   Russia     WPU-RUS 2019-02-23   \n",
       "1019863        517.32     783.43     NaN   Russia     WPU-RUS 2019-02-23   \n",
       "1019862        520.65     817.36     NaN      NaN     WPU-RUS 2019-02-23   \n",
       "1019861        558.03     897.74     NaN  Ukraine     WPU-RUS 2019-02-23   \n",
       "1019860        428.58     667.00     NaN   Russia     WPU-RUS 2019-02-23   \n",
       "\n",
       "         MeetCountry  MeetState               MeetName  Year  \n",
       "1019868       Russia        NaN  Metropolis Tournament  2019  \n",
       "1019867       Russia        NaN  Metropolis Tournament  2019  \n",
       "1019866       Russia        NaN  Metropolis Tournament  2019  \n",
       "1019865       Russia        NaN  Metropolis Tournament  2019  \n",
       "1019864       Russia        NaN  Metropolis Tournament  2019  \n",
       "1019863       Russia        NaN  Metropolis Tournament  2019  \n",
       "1019862       Russia        NaN  Metropolis Tournament  2019  \n",
       "1019861       Russia        NaN  Metropolis Tournament  2019  \n",
       "1019860       Russia        NaN  Metropolis Tournament  2019  \n",
       "\n",
       "[9 rows x 38 columns]"
      ]
     },
     "execution_count": 164,
     "metadata": {},
     "output_type": "execute_result"
    }
   ],
   "source": [
    "elite_df"
   ]
  },
  {
   "cell_type": "code",
   "execution_count": 171,
   "id": "5edc4f09",
   "metadata": {},
   "outputs": [
    {
     "data": {
      "text/plain": [
       "<matplotlib.collections.PathCollection at 0x7fa02ecc6750>"
      ]
     },
     "execution_count": 171,
     "metadata": {},
     "output_type": "execute_result"
    },
    {
     "data": {
      "image/png": "[encoded data removed]",
      "text/plain": [
       "<Figure size 432x288 with 1 Axes>"
      ]
     },
     "metadata": {
      "needs_background": "light"
     },
     "output_type": "display_data"
    }
   ],
   "source": [
    "plt.scatter(elite_df['Age'], elite_df['TotalKg'] )"
   ]
  },
  {
   "cell_type": "code",
   "execution_count": null,
   "id": "fef5df3b",
   "metadata": {},
   "outputs": [],
   "source": []
  }
 ],
 "metadata": {
  "kernelspec": {
   "display_name": "PythonData",
   "language": "python",
   "name": "pythondata"
  },
  "language_info": {
   "codemirror_mode": {
    "name": "ipython",
    "version": 3
   },
   "file_extension": ".py",
   "mimetype": "text/x-python",
   "name": "python",
   "nbconvert_exporter": "python",
   "pygments_lexer": "ipython3",
   "version": "3.7.13"
  }
 },
 "nbformat": 4,
 "nbformat_minor": 5
}
